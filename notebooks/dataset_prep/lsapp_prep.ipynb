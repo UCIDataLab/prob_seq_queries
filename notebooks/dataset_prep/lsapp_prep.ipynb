{
 "cells": [
  {
   "cell_type": "code",
   "execution_count": 2,
   "metadata": {},
   "outputs": [],
   "source": [
    "%load_ext autoreload\n",
    "%autoreload 2\n",
    "import matplotlib.pyplot as plt\n",
    "import seaborn as sns\n",
    "import os\n",
    "import pandas as pd\n",
    "import sys\n",
    "import numpy as np\n",
    "import glob\n",
    "import torch\n",
    "\n",
    "sys.path.insert(1,\"/home/showalte/research/prob_seq_queries/\")\n",
    "from seq_queries.utils import read_pkl, write_pkl\n",
    "from seq_queries.data import *"
   ]
  },
  {
   "cell_type": "code",
   "execution_count": 3,
   "metadata": {},
   "outputs": [],
   "source": [
    "df, vocab = prepare_mobile_app_data_by_user('../../data/apps/lsapp.tsv',15)"
   ]
  },
  {
   "cell_type": "code",
   "execution_count": 13,
   "metadata": {},
   "outputs": [],
   "source": [
    "cnts = np.unique(data,return_counts = True)"
   ]
  },
  {
   "cell_type": "code",
   "execution_count": 6,
   "metadata": {},
   "outputs": [],
   "source": [
    "data = np.array(df)"
   ]
  },
  {
   "cell_type": "code",
   "execution_count": 15,
   "metadata": {},
   "outputs": [],
   "source": []
  },
  {
   "cell_type": "code",
   "execution_count": 18,
   "metadata": {},
   "outputs": [],
   "source": [
    "cnts = [cnts[0][0], cnts[1][0]]"
   ]
  },
  {
   "cell_type": "code",
   "execution_count": 22,
   "metadata": {},
   "outputs": [],
   "source": [
    "new_cnts.sort(key = lambda item: item[1], reverse=True)"
   ]
  },
  {
   "cell_type": "code",
   "execution_count": 23,
   "metadata": {},
   "outputs": [
    {
     "data": {
      "text/plain": [
       "[('Facebook', 7579565),\n",
       " ('Google Chrome', 4808567),\n",
       " ('Facebook Messenger', 3559963),\n",
       " ('Google', 3144866),\n",
       " ('Twitter', 2793944),\n",
       " ('Messages', 2356451),\n",
       " ('Instagram', 1888613),\n",
       " ('Reddit', 1844606),\n",
       " ('Swagbucks Watch (TV)', 1605846),\n",
       " ('Gmail', 1605023),\n",
       " ('WhatsApp Messenger', 1438127),\n",
       " ('Settings', 1350706),\n",
       " ('Verizon Messages', 1295973),\n",
       " ('Google Play Store', 1234015),\n",
       " ('Contacts', 988511),\n",
       " ('Phone', 969351),\n",
       " ('Telegram', 889252),\n",
       " ('Slidejoy', 748553),\n",
       " ('YouTube', 740648),\n",
       " ('Messaging', 707231),\n",
       " ('Samsung Internet Browser', 627971),\n",
       " ('Lucktastic', 467281),\n",
       " ('Maps', 454192),\n",
       " ('Samsung Email', 441105),\n",
       " ('Android In Call UI', 437935),\n",
       " ('Hangouts', 425379),\n",
       " ('WeChat', 412630),\n",
       " ('AOL', 380359),\n",
       " ('Telegram X', 356034),\n",
       " ('Movie Play Box', 336330),\n",
       " ('Swagbucks', 327360),\n",
       " ('Amazon Shopping', 325959),\n",
       " ('Samsung Gallery', 318086),\n",
       " ('OfferUp', 303240),\n",
       " ('Camera', 302582),\n",
       " ('SurveyCow', 293500),\n",
       " ('Quora', 292431),\n",
       " ('Microsoft Bing Search', 267450),\n",
       " ('Calendar', 253621),\n",
       " ('S’more', 253101),\n",
       " ('eBay', 239858),\n",
       " ('Snapchat', 234428),\n",
       " ('Yahoo Mail', 220476),\n",
       " ('MAX Cleaner', 220065),\n",
       " ('Reward Stash', 218703),\n",
       " ('Robinhood', 217872),\n",
       " ('Microsoft Outlook', 217724),\n",
       " ('The PCH App', 215010),\n",
       " ('Spotify Music', 209481),\n",
       " ('Pandora Music', 188445),\n",
       " ('PayPal Mobile Cash', 188110),\n",
       " ('Google Play Music', 185085),\n",
       " ('Google Drive', 182474),\n",
       " ('Army Men Strike', 177186),\n",
       " ('Clock', 170690),\n",
       " ('Faceu', 168584),\n",
       " ('Google Photos', 157504),\n",
       " ('Calorie Counter', 157018),\n",
       " ('Calculator', 150720),\n",
       " ('MetroZone', 141983),\n",
       " ('Samsung Pay', 133467),\n",
       " ('EntertaiNow', 133050),\n",
       " ('Podcast Addict', 132421),\n",
       " ('Receipt Hog', 132072),\n",
       " ('Pinterest', 125054),\n",
       " ('Walmart', 123134),\n",
       " ('DigiHUD Pro Speedometer', 120570),\n",
       " ('Minesweeper Classic (Mines)', 116932),\n",
       " ('Words With Friends 2', 113513),\n",
       " ('Netflix', 111901),\n",
       " ('Ibotta', 108476),\n",
       " ('Discord', 107887),\n",
       " ('imo', 104979),\n",
       " ('MUIQ Survey App', 104752),\n",
       " ('Badoo', 104445),\n",
       " ('Hulu', 77688),\n",
       " ('Messenger Lite', 57739),\n",
       " ('Samsung Notes', 51391),\n",
       " ('Clean Master', 49028),\n",
       " ('Baseball Boy!', 35490),\n",
       " ('Flipboard Briefing', 24778),\n",
       " ('Kik', 18270),\n",
       " ('TextNow', 14115),\n",
       " ('Pixlr', 3135),\n",
       " ('Text One', 720),\n",
       " ('Flickr', 360),\n",
       " ('Brave Browser', 330)]"
      ]
     },
     "execution_count": 23,
     "metadata": {},
     "output_type": "execute_result"
    }
   ],
   "source": [
    "new_cnts"
   ]
  },
  {
   "cell_type": "code",
   "execution_count": 20,
   "metadata": {},
   "outputs": [
    {
     "data": {
      "text/plain": [
       "[('AOL', 380359),\n",
       " ('Amazon Shopping', 325959),\n",
       " ('Android In Call UI', 437935),\n",
       " ('Army Men Strike', 177186),\n",
       " ('Badoo', 104445),\n",
       " ('Baseball Boy!', 35490),\n",
       " ('Brave Browser', 330),\n",
       " ('Calculator', 150720),\n",
       " ('Calendar', 253621),\n",
       " ('Calorie Counter', 157018),\n",
       " ('Camera', 302582),\n",
       " ('Clean Master', 49028),\n",
       " ('Clock', 170690),\n",
       " ('Contacts', 988511),\n",
       " ('DigiHUD Pro Speedometer', 120570),\n",
       " ('Discord', 107887),\n",
       " ('EntertaiNow', 133050),\n",
       " ('Facebook', 7579565),\n",
       " ('Facebook Messenger', 3559963),\n",
       " ('Faceu', 168584),\n",
       " ('Flickr', 360),\n",
       " ('Flipboard Briefing', 24778),\n",
       " ('Gmail', 1605023),\n",
       " ('Google', 3144866),\n",
       " ('Google Chrome', 4808567),\n",
       " ('Google Drive', 182474),\n",
       " ('Google Photos', 157504),\n",
       " ('Google Play Music', 185085),\n",
       " ('Google Play Store', 1234015),\n",
       " ('Hangouts', 425379),\n",
       " ('Hulu', 77688),\n",
       " ('Ibotta', 108476),\n",
       " ('Instagram', 1888613),\n",
       " ('Kik', 18270),\n",
       " ('Lucktastic', 467281),\n",
       " ('MAX Cleaner', 220065),\n",
       " ('MUIQ Survey App', 104752),\n",
       " ('Maps', 454192),\n",
       " ('Messages', 2356451),\n",
       " ('Messaging', 707231),\n",
       " ('Messenger Lite', 57739),\n",
       " ('MetroZone', 141983),\n",
       " ('Microsoft Bing Search', 267450),\n",
       " ('Microsoft Outlook', 217724),\n",
       " ('Minesweeper Classic (Mines)', 116932),\n",
       " ('Movie Play Box', 336330),\n",
       " ('Netflix', 111901),\n",
       " ('OfferUp', 303240),\n",
       " ('Pandora Music', 188445),\n",
       " ('PayPal Mobile Cash', 188110),\n",
       " ('Phone', 969351),\n",
       " ('Pinterest', 125054),\n",
       " ('Pixlr', 3135),\n",
       " ('Podcast Addict', 132421),\n",
       " ('Quora', 292431),\n",
       " ('Receipt Hog', 132072),\n",
       " ('Reddit', 1844606),\n",
       " ('Reward Stash', 218703),\n",
       " ('Robinhood', 217872),\n",
       " ('Samsung Email', 441105),\n",
       " ('Samsung Gallery', 318086),\n",
       " ('Samsung Internet Browser', 627971),\n",
       " ('Samsung Notes', 51391),\n",
       " ('Samsung Pay', 133467),\n",
       " ('Settings', 1350706),\n",
       " ('Slidejoy', 748553),\n",
       " ('Snapchat', 234428),\n",
       " ('Spotify Music', 209481),\n",
       " ('SurveyCow', 293500),\n",
       " ('Swagbucks', 327360),\n",
       " ('Swagbucks Watch (TV)', 1605846),\n",
       " ('S’more', 253101),\n",
       " ('Telegram', 889252),\n",
       " ('Telegram X', 356034),\n",
       " ('Text One', 720),\n",
       " ('TextNow', 14115),\n",
       " ('The PCH App', 215010),\n",
       " ('Twitter', 2793944),\n",
       " ('Verizon Messages', 1295973),\n",
       " ('Walmart', 123134),\n",
       " ('WeChat', 412630),\n",
       " ('WhatsApp Messenger', 1438127),\n",
       " ('Words With Friends 2', 113513),\n",
       " ('Yahoo Mail', 220476),\n",
       " ('YouTube', 740648),\n",
       " ('eBay', 239858),\n",
       " ('imo', 104979)]"
      ]
     },
     "execution_count": 20,
     "metadata": {},
     "output_type": "execute_result"
    }
   ],
   "source": [
    "new_cnts = list(zip(cnts[0].tolist(),cnts[1].tolist()))\n",
    "new_cnts"
   ]
  },
  {
   "cell_type": "code",
   "execution_count": 9,
   "metadata": {},
   "outputs": [
    {
     "name": "stderr",
     "output_type": "stream",
     "text": [
      "<ipython-input-9-b4e3c27b1cfd>:3: FutureWarning: elementwise comparison failed; returning scalar instead, but in the future will perform elementwise comparison\n",
      "  cnts.append((data == i).astype(int).sum())\n"
     ]
    },
    {
     "ename": "AttributeError",
     "evalue": "'bool' object has no attribute 'astype'",
     "output_type": "error",
     "traceback": [
      "\u001b[0;31m---------------------------------------------------------------------------\u001b[0m",
      "\u001b[0;31mAttributeError\u001b[0m                            Traceback (most recent call last)",
      "\u001b[0;32m<ipython-input-9-b4e3c27b1cfd>\u001b[0m in \u001b[0;36m<module>\u001b[0;34m\u001b[0m\n\u001b[1;32m      1\u001b[0m \u001b[0mcnts\u001b[0m \u001b[0;34m=\u001b[0m \u001b[0;34m[\u001b[0m\u001b[0;34m]\u001b[0m\u001b[0;34m\u001b[0m\u001b[0;34m\u001b[0m\u001b[0m\n\u001b[1;32m      2\u001b[0m \u001b[0;32mfor\u001b[0m \u001b[0mi\u001b[0m \u001b[0;32min\u001b[0m \u001b[0mrange\u001b[0m\u001b[0;34m(\u001b[0m\u001b[0;36m88\u001b[0m\u001b[0;34m)\u001b[0m\u001b[0;34m:\u001b[0m\u001b[0;34m\u001b[0m\u001b[0;34m\u001b[0m\u001b[0m\n\u001b[0;32m----> 3\u001b[0;31m     \u001b[0mcnts\u001b[0m\u001b[0;34m.\u001b[0m\u001b[0mappend\u001b[0m\u001b[0;34m(\u001b[0m\u001b[0;34m(\u001b[0m\u001b[0mdata\u001b[0m \u001b[0;34m==\u001b[0m \u001b[0mi\u001b[0m\u001b[0;34m)\u001b[0m\u001b[0;34m.\u001b[0m\u001b[0mastype\u001b[0m\u001b[0;34m(\u001b[0m\u001b[0mint\u001b[0m\u001b[0;34m)\u001b[0m\u001b[0;34m.\u001b[0m\u001b[0msum\u001b[0m\u001b[0;34m(\u001b[0m\u001b[0;34m)\u001b[0m\u001b[0;34m)\u001b[0m\u001b[0;34m\u001b[0m\u001b[0;34m\u001b[0m\u001b[0m\n\u001b[0m\u001b[1;32m      4\u001b[0m \u001b[0;34m\u001b[0m\u001b[0m\n",
      "\u001b[0;31mAttributeError\u001b[0m: 'bool' object has no attribute 'astype'"
     ]
    }
   ],
   "source": [
    "# cnts = []\n",
    "# for i in range(88):\n",
    "#     cnts.append((data == i).astype(int).sum())\n",
    "    "
   ]
  },
  {
   "cell_type": "code",
   "execution_count": null,
   "metadata": {},
   "outputs": [],
   "source": [
    "plt.bar(range(cnts),cnts)"
   ]
  },
  {
   "cell_type": "code",
   "execution_count": 2,
   "metadata": {},
   "outputs": [],
   "source": [
    "os.chdir(\"../\")\n",
    "df = pd.read_csv('data/lsapp.tsv', sep='\\t')\n",
    "df_open = df.loc[df['event_type'] == 'Opened']"
   ]
  },
  {
   "cell_type": "code",
   "execution_count": 3,
   "metadata": {},
   "outputs": [
    {
     "name": "stderr",
     "output_type": "stream",
     "text": [
      "<ipython-input-3-6cb7748109c4>:1: SettingWithCopyWarning: \n",
      "A value is trying to be set on a copy of a slice from a DataFrame.\n",
      "Try using .loc[row_indexer,col_indexer] = value instead\n",
      "\n",
      "See the caveats in the documentation: https://pandas.pydata.org/pandas-docs/stable/user_guide/indexing.html#returning-a-view-versus-a-copy\n",
      "  df_open.loc[:,'timestamp'] = pd.to_datetime(df_open['timestamp'])\n"
     ]
    }
   ],
   "source": [
    "df_open.loc[:,'timestamp'] = pd.to_datetime(df_open['timestamp'])\n",
    "df.loc[:,'timestamp'] = pd.to_datetime(df['timestamp'])"
   ]
  },
  {
   "cell_type": "code",
   "execution_count": 7,
   "metadata": {},
   "outputs": [
    {
     "name": "stdout",
     "output_type": "stream",
     "text": [
      "Index(['user_id', 'session_id', 'timestamp', 'app_name', 'event_type'], dtype='object')\n"
     ]
    }
   ],
   "source": [
    "df.head()\n",
    "df = df.sort_values(by=['user_id',\n",
    "                        'session_id',\n",
    "                        'timestamp',\n",
    "                        'event_type'])\n",
    "# df.head()\n",
    "print(df.columns)\n",
    "ndf = df.loc[:,['user_id','session_id','app_name']].values\n",
    "# df\n",
    "                    \n",
    "    \n",
    "# df.user_id.drop_duplicates()\n",
    "# df.shape"
   ]
  },
  {
   "cell_type": "code",
   "execution_count": 26,
   "metadata": {},
   "outputs": [
    {
     "name": "stderr",
     "output_type": "stream",
     "text": [
      "100%|██████████| 3658589/3658589 [00:03<00:00, 1003889.07it/s]"
     ]
    },
    {
     "name": "stdout",
     "output_type": "stream",
     "text": [
      "[2, 6, 12, 22, 22, 26, 34, 40, 41, 42, 49, 60, 84, 87, 110, 120, 121, 145, 158, 167, 173, 176, 186, 190, 194, 196, 196, 214, 225, 237, 242, 250, 253, 284, 290, 290, 295, 298, 307, 330, 358, 363, 363, 366, 376, 411, 420, 427, 461, 462, 465, 466, 474, 508, 515, 516, 519, 525, 537, 547, 547, 554, 559, 561, 612, 616, 657, 685, 709, 710, 742, 754, 758, 771, 784, 797, 807, 825, 849, 906, 928, 934, 945, 974, 992, 1010, 1024, 1063, 1095, 1110, 1145, 1148, 1173, 1190, 1196, 1197, 1215, 1240, 1261, 1278, 1299, 1369, 1374, 1387, 1392, 1436, 1496, 1557, 1560, 1570, 1576, 1604, 1660, 1727, 1768, 1841, 1852, 1853, 1901, 1963, 2135, 2204, 2244, 2250, 2270, 2319, 2331, 2368, 2420, 2470, 2505, 2518, 2518, 2571, 2579, 2667, 2811, 2819, 2919, 2922, 2947, 2961, 3025, 3116, 3192, 3249, 3318, 3332, 3362, 3381, 3414, 3424, 3451, 3486, 3525, 3620, 3627, 3817, 3830, 3909, 4098, 4118, 4152, 4166, 4247, 4251, 4264, 4401, 4475, 4496, 4577, 4585, 4621, 4790, 5053, 5117, 5147, 5195, 5269, 5292, 5431, 5487, 5580, 5687, 5718, 5728, 5775, 5950, 5953, 5974, 6131, 6182, 6260, 6406, 6447, 6500, 6978, 7504, 7514, 7515, 7547, 7585, 7671, 7869, 7925, 7943, 8193, 8554, 8575, 8629, 8782, 9107, 9148, 9327, 9337, 9492, 9863, 9993, 10243, 10735, 10798, 11120, 11392, 11419, 11425, 11749, 11989, 12256, 12858, 13933, 14928, 14940, 15241, 15808, 15863, 16235, 16510, 16647, 17159, 17391, 17702, 17705, 17729, 17811, 18486, 19017, 19780, 20027, 21234, 21261, 21628, 22240, 25919, 27884, 28751, 31586, 31757, 32036, 32597, 32891, 33414, 35449, 35548, 35944, 42765, 42878, 43506, 43621, 44948, 49091, 49237, 51880, 51945, 54389, 55544, 57553, 66597, 73389, 74422, 79444, 79882, 99453, 100091, 106215, 107361, 119990, 120665, 125440, 126107, 141386, 156245]\n"
     ]
    },
    {
     "name": "stderr",
     "output_type": "stream",
     "text": [
      "\n"
     ]
    }
   ],
   "source": [
    "def read_mobile_app_data(data_path):\n",
    "    df = pd.read_csv(data_path, sep='\\t')\n",
    "    df.loc[:,'timestamp'] = pd.to_datetime(df['timestamp'])\n",
    "    df = df.sort_values(by=['user_id',\n",
    "                        'session_id',\n",
    "                        'timestamp'])\n",
    "    return df.loc[:,['user_id','session_id','app_name']].values\n",
    "\n",
    "def stratify_app_data_by_user(df):\n",
    "    seqs = []; curr_seq = []\n",
    "    curr_user, curr_session, token = df[0]\n",
    "    curr_seq.append(token)\n",
    "    for i in tqdm(range(df.shape[0])):\n",
    "        user, session,token = df[i]\n",
    "        # New user and new session\n",
    "        if user != curr_user:\n",
    "            curr_user = user\n",
    "            seqs.append(curr_seq)\n",
    "            curr_seq = []\n",
    "        # Just a new session, same user\n",
    "        elif session != curr_session:\n",
    "            curr_session = session\n",
    "        curr_seq.append(token)\n",
    "    \n",
    "    return seqs\n",
    "    \n",
    "def get_app_sequences(df_list,\n",
    "                      seq_len,\n",
    "):\n",
    "    flat_seqs = []\n",
    "    for user_data in df_list:\n",
    "        if len(user_data) < seq_len:\n",
    "            continue\n",
    "        for i in range(seq_len,len(user_data),1):\n",
    "            flat_seqs.append(user_data[i-seq_len,i])\n",
    "    return flat_seqs\n",
    "\n",
    "def prepare_mobile_app_data_by_user(\n",
    "    data_path,\n",
    "    seq_len,\n",
    "):\n",
    "    \n",
    "    df = read_mobile_app_data(data_path)\n",
    "    df_list = stratify_app_data_by_user(df)\n",
    "    df_sequences = get_app_sequences(df_list)\n",
    "    return df_sequences\n",
    "    \n",
    "sequences = prepare_mobile_app_data_by_user(ndf)\n",
    "print(sorted([len(s) for s in sequences]))"
   ]
  },
  {
   "cell_type": "code",
   "execution_count": 11,
   "metadata": {},
   "outputs": [],
   "source": [
    "# print(sequences[0])"
   ]
  },
  {
   "cell_type": "code",
   "execution_count": 13,
   "metadata": {},
   "outputs": [
    {
     "name": "stderr",
     "output_type": "stream",
     "text": [
      "<ipython-input-13-ae8a15f1f18d>:13: SettingWithCopyWarning: \n",
      "A value is trying to be set on a copy of a slice from a DataFrame.\n",
      "Try using .loc[row_indexer,col_indexer] = value instead\n",
      "\n",
      "See the caveats in the documentation: https://pandas.pydata.org/pandas-docs/stable/user_guide/indexing.html#returning-a-view-versus-a-copy\n",
      "  df_start.loc[:, 'open_time'] = df_start['timestamp']\n",
      "<ipython-input-13-ae8a15f1f18d>:14: SettingWithCopyWarning: \n",
      "A value is trying to be set on a copy of a slice from a DataFrame.\n",
      "Try using .loc[row_indexer,col_indexer] = value instead\n",
      "\n",
      "See the caveats in the documentation: https://pandas.pydata.org/pandas-docs/stable/user_guide/indexing.html#returning-a-view-versus-a-copy\n",
      "  df_start.loc[:, 'close_time']  = df_end['timestamp']\n"
     ]
    }
   ],
   "source": [
    "df['time_dff']  = df[['timestamp']].diff()\n",
    "df['interaction_id'] = (((df.timestamp-df.timestamp.shift(1) > pd.Timedelta(1, 'm')) \n",
    "                              & (df.event_type == 'Opened')) \n",
    "                              | ~(df.app_name == df.app_name.shift(1))\n",
    "                              | ~(df.user_id == df.user_id.shift(1))).cumsum()\n",
    "df['session_id'] = (((df.timestamp-df.timestamp.shift(1) > pd.Timedelta(5, 'm')) \n",
    "                              & (df.event_type == 'Opened')) \n",
    "                              | ~(df.user_id == df.user_id.shift(1))).cumsum()\n",
    "df_start = df.drop_duplicates(subset=['interaction_id'], keep='first')\n",
    "df_end = df.drop_duplicates(subset=['interaction_id'], keep='last')\n",
    "df_start.set_index('interaction_id', inplace=True)\n",
    "df_end.set_index('interaction_id', inplace=True)\n",
    "df_start.loc[:, 'open_time'] = df_start['timestamp']\n",
    "df_start.loc[:, 'close_time']  = df_end['timestamp']"
   ]
  },
  {
   "cell_type": "code",
   "execution_count": 17,
   "metadata": {},
   "outputs": [
    {
     "data": {
      "text/html": [
       "<div>\n",
       "<style scoped>\n",
       "    .dataframe tbody tr th:only-of-type {\n",
       "        vertical-align: middle;\n",
       "    }\n",
       "\n",
       "    .dataframe tbody tr th {\n",
       "        vertical-align: top;\n",
       "    }\n",
       "\n",
       "    .dataframe thead th {\n",
       "        text-align: right;\n",
       "    }\n",
       "</style>\n",
       "<table border=\"1\" class=\"dataframe\">\n",
       "  <thead>\n",
       "    <tr style=\"text-align: right;\">\n",
       "      <th></th>\n",
       "      <th>user_id</th>\n",
       "      <th>session_id</th>\n",
       "      <th>timestamp</th>\n",
       "      <th>app_name</th>\n",
       "      <th>time_dff</th>\n",
       "      <th>open_time</th>\n",
       "      <th>close_time</th>\n",
       "    </tr>\n",
       "    <tr>\n",
       "      <th>event_type</th>\n",
       "      <th></th>\n",
       "      <th></th>\n",
       "      <th></th>\n",
       "      <th></th>\n",
       "      <th></th>\n",
       "      <th></th>\n",
       "      <th></th>\n",
       "    </tr>\n",
       "  </thead>\n",
       "  <tbody>\n",
       "    <tr>\n",
       "      <th>Broken</th>\n",
       "      <td>259</td>\n",
       "      <td>259</td>\n",
       "      <td>259</td>\n",
       "      <td>259</td>\n",
       "      <td>259</td>\n",
       "      <td>259</td>\n",
       "      <td>259</td>\n",
       "    </tr>\n",
       "    <tr>\n",
       "      <th>Closed</th>\n",
       "      <td>146261</td>\n",
       "      <td>146261</td>\n",
       "      <td>146261</td>\n",
       "      <td>146261</td>\n",
       "      <td>146261</td>\n",
       "      <td>146261</td>\n",
       "      <td>146261</td>\n",
       "    </tr>\n",
       "    <tr>\n",
       "      <th>Opened</th>\n",
       "      <td>359143</td>\n",
       "      <td>359143</td>\n",
       "      <td>359143</td>\n",
       "      <td>359143</td>\n",
       "      <td>359142</td>\n",
       "      <td>359143</td>\n",
       "      <td>359143</td>\n",
       "    </tr>\n",
       "    <tr>\n",
       "      <th>User Interaction</th>\n",
       "      <td>93972</td>\n",
       "      <td>93972</td>\n",
       "      <td>93972</td>\n",
       "      <td>93972</td>\n",
       "      <td>93972</td>\n",
       "      <td>93972</td>\n",
       "      <td>93972</td>\n",
       "    </tr>\n",
       "  </tbody>\n",
       "</table>\n",
       "</div>"
      ],
      "text/plain": [
       "                  user_id  session_id  timestamp  app_name  time_dff  \\\n",
       "event_type                                                             \n",
       "Broken                259         259        259       259       259   \n",
       "Closed             146261      146261     146261    146261    146261   \n",
       "Opened             359143      359143     359143    359143    359142   \n",
       "User Interaction    93972       93972      93972     93972     93972   \n",
       "\n",
       "                  open_time  close_time  \n",
       "event_type                               \n",
       "Broken                  259         259  \n",
       "Closed               146261      146261  \n",
       "Opened               359143      359143  \n",
       "User Interaction      93972       93972  "
      ]
     },
     "execution_count": 17,
     "metadata": {},
     "output_type": "execute_result"
    }
   ],
   "source": [
    "df_start.groupby('event_type').count()"
   ]
  },
  {
   "cell_type": "code",
   "execution_count": null,
   "metadata": {},
   "outputs": [],
   "source": []
  }
 ],
 "metadata": {
  "kernelspec": {
   "display_name": "nlp_env",
   "language": "python",
   "name": "nlpenv"
  },
  "language_info": {
   "codemirror_mode": {
    "name": "ipython",
    "version": 3
   },
   "file_extension": ".py",
   "mimetype": "text/x-python",
   "name": "python",
   "nbconvert_exporter": "python",
   "pygments_lexer": "ipython3",
   "version": "3.8.8"
  }
 },
 "nbformat": 4,
 "nbformat_minor": 4
}
