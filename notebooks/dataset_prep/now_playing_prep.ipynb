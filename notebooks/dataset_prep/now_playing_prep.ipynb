{
 "cells": [
  {
   "cell_type": "code",
   "execution_count": 2,
   "id": "95f4004e-4ded-46e2-936e-52df9dcdbb8e",
   "metadata": {},
   "outputs": [],
   "source": [
    "%load_ext autoreload\n",
    "%autoreload 2\n",
    "import matplotlib.pyplot as plt\n",
    "import seaborn as sns\n",
    "import os\n",
    "import pandas as pd\n",
    "import sys\n",
    "import numpy as np\n",
    "import glob\n",
    "import torch\n",
    "\n",
    "sys.path.insert(1,\"/home/showalte/research/prob_seq_queries/\")\n",
    "from seq_queries.utils import read_pkl, write_pkl"
   ]
  },
  {
   "cell_type": "code",
   "execution_count": 6,
   "id": "77527e9d-64c4-40fa-9cc2-1eba3f1c5932",
   "metadata": {},
   "outputs": [
    {
     "name": "stdout",
     "output_type": "stream",
     "text": [
      "['sentiment_values.csv', 'user_track_hashtag_timestamp.csv', 'context_content_features.csv']\n"
     ]
    }
   ],
   "source": [
    "data_path = \"/srv/disk00/samshow/data/now_playing\"\n",
    "print(os.listdir(data_path))"
   ]
  },
  {
   "cell_type": "code",
   "execution_count": 7,
   "id": "3eaf4a98-e8a1-42b6-a7f8-f9e7c09cf139",
   "metadata": {},
   "outputs": [],
   "source": [
    "df = pd.read_csv(f\"{data_path}/user_track_hashtag_timestamp.csv\")\n",
    "df['hashtag'] = df.hashtag.str.lower()"
   ]
  },
  {
   "cell_type": "code",
   "execution_count": 82,
   "id": "9070225e-339e-4ed9-8789-72ec1c78b289",
   "metadata": {},
   "outputs": [
    {
     "data": {
      "text/plain": [
       "(3034111, 4)"
      ]
     },
     "execution_count": 82,
     "metadata": {},
     "output_type": "execute_result"
    }
   ],
   "source": [
    "clean_df = df[df.hashtag.isin(kept_hashs)]\n",
    "clean_df.shape"
   ]
  },
  {
   "cell_type": "code",
   "execution_count": 77,
   "id": "4058f448-17c9-4092-bd2f-0c862aa1c58d",
   "metadata": {},
   "outputs": [
    {
     "name": "stdout",
     "output_type": "stream",
     "text": [
      "            track_id  hashtag  created_at\n",
      "user_id                                  \n",
      "2293477190    132890   132890      132890\n",
      "2397287988     77692    77692       77692\n",
      "81496937       70574    70574       70574\n",
      "585278571      68273    68273       68273\n",
      "534492902      61499    61499       61499\n"
     ]
    }
   ],
   "source": [
    "# user_behavior = clean_df.groupby('user_id').count().sort_values(by=\"hashtag\",ascending=False)\n",
    "print(user_behavior[user_behavior.track_id > 15].head())"
   ]
  },
  {
   "cell_type": "code",
   "execution_count": 87,
   "id": "11a22a31-3fd7-43fb-954a-786ea34377e1",
   "metadata": {},
   "outputs": [
    {
     "name": "stdout",
     "output_type": "stream",
     "text": [
      "1625\n"
     ]
    }
   ],
   "source": [
    "user_set = set(user_behavior[user_behavior.track_id > 30].index.values)\n",
    "print(len(user_set))"
   ]
  },
  {
   "cell_type": "code",
   "execution_count": 86,
   "id": "50789773-d976-4b9e-992a-1a7341f019ab",
   "metadata": {},
   "outputs": [
    {
     "data": {
      "text/plain": [
       "(2990197, 4)"
      ]
     },
     "execution_count": 86,
     "metadata": {},
     "output_type": "execute_result"
    }
   ],
   "source": [
    "clean_df_users = clean_df[clean_df.user_id.isin(user_set)]\n",
    "clean_df_users.shape"
   ]
  },
  {
   "cell_type": "code",
   "execution_count": 16,
   "id": "ecce4b9d-f130-4eeb-91dc-3b76795a7ec0",
   "metadata": {},
   "outputs": [
    {
     "data": {
      "text/html": [
       "<div>\n",
       "<style scoped>\n",
       "    .dataframe tbody tr th:only-of-type {\n",
       "        vertical-align: middle;\n",
       "    }\n",
       "\n",
       "    .dataframe tbody tr th {\n",
       "        vertical-align: top;\n",
       "    }\n",
       "\n",
       "    .dataframe thead th {\n",
       "        text-align: right;\n",
       "    }\n",
       "</style>\n",
       "<table border=\"1\" class=\"dataframe\">\n",
       "  <thead>\n",
       "    <tr style=\"text-align: right;\">\n",
       "      <th></th>\n",
       "      <th>user_id</th>\n",
       "      <th>track_id</th>\n",
       "      <th>hashtag</th>\n",
       "      <th>created_at</th>\n",
       "    </tr>\n",
       "  </thead>\n",
       "  <tbody>\n",
       "    <tr>\n",
       "      <th>0</th>\n",
       "      <td>81496937</td>\n",
       "      <td>cd52b3e5b51da29e5893dba82a418a4b</td>\n",
       "      <td>nowplaying</td>\n",
       "      <td>2014-01-01 05:54:21</td>\n",
       "    </tr>\n",
       "    <tr>\n",
       "      <th>1</th>\n",
       "      <td>81496937</td>\n",
       "      <td>cd52b3e5b51da29e5893dba82a418a4b</td>\n",
       "      <td>goth</td>\n",
       "      <td>2014-01-01 05:54:21</td>\n",
       "    </tr>\n",
       "    <tr>\n",
       "      <th>2</th>\n",
       "      <td>81496937</td>\n",
       "      <td>cd52b3e5b51da29e5893dba82a418a4b</td>\n",
       "      <td>deathrock</td>\n",
       "      <td>2014-01-01 05:54:21</td>\n",
       "    </tr>\n",
       "    <tr>\n",
       "      <th>3</th>\n",
       "      <td>81496937</td>\n",
       "      <td>cd52b3e5b51da29e5893dba82a418a4b</td>\n",
       "      <td>postpunk</td>\n",
       "      <td>2014-01-01 05:54:21</td>\n",
       "    </tr>\n",
       "    <tr>\n",
       "      <th>4</th>\n",
       "      <td>2205686924</td>\n",
       "      <td>da3110a77b724072b08f231c9d6f7534</td>\n",
       "      <td>NowPlaying</td>\n",
       "      <td>2014-01-01 05:54:22</td>\n",
       "    </tr>\n",
       "  </tbody>\n",
       "</table>\n",
       "</div>"
      ],
      "text/plain": [
       "      user_id                          track_id     hashtag  \\\n",
       "0    81496937  cd52b3e5b51da29e5893dba82a418a4b  nowplaying   \n",
       "1    81496937  cd52b3e5b51da29e5893dba82a418a4b        goth   \n",
       "2    81496937  cd52b3e5b51da29e5893dba82a418a4b   deathrock   \n",
       "3    81496937  cd52b3e5b51da29e5893dba82a418a4b    postpunk   \n",
       "4  2205686924  da3110a77b724072b08f231c9d6f7534  NowPlaying   \n",
       "\n",
       "            created_at  \n",
       "0  2014-01-01 05:54:21  \n",
       "1  2014-01-01 05:54:21  \n",
       "2  2014-01-01 05:54:21  \n",
       "3  2014-01-01 05:54:21  \n",
       "4  2014-01-01 05:54:22  "
      ]
     },
     "execution_count": 16,
     "metadata": {},
     "output_type": "execute_result"
    }
   ],
   "source": [
    "df.head()"
   ]
  },
  {
   "cell_type": "code",
   "execution_count": 59,
   "id": "732cd897-7454-47e3-9722-13daa4f21c41",
   "metadata": {},
   "outputs": [
    {
     "data": {
      "text/plain": [
       "61.0"
      ]
     },
     "execution_count": 59,
     "metadata": {},
     "output_type": "execute_result"
    }
   ],
   "source": [
    "# test = df.groupby(['user_id']).count().sort_values(by='hashtag',ascending=False)\n",
    "# test.track_id.head(50)\n",
    "test.track_id[test.track_id > 30].median()"
   ]
  },
  {
   "cell_type": "code",
   "execution_count": 28,
   "id": "3f59ddeb-004a-46ae-aad6-cdc4a6d69437",
   "metadata": {},
   "outputs": [],
   "source": [
    "df['hashtag'] = df.hashtag.str.lower()\n",
    "hashs = df.groupby('hashtag').count()"
   ]
  },
  {
   "cell_type": "code",
   "execution_count": 39,
   "id": "cc6b9873-d4fc-4c28-aedc-5dc422f5efb5",
   "metadata": {},
   "outputs": [
    {
     "data": {
      "text/plain": [
       "(17560113, 4)"
      ]
     },
     "execution_count": 39,
     "metadata": {},
     "output_type": "execute_result"
    }
   ],
   "source": [
    "# hashs.head()\n",
    "df.shape"
   ]
  },
  {
   "cell_type": "code",
   "execution_count": 62,
   "id": "edcbc4de-d9d5-45f7-94b1-fcceb3dec620",
   "metadata": {},
   "outputs": [
    {
     "name": "stdout",
     "output_type": "stream",
     "text": [
      "(42412, 3)\n"
     ]
    }
   ],
   "source": [
    "hashs['user_id'] = hashs.user_id.astype(int)\n",
    "print(hashs.shape)\n",
    "# print(hashs.dtypes)\n",
    "hashs = hashs.sort_values(by='user_id',ascending = False)\n",
    "hashs.user_id.head()\n",
    "kept_hashs = hashs[hashs.user_id > 1000]\n",
    "# print(hashs.index.values.tolist())"
   ]
  },
  {
   "cell_type": "code",
   "execution_count": 64,
   "id": "5160255f-e50c-46a7-84fa-e7bfe10c0d5d",
   "metadata": {},
   "outputs": [],
   "source": [
    "kept_hashs = set(kept_hashs.index.values[3:])"
   ]
  },
  {
   "cell_type": "code",
   "execution_count": 66,
   "id": "21d62cae-3ec8-45a5-bce0-55f91d1d26b4",
   "metadata": {},
   "outputs": [],
   "source": [
    "# kept_hashs"
   ]
  },
  {
   "cell_type": "code",
   "execution_count": 18,
   "id": "3b44de44-62e0-4c21-aed4-6b94468dc438",
   "metadata": {},
   "outputs": [
    {
     "name": "stdout",
     "output_type": "stream",
     "text": [
      "          track_id      hashtag\n",
      "count 11017640.000 11017640.000\n",
      "mean         1.594        1.594\n",
      "std          0.882        0.882\n",
      "min          1.000        1.000\n",
      "25%          1.000        1.000\n",
      "50%          1.000        1.000\n",
      "75%          2.000        2.000\n",
      "max         28.000       28.000\n"
     ]
    }
   ],
   "source": [
    "pd.options.display.float_format = '{:.3f}'.format\n",
    "print(test.describe())"
   ]
  },
  {
   "cell_type": "code",
   "execution_count": null,
   "id": "d104e9c0-6b35-4e46-9991-09d1d85a59cf",
   "metadata": {},
   "outputs": [],
   "source": []
  }
 ],
 "metadata": {
  "kernelspec": {
   "display_name": "nlp_env",
   "language": "python",
   "name": "nlpenv"
  },
  "language_info": {
   "codemirror_mode": {
    "name": "ipython",
    "version": 3
   },
   "file_extension": ".py",
   "mimetype": "text/x-python",
   "name": "python",
   "nbconvert_exporter": "python",
   "pygments_lexer": "ipython3",
   "version": "3.8.8"
  }
 },
 "nbformat": 4,
 "nbformat_minor": 5
}
