{
 "cells": [
  {
   "cell_type": "code",
   "execution_count": 1,
   "id": "eb08e495-b849-47cc-a6ac-57a4eec5f2d8",
   "metadata": {},
   "outputs": [],
   "source": [
    "%load_ext autoreload\n",
    "%autoreload 2\n",
    "import matplotlib.pyplot as plt\n",
    "import seaborn as sns\n",
    "import os\n",
    "import pandas as pd\n",
    "import sys\n",
    "import numpy as np\n",
    "import glob\n",
    "import matplotlib\n",
    "import torch\n",
    "\n",
    "sys.path.insert(1,\"/home/showalte/research/prob_seq_queries/\")\n",
    "from seq_queries.utils import read_pkl, write_pkl"
   ]
  },
  {
   "cell_type": "code",
   "execution_count": 2,
   "id": "208eb92b-2844-42dd-8856-baa449b64e59",
   "metadata": {},
   "outputs": [],
   "source": [
    "sampling_methods = [\"importance_sampling\",\"beam_search_is_hybrid\"]\n",
    "lens = [(17,20)]\n",
    "temps = [1]\n",
    "data_paths = \"../data/{}/shakespeare/is_v_hybrid/val-dl_{}_{}h_{}s_{:03}t.pkl\""
   ]
  },
  {
   "cell_type": "code",
   "execution_count": 39,
   "id": "31caf135-6bd3-4b0d-b709-e5d1d0207fba",
   "metadata": {},
   "outputs": [
    {
     "name": "stdout",
     "output_type": "stream",
     "text": [
      "(2287,)\n",
      "torch.Size([2287, 68])\n"
     ]
    }
   ],
   "source": [
    "gt = read_pkl(\"../data/ground_truth/shakespeare/val_dl/val-dl_shakespeare_ground-truth_18h_20s.pkl\")\n",
    "gt_term = torch.gather(gt['dist_lower_bound'],1,gt['excluded_terms'].unsqueeze(-1)).squeeze().numpy()\n",
    "print(gt_term.shape)\n",
    "print(gt['dist_lower_bound'].shape)"
   ]
  },
  {
   "cell_type": "code",
   "execution_count": 9,
   "id": "e93a3bbf-5204-45ea-a7e6-afb0ae57d97d",
   "metadata": {},
   "outputs": [
    {
     "name": "stdout",
     "output_type": "stream",
     "text": [
      "torch.Size([2287, 100, 68])\n",
      "torch.Size([2287, 100])\n"
     ]
    }
   ],
   "source": [
    "print(imp_samp['sample_estimates'].shape)\n",
    "excluded_terms = imp_samp['excluded_terms'].repeat((imp_samp['sample_estimates'].shape[1],1)).T\n",
    "print(excluded_terms.shape)"
   ]
  },
  {
   "cell_type": "code",
   "execution_count": 5,
   "id": "1fd4d71c-667e-40d0-97aa-ff58bac0e1fe",
   "metadata": {},
   "outputs": [],
   "source": [
    "datas = []\n",
    "for h,s in lens:\n",
    "    for t in temps:\n",
    "        data = []\n",
    "        for sampling_method in sampling_methods:\n",
    "            curr_data_path = data_paths.format(sampling_method, sampling_method,h,s,t)\n",
    "            curr_data = read_pkl(curr_data_path)\n",
    "            data.append(curr_data)\n",
    "        datas.append(data)"
   ]
  },
  {
   "cell_type": "code",
   "execution_count": 6,
   "id": "bf719bad-e04a-4035-84dc-a84b05366abc",
   "metadata": {},
   "outputs": [
    {
     "name": "stdout",
     "output_type": "stream",
     "text": [
      "(2287,) (2287,)\n"
     ]
    }
   ],
   "source": [
    "imp_samp, hybrid = datas[-1]\n",
    "imp_data = torch.gather(imp_samp['sample_est_var'],1,imp_samp['excluded_terms'].unsqueeze(-1)).squeeze().numpy()\n",
    "hybrid_data = torch.gather(hybrid['hybrid_var'],1,hybrid['excluded_terms'].unsqueeze(-1)).squeeze().numpy()\n",
    "print(imp_data.shape,hybrid_data.shape)"
   ]
  },
  {
   "cell_type": "code",
   "execution_count": 12,
   "id": "fd91e283-c8a0-42b6-b026-d5d1b72e5616",
   "metadata": {},
   "outputs": [
    {
     "data": {
      "text/plain": [
       "dict_keys(['bs_lower_bound', 'is_estimate', 'hybrid_bs_is_estimate', 'model_runs', 'hybrid_var', 'hybrid_mean', 'num_beams', 'true_coverage', 'restricted_coverage', 'metadata', 'excluded_terms'])"
      ]
     },
     "execution_count": 12,
     "metadata": {},
     "output_type": "execute_result"
    }
   ],
   "source": [
    "hybrid.keys()"
   ]
  },
  {
   "cell_type": "code",
   "execution_count": 30,
   "id": "eabc208c-ca24-49ab-995f-932aa358440b",
   "metadata": {},
   "outputs": [
    {
     "name": "stdout",
     "output_type": "stream",
     "text": [
      "(2287,) (2287,)\n"
     ]
    }
   ],
   "source": [
    "imp_samp, hybrid = datas[-1]\n",
    "excluded_terms = imp_samp['excluded_terms'].repeat((imp_samp['sample_estimates'].shape[1],1)).T\n",
    "imp_data = torch.gather(imp_samp['sample_estimates'].var(dim=1),1,imp_samp['excluded_terms'].unsqueeze(-1)).squeeze().numpy()\n",
    "hybrid_data = torch.gather(hybrid['hybrid_bs_is_estimate'].var(dim=1),1,hybrid['excluded_terms'].unsqueeze(-1)).squeeze().numpy()\n",
    "print(imp_data.shape,hybrid_data.shape)"
   ]
  },
  {
   "cell_type": "code",
   "execution_count": 33,
   "id": "a0519e28-58dd-4d59-a265-fad4c97238ee",
   "metadata": {},
   "outputs": [
    {
     "name": "stdout",
     "output_type": "stream",
     "text": [
      "0.00038501713 0.030616736\n"
     ]
    }
   ],
   "source": [
    "print(hybrid_data.mean(),imp_data.mean())"
   ]
  },
  {
   "cell_type": "code",
   "execution_count": 34,
   "id": "7da69996-8a7e-458f-b216-9ac8802bcf57",
   "metadata": {},
   "outputs": [
    {
     "name": "stdout",
     "output_type": "stream",
     "text": [
      "0.06963884 0.06752193\n"
     ]
    }
   ],
   "source": [
    "print(imp_diffs.mean(), hybrid_diffs.mean())"
   ]
  },
  {
   "cell_type": "code",
   "execution_count": 40,
   "id": "aea94750-393f-4d21-8f35-b07e3733bc2a",
   "metadata": {},
   "outputs": [
    {
     "name": "stdout",
     "output_type": "stream",
     "text": [
      "0.41477793 0.4314054 0.5485329\n",
      "0.08005831 0.051857233 0.47581723\n",
      "0.009035334 0.0045819134 0.04336934\n",
      "0.0029433295 0.0061441064 0.07827563\n",
      "0.13425499 0.13531154 0.20941703\n",
      "0.01711917 0.017203957 0.15629938\n",
      "0.008817643 0.021812975 0.34911865\n",
      "0.0023613442 0.002050301 0.022637147\n",
      "0.54160905 0.535424 0.86487377\n",
      "0.035050035 0.0020227432 0.8637062\n"
     ]
    }
   ],
   "source": [
    "for i in range(10):\n",
    "    print(imp_diffs[i],hybrid_diffs[i],gt_term[i])"
   ]
  },
  {
   "cell_type": "code",
   "execution_count": 29,
   "id": "08b74df7-e681-4461-8295-43faa9e0ab40",
   "metadata": {},
   "outputs": [
    {
     "name": "stdout",
     "output_type": "stream",
     "text": [
      "0.019351114 0.015930444\n",
      "0.31801456\n"
     ]
    }
   ],
   "source": [
    "imp_diffs = np.abs(imp_data - gt_term)\n",
    "hybrid_diffs = np.abs(hybrid_data - gt_term)\n",
    "print(np.median(imp_diffs), np.median(hybrid_diffs))\n",
    "diffs = np.abs(imp_diffs -hybrid_diffs)/imp_diffs\n",
    "print(np.median(diffs))\n",
    "# plt.hist(diffs,bins = 100)\n",
    "# plt.xlim(-0.1,20)\n",
    "# plt.show()"
   ]
  },
  {
   "cell_type": "code",
   "execution_count": 140,
   "id": "b119576c-4e04-4b8a-8baf-4fdd61e77eb1",
   "metadata": {},
   "outputs": [],
   "source": [
    "# print(imp_data.mean())\n",
    "diffs = (imp_data - hybrid_data)/(imp_data + 1e-10)"
   ]
  },
  {
   "cell_type": "code",
   "execution_count": 141,
   "id": "849add57-0c25-45c2-8359-84c28120e923",
   "metadata": {},
   "outputs": [
    {
     "data": {
      "text/plain": [
       "54.941673"
      ]
     },
     "execution_count": 141,
     "metadata": {},
     "output_type": "execute_result"
    }
   ],
   "source": [
    "imp_data.max()/hybrid_data.max()"
   ]
  },
  {
   "cell_type": "code",
   "execution_count": 142,
   "id": "2fa99c4f-1cec-4c04-96d1-dd8e2002dc58",
   "metadata": {},
   "outputs": [],
   "source": [
    "diffs[diffs<0] = 0"
   ]
  },
  {
   "cell_type": "code",
   "execution_count": 31,
   "id": "0209bc0c-697c-4527-b3b9-8ea6eae29e3d",
   "metadata": {},
   "outputs": [
    {
     "data": {
      "image/png": "[encoded data removed]",
      "text/plain": [
       "<Figure size 1152x576 with 1 Axes>"
      ]
     },
     "metadata": {
      "needs_background": "light"
     },
     "output_type": "display_data"
    }
   ],
   "source": [
    "plt.figure(figsize=(16,8))\n",
    "plt.hist(np.log(imp_data + 1e-10), label = \"imp\", bins = 100,alpha=0.6)\n",
    "plt.hist(np.log(hybrid_data + 1e-10), label = \"hybrid\",bins=100,alpha=0.6)\n",
    "plt.legend()\n",
    "plt.xlabel(\"Log Variance\")\n",
    "plt.ylabel(\"Density\")\n",
    "plt.title(\"Variance comparison between importance sampling and B.S./I.S. Hybrid, Shakespeare\")\n",
    "plt.show()\n",
    "\n",
    "# plt.hist(diffs.numpy(),bins=100)"
   ]
  },
  {
   "cell_type": "code",
   "execution_count": 145,
   "id": "a8e920c1-d77a-4347-aba0-c05c9b1cd325",
   "metadata": {},
   "outputs": [
    {
     "name": "stdout",
     "output_type": "stream",
     "text": [
      "0.95586836\n"
     ]
    },
    {
     "data": {
      "image/png": "[encoded data removed]",
      "text/plain": [
       "<Figure size 864x576 with 1 Axes>"
      ]
     },
     "metadata": {
      "needs_background": "light"
     },
     "output_type": "display_data"
    }
   ],
   "source": [
    "diffs = (imp_data - hybrid_data + 1e-10)/(imp_data + 1e-10)\n",
    "diffs = diffs[diffs>=0]\n",
    "print(diffs.mean())\n",
    "plt.figure(figsize=(12,8))\n",
    "plt.hist(diffs, label = \"hybrid\",bins=100,alpha=0.6)\n",
    "plt.xlabel(\"Variance\")\n",
    "plt.ylabel(\"Density\")\n",
    "plt.title(\"Variance comparison between importance sampling and B.S./I.S. Hybrid, Shakespeare\")\n",
    "plt.show()\n"
   ]
  },
  {
   "cell_type": "markdown",
   "id": "6c0f70a3-4232-412e-a97d-e14b191baded",
   "metadata": {},
   "source": [
    "## Model iterations v. MAE"
   ]
  },
  {
   "cell_type": "code",
   "execution_count": 9,
   "id": "2941b427-6fb9-4eef-a484-e1b8279a2f2c",
   "metadata": {},
   "outputs": [
    {
     "name": "stdout",
     "output_type": "stream",
     "text": [
      "['.git', 'README.md', 'requirements.txt', '.ipynb_checkpoints', 'data', 'setup.sh', 'models', '__pycache__', 'archive', '.gitignore', 'seq_queries', 'test', 'config', 'notebooks', 'logs', 'imgs', 'scripts', 'scratch.py', '.vim', 'LICENSE']\n"
     ]
    }
   ],
   "source": [
    "print(os.listdir(\"../\"))"
   ]
  },
  {
   "cell_type": "code",
   "execution_count": 120,
   "id": "8af8e8bc-310c-4ae2-81e5-145c0f48d50f",
   "metadata": {},
   "outputs": [
    {
     "name": "stdout",
     "output_type": "stream",
     "text": [
      "../data/ground_truth/shakespeare/val_dl/val-dl_shakespeare_ground-truth_18h_20s*.pkl\n",
      "../data/importance_sampling/shakespeare/val_dl/val-dl_shakespeare_importance-sampling_18h_20s*.pkl\n",
      "../data/beam_search_is_hybrid/shakespeare/val_dl/val-dl_shakespeare_beam-search-is-hybrid_18h_20s*.pkl\n"
     ]
    }
   ],
   "source": [
    "methods = ['ground_truth','importance_sampling','beam_search_is_hybrid']\n",
    "dataset = 'shakespeare'\n",
    "experiment='val_dl'\n",
    "lengths = [(18,20)]\n",
    "\n",
    "data_dict = {}\n",
    "for length in lengths:\n",
    "    for method in methods:\n",
    "        h,s = length\n",
    "        path_template = f\"../data/{method}/{dataset}/{experiment}/{experiment.replace('_','-')}_{dataset}_{method.replace('_','-')}_{h}h_{s}s*.pkl\"\n",
    "        print(path_template)\n",
    "        pot_paths = glob.glob(path_template)\n",
    "        assert len(pot_paths) == 1,\\\n",
    "            f\"Paths: {pot_paths}\"\n",
    "        data_dict[method] = read_pkl(pot_paths[0])\n",
    "    "
   ]
  },
  {
   "cell_type": "code",
   "execution_count": 121,
   "id": "1dd4a8b2-ac13-42bf-8927-5893957eb2bf",
   "metadata": {},
   "outputs": [
    {
     "name": "stdout",
     "output_type": "stream",
     "text": [
      "torch.Size([2287, 68])\n"
     ]
    }
   ],
   "source": [
    "print(data_dict['ground_truth']['dist_lower_bound'].shape)\n",
    "# print(data_dict['beam_search_is_hybrid'].keys())"
   ]
  },
  {
   "cell_type": "code",
   "execution_count": 134,
   "id": "cb6598e2-cb3d-43cd-8a33-bd4ee97c2bef",
   "metadata": {},
   "outputs": [],
   "source": [
    "def plot_against_samples(data_dict, sub_estimates = [10,100,1000,10000]):\n",
    "    sub_estimates = data_dict['importance_sampling']['metadata']['sub_estimates']\n",
    "    importance_estimates= data_dict['importance_sampling']['sample_estimates']\n",
    "    excluded_terms = data_dict['beam_search_is_hybrid']['excluded_terms']\n",
    "    gt= torch.gather(data_dict['ground_truth']['dist_lower_bound'],1,excluded_terms.unsqueeze(-1)).squeeze()\n",
    "    hybrid_estimates= data_dict['beam_search_is_hybrid']['hybrid_bs_is_estimate']\n",
    "    # hybrid_estimates= torch.gather(data_dict['beam_search_is_hybrid']['hybrid_var'],1,excluded_terms.unsqueeze(-1)).flatten()\n",
    "    # hybrid_estimates = torch.stack([\n",
    "    #     torch.gather(hybrid_estimates[:,:s].var(dim=1),1,\n",
    "    #                  excluded_terms.unsqueeze(-1))\n",
    "    #                  for s in sub_estimates],dim=1).squeeze()\n",
    "    # print(gt[15], hybrid_estimates[15], importance_estimates[15])\n",
    "    importance_diffs = torch.abs((importance_estimates[:,:-1] - gt.unsqueeze(-1)))\n",
    "    hybrid_diffs = torch.abs(hybrid_estimates - gt.unsqueeze(-1))\n",
    "    total_diffs = abs(importance_diffs - hybrid_diffs)/importance_diffs\n",
    "    print((hybrid_diffs > importance_diffs).sum()/(hybrid_diffs.shape[0] * hybrid_diffs.shape[1]))\n",
    "    print(importance_diffs.mean(), hybrid_diffs.mean())\n",
    "    print((importance_diffs - hybrid_diffs).max())\n",
    "    print(total_diffs.max(), total_diffs.min(),total_diffs.median())\n",
    "    # importance_diffs = data_dict['importance_sampling']['sample_est_var']\n",
    "    # print(data_dict['beam_search_is_hybrid']['hybrid_var'].shape)\n",
    "    # hybrid_diffs = data_dict['beam_search_is_hybrid']['hybrid_var']\n",
    "    # hybrid_diffs = torch.abs(hybrid_estimates - gt.unsqueeze(-1))/hybrid_estimates\n",
    "    # print(((importance_diffs[:,2] - hybrid_diffs[:,2])/(importance_diffs[:,2])).mean())\n",
    "    # importance_diffs = data_dict['importance_sampling']['sample_est_var']\n",
    "    # hybrid_diffs = hybrid_estimates\n",
    "    # hybrid_diffs = data_dict['beam_search_is_hybrid']['hybrid_var']\n",
    "    \n",
    "    total_df = pd.DataFrame(total_diffs, columns=sub_estimates[:-1])\n",
    "    total_df = pd.melt(total_df, value_vars=sub_estimates[:-1])\n",
    "    total_df['method'] = 'reduction'\n",
    "    # importance_df = pd.DataFrame(importance_diffs, columns=sub_estimates)\n",
    "    # importance_df = pd.melt(importance_df, value_vars=sub_estimates)\n",
    "    # importance_df['method'] = 'importance_sampling'\n",
    "    # hybrid_df = pd.DataFrame(hybrid_diffs, columns=sub_estimates[:-1])\n",
    "    # hybrid_df = pd.melt(hybrid_df, value_vars=sub_estimates[:-1])\n",
    "    # hybrid_df['method'] = 'hybrid_search_sample'\n",
    "    # print(hybrid_df.shape, importance_df.shape)\n",
    "    # df = pd.concat([importance_df,hybrid_df],ignore_index = True,axis=0)\n",
    "    # print(df.head())\n",
    "    df = total_df\n",
    "    \n",
    "    # plt.figure(figsize=(12,8))\n",
    "    # matplotlib.rcParams.update({'font.size': 22})\n",
    "    # fig,ax = plt.subplots(figsize=(15,8))\n",
    "    # sns.boxplot(x ='variable',y='value',hue='method',data=df)\n",
    "    # plt.xlabel(\"Number of samples\")\n",
    "    # plt.ylabel(r\"MAE of estimate $p(x_k = \\phi, x_{1:k-1} \\neq \\phi|H_t)$\")\n",
    "    # plt.title(\"Shakespeare, Seq. Len=2 Hybrid v. Importance Sampling\")\n",
    "    # plt.xticks(rotation=45)\n",
    "    # plt.ylim(-0.1,2.5)\n",
    "    # plt.tight_layout()\n"
   ]
  },
  {
   "cell_type": "code",
   "execution_count": 135,
   "id": "8c4d06ca-ebf1-42d4-80b8-089ac8f3190a",
   "metadata": {},
   "outputs": [
    {
     "name": "stdout",
     "output_type": "stream",
     "text": [
      "tensor(0.3305)\n",
      "tensor(0.0135) tensor(0.0080)\n",
      "tensor(0.3677)\n",
      "tensor(1765.0699) tensor(7.4610e-06) tensor(0.7845)\n"
     ]
    }
   ],
   "source": [
    "plot_against_samples(data_dict)"
   ]
  },
  {
   "cell_type": "code",
   "execution_count": null,
   "id": "8b326828-1fae-43f1-9765-9d6542b2d8de",
   "metadata": {},
   "outputs": [],
   "source": []
  },
  {
   "cell_type": "code",
   "execution_count": null,
   "id": "5dc138b2-3a84-48ee-ad7e-f986487c36cd",
   "metadata": {},
   "outputs": [],
   "source": []
  }
 ],
 "metadata": {
  "kernelspec": {
   "display_name": "nlp_env",
   "language": "python",
   "name": "nlpenv"
  },
  "language_info": {
   "codemirror_mode": {
    "name": "ipython",
    "version": 3
   },
   "file_extension": ".py",
   "mimetype": "text/x-python",
   "name": "python",
   "nbconvert_exporter": "python",
   "pygments_lexer": "ipython3",
   "version": "3.8.8"
  }
 },
 "nbformat": 4,
 "nbformat_minor": 5
}
