{
 "cells": [
  {
   "cell_type": "code",
   "execution_count": 2,
   "id": "57525836-9b1d-4d86-ae13-258a3da696ca",
   "metadata": {},
   "outputs": [],
   "source": [
    "%load_ext autoreload\n",
    "%autoreload 2\n",
    "import matplotlib.pyplot as plt\n",
    "import seaborn as sns\n",
    "import os\n",
    "import pandas as pd\n",
    "import sys\n",
    "import numpy as np\n",
    "import glob\n",
    "import torch\n",
    "\n",
    "sys.path.insert(1,\"/home/showalte/research/prob_seq_queries/\")\n",
    "from seq_queries.utils import read_pkl, write_pkl"
   ]
  },
  {
   "cell_type": "code",
   "execution_count": 4,
   "id": "0c30f518-8c7a-4440-aa8b-e254d198fd21",
   "metadata": {},
   "outputs": [],
   "source": [
    "def tuple_of_tuples_match(tup1, tup2):\n",
    "    assert len(tup1) == len(tup2),\"Layer lengths do not match\"\n",
    "    for t1,t2 in zip(tup1, tup2):\n",
    "        assert len(t1) == len(t2),f\"Tuples of 2 do not match, t1 {t1.shape} | t2 {t2.shape}\"\n",
    "        t11,t12 = t1\n",
    "        t21,t22 = t2\n",
    "        assert torch.equal(t11,t21),\\\n",
    "            f\"First tuple position shapes do not match: t11 {t11.shape} | t21 {t21.shape}\"\n",
    "        assert torch.equal(t12,t22),\\\n",
    "            f\"Second tuple position shapes do not match: t12 {t12.shape} | t21 {t22.shape}\"\n",
    "    print(\"All good!\")\n",
    "        "
   ]
  },
  {
   "cell_type": "code",
   "execution_count": 5,
   "id": "f63686c1-90ca-47bd-873a-baf7a5be52f2",
   "metadata": {},
   "outputs": [],
   "source": [
    "def split_2xtups(hidden_states,max_batch_size = 16):\n",
    "    hidden_states = list(zip(*[\n",
    "                    zip(*(torch.split(h[0],max_batch_size), torch.split(h[1],max_batch_size)))\n",
    "                     for h in hidden_states]))\n",
    "    print(len(hidden_states))\n",
    "    print(len(hidden_states[0]))\n",
    "    print(len(hidden_states[0][0]))\n",
    "    print(hidden_states[0][0][0].shape)\n",
    "    return hidden_states\n",
    "\n",
    "def unsplit_2xtups(step_outputs):\n",
    "    layer_hiddens = []\n",
    "    for layer_data in zip(*step_outputs):\n",
    "            layer_data= list(zip(*layer_data))\n",
    "            layer_hiddens.append(\n",
    "                (torch.cat(layer_data[0],dim=0).cpu(),\n",
    "                 torch.cat(layer_data[1],dim=0).cpu())\n",
    "            )\n",
    "    return tuple(layer_hiddens)"
   ]
  },
  {
   "cell_type": "code",
   "execution_count": 6,
   "id": "63fd26f2-5504-47b8-8e3a-1b22f328ad70",
   "metadata": {},
   "outputs": [],
   "source": [
    "\n",
    "def make_hidden_state(num_layers, tup_size, tensor_dim):\n",
    "    tup = []\n",
    "    for l in range(num_layers):\n",
    "        i_tup = []\n",
    "        for t in range(tup_size):\n",
    "            i_tup.append(torch.randn(*tensor_dim))\n",
    "        i_tup = tuple(i_tup)\n",
    "        tup.append(i_tup)\n",
    "    return tuple(tup)"
   ]
  },
  {
   "cell_type": "code",
   "execution_count": 7,
   "id": "a8f4eafa-81a6-448f-951c-ed5a4718807b",
   "metadata": {},
   "outputs": [],
   "source": [
    "num_layers = 8\n",
    "# Samples x heads x seq_len x head_dim)\n",
    "tensor_dim = (400, 12, 10, 68)\n",
    "tup_size = 2\n",
    "h = make_hidden_state(num_layers, tup_size, tensor_dim)"
   ]
  },
  {
   "cell_type": "code",
   "execution_count": 8,
   "id": "568aacbc-49cd-4b42-b394-af16b82184f6",
   "metadata": {},
   "outputs": [
    {
     "name": "stdout",
     "output_type": "stream",
     "text": [
      "400\n",
      "8\n",
      "2\n",
      "torch.Size([1, 12, 10, 68])\n",
      "All good!\n",
      "50\n",
      "8\n",
      "2\n",
      "torch.Size([8, 12, 10, 68])\n",
      "All good!\n",
      "45\n",
      "8\n",
      "2\n",
      "torch.Size([9, 12, 10, 68])\n",
      "All good!\n",
      "13\n",
      "8\n",
      "2\n",
      "torch.Size([31, 12, 10, 68])\n",
      "All good!\n",
      "25\n",
      "8\n",
      "2\n",
      "torch.Size([16, 12, 10, 68])\n",
      "All good!\n",
      "4\n",
      "8\n",
      "2\n",
      "torch.Size([128, 12, 10, 68])\n",
      "All good!\n",
      "13\n",
      "8\n",
      "2\n",
      "torch.Size([32, 12, 10, 68])\n",
      "All good!\n"
     ]
    }
   ],
   "source": [
    "max_batch_sizes = [1,8,9,31,16,128,32]\n",
    "for max_batch_size in max_batch_sizes:\n",
    "    tuple_of_tuples_match(\n",
    "        h,\n",
    "        unsplit_2xtups(\n",
    "            split_2xtups(h,\n",
    "                         max_batch_size), \n",
    "        )\n",
    "\n",
    "    )"
   ]
  },
  {
   "cell_type": "markdown",
   "id": "35d6897e-b80b-4b69-8266-805c874546cc",
   "metadata": {},
   "source": [
    "## Check sequences for ground truth v hybrid"
   ]
  },
  {
   "cell_type": "code",
   "execution_count": 9,
   "id": "a5510751-4bb3-4407-a777-db6601cebbdf",
   "metadata": {},
   "outputs": [],
   "source": [
    "hybrid = read_pkl(\"../data/beam_search_is_hybrid/wikitext/val_dl/val-dl_wikitext_beam-search-is-hybrid_13h_15s_10000mc_10q.pkl\")"
   ]
  },
  {
   "cell_type": "code",
   "execution_count": 10,
   "id": "92955f1a-54f9-458f-aa6b-191bf156a617",
   "metadata": {},
   "outputs": [],
   "source": [
    "pgt = read_pkl(\"../data/pseudo_gt/wikitext/val_dl/val-dl_wikitext_pseudo-gt_13h_15s_1000mc_pgt_500q.pkl\")"
   ]
  },
  {
   "cell_type": "code",
   "execution_count": 21,
   "id": "e946550c-4f8c-4ebe-8109-48ead68d3303",
   "metadata": {},
   "outputs": [],
   "source": [
    "pgt2 = read_pkl(\"../data/pseudo_gt/wikitext/val_dl/val-dl_wikitext_pseudo-gt_13h_15s_1000mc_pgt_100q.pkl\")"
   ]
  },
  {
   "cell_type": "code",
   "execution_count": 22,
   "id": "fc28b514-9dca-4990-be0d-f21f10d4c0b8",
   "metadata": {},
   "outputs": [],
   "source": [
    "pgt_est2 = torch.gather(pgt2['sample_estimates'],1,pgt2['excluded_terms'].unsqueeze(-1)).squeeze()\n",
    "pgt_est_test2 = pgt_est2[:num_samples]"
   ]
  },
  {
   "cell_type": "code",
   "execution_count": 13,
   "id": "b867f088-e98b-46ef-bcc3-462c606be3b0",
   "metadata": {},
   "outputs": [],
   "source": [
    "num_samples =10\n",
    "pgt_est = torch.gather(pgt['sample_estimates'],1,pgt['excluded_terms'].unsqueeze(-1)).squeeze()\n",
    "pgt_est_test = pgt_est[:num_samples]"
   ]
  },
  {
   "cell_type": "code",
   "execution_count": 16,
   "id": "fe7e02ba-d62b-4820-9a6a-c21bb5760596",
   "metadata": {},
   "outputs": [
    {
     "data": {
      "text/plain": [
       "torch.Size([10])"
      ]
     },
     "execution_count": 16,
     "metadata": {},
     "output_type": "execute_result"
    }
   ],
   "source": [
    "# print(hybrid['sample_estimates'][.shape)\n",
    "hybrid = torch.gather(hybrid['sample_estimates'][:,-1,:],1,hybrid['excluded_terms'].unsqueeze(-1)).squeeze()\n",
    "hybrid.shape"
   ]
  },
  {
   "cell_type": "code",
   "execution_count": 23,
   "id": "25a3be59-eb6a-466b-9565-8f56f65d5e0b",
   "metadata": {},
   "outputs": [
    {
     "data": {
      "text/plain": [
       "tensor([3.9509e-03, 6.3127e-07, 3.0005e-04, 3.1273e-03, 7.6277e-02, 1.9384e-03,\n",
       "        1.8733e-04, 2.4132e-06, 1.1433e-05, 1.0377e-01])"
      ]
     },
     "execution_count": 23,
     "metadata": {},
     "output_type": "execute_result"
    }
   ],
   "source": [
    "pgt_est_test2"
   ]
  },
  {
   "cell_type": "code",
   "execution_count": 18,
   "id": "c1017e67-04f7-44a8-9766-80beb3c57ea2",
   "metadata": {},
   "outputs": [
    {
     "data": {
      "text/plain": [
       "tensor([8.1826e-04, 5.2079e-07, 3.1304e-04, 4.3466e-02, 7.4360e-02, 5.3057e-03,\n",
       "        4.8004e-04, 1.6603e-06, 6.2787e-06, 1.1255e-01])"
      ]
     },
     "execution_count": 18,
     "metadata": {},
     "output_type": "execute_result"
    }
   ],
   "source": [
    "pgt_est_test"
   ]
  },
  {
   "cell_type": "code",
   "execution_count": 19,
   "id": "d5404e5a-099e-4e74-8084-04c58d3073c3",
   "metadata": {},
   "outputs": [
    {
     "data": {
      "text/plain": [
       "tensor([1.6305e-03, 5.5858e-07, 5.1883e-04, 2.4782e-02, 1.4181e-01, 4.8309e-03,\n",
       "        7.3468e-04, 2.2985e-06, 9.0691e-06, 3.2000e-02])"
      ]
     },
     "execution_count": 19,
     "metadata": {},
     "output_type": "execute_result"
    }
   ],
   "source": [
    "hybrid"
   ]
  },
  {
   "cell_type": "code",
   "execution_count": 26,
   "id": "e50f34c8-1421-4492-bafe-814ec7a5f78e",
   "metadata": {},
   "outputs": [
    {
     "data": {
      "text/plain": [
       "tensor([8.1227e-04, 3.7790e-08, 2.0579e-04, 1.8684e-02, 6.7446e-02, 4.7484e-04,\n",
       "        2.5464e-04, 6.3820e-07, 2.7905e-06, 8.0546e-02])"
      ]
     },
     "execution_count": 26,
     "metadata": {},
     "output_type": "execute_result"
    }
   ],
   "source": [
    "np.abs(hybrid - pgt_est_test)"
   ]
  },
  {
   "cell_type": "code",
   "execution_count": 27,
   "id": "81c2533e-e1ec-417e-8eb6-5f7f99431488",
   "metadata": {},
   "outputs": [
    {
     "data": {
      "text/plain": [
       "tensor([2.3204e-03, 7.2685e-08, 2.1878e-04, 2.1654e-02, 6.5530e-02, 2.8925e-03,\n",
       "        5.4735e-04, 1.1462e-07, 2.3640e-06, 7.1769e-02])"
      ]
     },
     "execution_count": 27,
     "metadata": {},
     "output_type": "execute_result"
    }
   ],
   "source": [
    "np.abs(hybrid - pgt_est_test2)"
   ]
  },
  {
   "cell_type": "code",
   "execution_count": 28,
   "id": "7d9685e5-029c-40f1-b8b0-8677a22c28dc",
   "metadata": {},
   "outputs": [
    {
     "data": {
      "text/plain": [
       "tensor([3.1326e-03, 1.1047e-07, 1.2991e-05, 4.0338e-02, 1.9164e-03, 3.3674e-03,\n",
       "        2.9271e-04, 7.5282e-07, 5.1544e-06, 8.7766e-03])"
      ]
     },
     "execution_count": 28,
     "metadata": {},
     "output_type": "execute_result"
    }
   ],
   "source": [
    "np.abs(pgt_est_test - pgt_est_test2)"
   ]
  },
  {
   "cell_type": "code",
   "execution_count": 20,
   "id": "7264da03-1608-4233-92b4-b30d6d7edad3",
   "metadata": {},
   "outputs": [
    {
     "data": {
      "text/plain": [
       "tensor([99.2686,  7.2563, 65.7401, 42.9855, 90.7018,  8.9496, 53.0460, 38.4377,\n",
       "        44.4438, 71.5671])"
      ]
     },
     "execution_count": 20,
     "metadata": {},
     "output_type": "execute_result"
    }
   ],
   "source": [
    "(np.abs(hybrid - pgt_est_test)/pgt_est_test)*100"
   ]
  },
  {
   "cell_type": "code",
   "execution_count": 24,
   "id": "80eb2a04-bb8e-4a56-9c1e-b1d3a98aceeb",
   "metadata": {},
   "outputs": [
    {
     "data": {
      "text/plain": [
       "tensor([ 58.7302,  11.5141,  72.9161, 692.4354,  85.9104, 149.2244, 292.1930,\n",
       "          4.7498,  20.6765,  69.1623])"
      ]
     },
     "execution_count": 24,
     "metadata": {},
     "output_type": "execute_result"
    }
   ],
   "source": [
    "(np.abs(hybrid - pgt_est_test2)/pgt_est_test2)*100"
   ]
  },
  {
   "cell_type": "code",
   "execution_count": 25,
   "id": "4e21e94e-0de6-4284-8f75-71714d3c1fb1",
   "metadata": {},
   "outputs": [
    {
     "data": {
      "text/plain": [
       "tensor([382.8433,  21.2128,   4.1500,  92.8052,   2.5772,  63.4665,  60.9769,\n",
       "         45.3410,  82.0945,   7.7982])"
      ]
     },
     "execution_count": 25,
     "metadata": {},
     "output_type": "execute_result"
    }
   ],
   "source": [
    "(np.abs(pgt_est_test - pgt_est_test2)/pgt_est_test)*100"
   ]
  },
  {
   "cell_type": "code",
   "execution_count": null,
   "id": "f5427a08-6481-432a-acb1-1911b6c54f3f",
   "metadata": {},
   "outputs": [],
   "source": []
  }
 ],
 "metadata": {
  "kernelspec": {
   "display_name": "nlp_env",
   "language": "python",
   "name": "nlpenv"
  },
  "language_info": {
   "codemirror_mode": {
    "name": "ipython",
    "version": 3
   },
   "file_extension": ".py",
   "mimetype": "text/x-python",
   "name": "python",
   "nbconvert_exporter": "python",
   "pygments_lexer": "ipython3",
   "version": "3.8.8"
  }
 },
 "nbformat": 4,
 "nbformat_minor": 5
}
