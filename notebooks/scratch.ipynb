{
 "cells": [
  {
   "cell_type": "code",
   "execution_count": 1,
   "id": "80d25338-e0ab-48d3-b9eb-55be4ee5fe9e",
   "metadata": {},
   "outputs": [],
   "source": [
    "%load_ext autoreload\n",
    "%autoreload 2\n",
    "import matplotlib.pyplot as plt\n",
    "import seaborn as sns\n",
    "from scipy.special import kl_div\n",
    "from scipy.stats import entropy\n",
    "from sklearn.metrics import mutual_info_score\n",
    "import os\n",
    "import pandas as pd\n",
    "import sys\n",
    "import numpy as np\n",
    "import glob\n",
    "import torch\n",
    "\n",
    "sys.path.insert(1,\"/home/showalte/research/prob_seq_queries/\")\n",
    "from seq_queries.utils import read_pkl, write_pkl"
   ]
  },
  {
   "cell_type": "code",
   "execution_count": 4,
   "id": "a97e6a8c-82bc-4eda-b024-33c2134e62fa",
   "metadata": {},
   "outputs": [],
   "source": [
    "# data = read_pkl(\"../data/beam_search_is_hybrid/shakespeare/val_dl/val-dl_shakespeare_beam-search-is-hybrid_18h_20s_10mc.pkl\")\n",
    "raw_data_amazon = read_pkl(\"../data/efficiency_ablation/amazon/val_dl/val-dl_amazon_efficiency-ablation_5h_21s_50mc_pgt_1000q.pkl\")\n",
    "raw_data_shakespeare = read_pkl(\"../data/efficiency_ablation/shakespeare/val_dl/val-dl_shakespeare_efficiency-ablation_5h_21s_50mc_pgt_1000q.pkl\")\n",
    "raw_data_apps = read_pkl(\"../data/efficiency_ablation/apps/val_dl/val-dl_apps_efficiency-ablation_5h_21s_50mc_pgt_1000q.pkl\")\n",
    "raw_data_moocs = read_pkl(\"../data/efficiency_ablation/moocs/val_dl/val-dl_moocs_efficiency-ablation_5h_21s_50mc_pgt_1000q.pkl\")"
   ]
  },
  {
   "cell_type": "code",
   "execution_count": 7,
   "id": "3dc83e00-ce4a-4ca5-b50a-46f411787563",
   "metadata": {},
   "outputs": [],
   "source": [
    "data = {\n",
    "    \"amazon\":raw_data_amazon['efficiency'],\n",
    "    \"shakespeare\":raw_data_shakespeare['efficiency'],\n",
    "    \"apps\":raw_data_apps['efficiency'],\n",
    "    \"moocs\":raw_data_moocs['efficiency'],\n",
    "}"
   ]
  },
  {
   "cell_type": "code",
   "execution_count": 8,
   "id": "b263de68-7d1a-4fe6-a0fc-4c68c5be5a2e",
   "metadata": {},
   "outputs": [
    {
     "name": "stdout",
     "output_type": "stream",
     "text": [
      "torch.Size([1000, 17, 30])\n"
     ]
    }
   ],
   "source": [
    "print(data['amazon'].shape)"
   ]
  },
  {
   "cell_type": "code",
   "execution_count": 83,
   "id": "45e7c9e6-a75b-4b59-815b-b532b7719c8a",
   "metadata": {},
   "outputs": [],
   "source": [
    "def compute_mean_kl(estimates, pgts):\n",
    "    return np.array([\n",
    "        entropy(estimate,qk=pgt) for \n",
    "        estimate,pgt in zip(estimates,pgts)\n",
    "    ]).mean()\n",
    "\n",
    "def compute_rae(estimates,gts, tol=1e-20):\n",
    "    res = []\n",
    "    for estimate,gt in zip(estimates,gts):\n",
    "        res.append((np.abs(estimate - gt) + tol) / (gt + tol))\n",
    "        # print(res[-1].shape)\n",
    "        \n",
    "    res = np.concatenate(res)\n",
    "    return np.median(res)\n",
    "    # return res.mean()\n",
    "\n",
    "def make_query_budget_table(\n",
    "    iqp,\n",
    "    sub_estimates=[10,30,50,100,300,500,1000,3000,5000,10000],\n",
    "    seq_lens=[2,3,4,5,10,20,30,40,50,60,70,80,90,100],\n",
    " ):\n",
    "    pgt, iqp = iqp[:,-1,:,:], iqp[:,:-1,:,:]\n",
    "    num_budgets = iqp.shape[1]-1\n",
    "    query_dict = {}\n",
    "    for i, seq_len in enumerate(seq_lens):\n",
    "        query_dict[seq_len] = []\n",
    "        for j, est in enumerate(sub_estimates):\n",
    "            query_dict[seq_len].append(\n",
    "                compute_rae(\n",
    "                    iqp[:,j,i,:],\n",
    "                    pgt[:,i,:],\n",
    "                )\n",
    "            )\n",
    "            # sys.exit(1)\n",
    "    \n",
    "    df = pd.DataFrame.from_dict(query_dict)\n",
    "    df.index = sub_estimates\n",
    "    return df\n",
    "    "
   ]
  },
  {
   "cell_type": "code",
   "execution_count": 84,
   "id": "dd53a590-0d46-4fda-bd68-b74cd13ff488",
   "metadata": {},
   "outputs": [],
   "source": [
    "res_dict = {}\n",
    "for key in data:\n",
    "    res_dict[key] = make_query_budget_table(data[key])"
   ]
  },
  {
   "cell_type": "code",
   "execution_count": 89,
   "id": "ab6667f3-4af4-4d9a-9da0-adce4f8f30eb",
   "metadata": {},
   "outputs": [
    {
     "name": "stdout",
     "output_type": "stream",
     "text": [
      "amazon \\begin{tabular}{lrrrrrrrr}\n",
      " & 2 & 5 & 10 & 20 & 40 & 60 & 80 & 100 \\\\\n",
      "10 & 31.35 & 40.33 & 44.39 & 43.48 & 45.98 & 45.84 & 49.44 & 50.05 \\\\\n",
      "100 & 13.29 & 17.12 & 18.73 & 19.46 & 20.41 & 21.65 & 21.82 & 21.86 \\\\\n",
      "1000 & 4.94 & 6.38 & 7.06 & 7.33 & 7.26 & 6.99 & 7.13 & 6.82 \\\\\n",
      "10000 & 1.60 & 2.05 & 2.21 & 2.34 & 2.20 & 2.13 & 2.06 & 2.10 \\\\\n",
      "\\end{tabular}\n",
      "\n",
      "shakespeare \\begin{tabular}{lrrrrrrrr}\n",
      " & 2 & 5 & 10 & 20 & 40 & 60 & 80 & 100 \\\\\n",
      "10 & 79.84 & 79.99 & 83.53 & 85.29 & 83.53 & 84.00 & 85.82 & 85.15 \\\\\n",
      "100 & 28.66 & 32.85 & 39.25 & 40.66 & 38.78 & 41.51 & 39.71 & 40.07 \\\\\n",
      "1000 & 8.61 & 10.99 & 13.29 & 13.52 & 13.78 & 13.89 & 13.64 & 14.10 \\\\\n",
      "10000 & 2.77 & 3.48 & 4.28 & 4.34 & 4.32 & 4.33 & 4.34 & 4.30 \\\\\n",
      "\\end{tabular}\n",
      "\n",
      "apps \\begin{tabular}{lrrrrrrrr}\n",
      " & 2 & 5 & 10 & 20 & 40 & 60 & 80 & 100 \\\\\n",
      "10 & 66.21 & 84.93 & 92.92 & 96.96 & 98.41 & 99.00 & 99.19 & 99.32 \\\\\n",
      "100 & 62.36 & 80.94 & 89.79 & 94.00 & 96.16 & 97.05 & 97.38 & 97.66 \\\\\n",
      "1000 & 47.96 & 59.14 & 69.10 & 75.45 & 74.79 & 71.34 & 65.12 & 59.75 \\\\\n",
      "10000 & 15.21 & 20.51 & 23.38 & 24.00 & 20.66 & 18.78 & 16.48 & 15.55 \\\\\n",
      "\\end{tabular}\n",
      "\n",
      "moocs \\begin{tabular}{lrrrrrrrr}\n",
      " & 2 & 5 & 10 & 20 & 40 & 60 & 80 & 100 \\\\\n",
      "10 & 89.62 & 97.30 & 98.73 & 99.19 & 99.08 & 99.06 & 98.91 & 98.87 \\\\\n",
      "100 & 63.80 & 83.34 & 84.77 & 79.15 & 66.89 & 62.99 & 60.28 & 61.30 \\\\\n",
      "1000 & 30.39 & 43.37 & 36.32 & 26.07 & 19.78 & 18.11 & 17.53 & 17.38 \\\\\n",
      "10000 & 11.92 & 15.15 & 11.35 & 7.86 & 5.90 & 5.66 & 5.43 & 5.40 \\\\\n",
      "\\end{tabular}\n",
      "\n"
     ]
    }
   ],
   "source": [
    "included_budgets = [10,100,1000,10000]\n",
    "included_lens = [2,5,10,20,40,60,80,100]\n",
    "for k in res_dict:\n",
    "    formatted = (res_dict[k].round(4))*100\n",
    "    formatted = formatted.loc[included_budgets,included_lens]\n",
    "    formatted = formatted.style.format(precision=2)\n",
    "    print(k,formatted.to_latex())"
   ]
  },
  {
   "cell_type": "code",
   "execution_count": 9,
   "id": "0ec4d7d3-fcfb-43df-bc90-75301c3a0a82",
   "metadata": {},
   "outputs": [],
   "source": [
    "for dataset,data_vals in data.items():\n",
    "    torch.save(data_vals, f'{dataset}_efficiency-ablation_probs.pt')"
   ]
  },
  {
   "cell_type": "code",
   "execution_count": 10,
   "id": "b89e89a2-1d0e-4dbb-b976-60a3d4c916f7",
   "metadata": {},
   "outputs": [],
   "source": [
    "from scipy.special import kl_div\n",
    "from scipy.stats import entropy\n",
    "from sklearn.metrics import mutual_info_score"
   ]
  },
  {
   "cell_type": "code",
   "execution_count": 7,
   "id": "5015b072-223a-4508-bf1f-5a9baa668fb5",
   "metadata": {},
   "outputs": [
    {
     "data": {
      "text/plain": [
       "torch.Size([100, 14, 30])"
      ]
     },
     "execution_count": 7,
     "metadata": {},
     "output_type": "execute_result"
    }
   ],
   "source": [
    "PGT = data[:,-1,:,:]\n",
    "PGT.shape"
   ]
  },
  {
   "cell_type": "code",
   "execution_count": null,
   "id": "8ba8aeea-1532-4a42-ad63-6f6807c0cef7",
   "metadata": {},
   "outputs": [],
   "source": []
  },
  {
   "cell_type": "code",
   "execution_count": 16,
   "id": "9f1abc45-50df-46d1-9a72-6fe8d530d8ab",
   "metadata": {},
   "outputs": [
    {
     "name": "stdout",
     "output_type": "stream",
     "text": [
      "torch.Size([100, 10, 14, 30])\n"
     ]
    },
    {
     "data": {
      "text/plain": [
       "torch.Size([100, 14, 30])"
      ]
     },
     "execution_count": 16,
     "metadata": {},
     "output_type": "execute_result"
    }
   ],
   "source": [
    "test_sample = data[:,:-1,:,:]\n",
    "test_pgt = PGT[:]\n",
    "print(test_sample.shape)\n",
    "test_pgt.shape"
   ]
  },
  {
   "cell_type": "code",
   "execution_count": 15,
   "id": "7796a394-2495-47a5-893a-cffee41364c2",
   "metadata": {},
   "outputs": [
    {
     "data": {
      "text/plain": [
       "<matplotlib.legend.Legend at 0x7f6b21ea47c0>"
      ]
     },
     "execution_count": 15,
     "metadata": {},
     "output_type": "execute_result"
    },
    {
     "data": {
      "image/png": "[encoded data removed]",
      "text/plain": [
       "<Figure size 432x288 with 1 Axes>"
      ]
     },
     "metadata": {
      "needs_background": "light"
     },
     "output_type": "display_data"
    }
   ],
   "source": [
    "import matplotlib.pyplot as plt\n",
    "for j in range(PGT.shape[1]):\n",
    "    plt.plot(range(10),\n",
    "             [\n",
    "                entropy(test_pgt[j],qk=test_sample[i,j]) \n",
    "                 for i in range(test_sample.shape[0])],\n",
    "            label=j)\n",
    "plt.legend()"
   ]
  },
  {
   "cell_type": "code",
   "execution_count": 28,
   "id": "05ca54c0-1bd4-4366-919a-024581af2a8c",
   "metadata": {},
   "outputs": [
    {
     "name": "stdout",
     "output_type": "stream",
     "text": [
      "dict_keys(['bs_lower_bound', 'is_estimate', 'hybrid_bs_is_estimate', 'model_runs', 'hybrid_var', 'hybrid_mean', 'num_beams', 'true_coverage', 'restricted_coverage', 'metadata', 'excluded_terms'])\n"
     ]
    },
    {
     "ename": "KeyError",
     "evalue": "'model_iters'",
     "output_type": "error",
     "traceback": [
      "\u001b[0;31m---------------------------------------------------------------------------\u001b[0m",
      "\u001b[0;31mKeyError\u001b[0m                                  Traceback (most recent call last)",
      "\u001b[0;32m<ipython-input-28-dca8920a9be9>\u001b[0m in \u001b[0;36m<module>\u001b[0;34m\u001b[0m\n\u001b[1;32m      6\u001b[0m     \u001b[0mdata\u001b[0m \u001b[0;34m=\u001b[0m \u001b[0mread_pkl\u001b[0m\u001b[0;34m(\u001b[0m\u001b[0mp\u001b[0m\u001b[0;34m)\u001b[0m\u001b[0;34m\u001b[0m\u001b[0;34m\u001b[0m\u001b[0m\n\u001b[1;32m      7\u001b[0m     \u001b[0mprint\u001b[0m\u001b[0;34m(\u001b[0m\u001b[0mdata\u001b[0m\u001b[0;34m.\u001b[0m\u001b[0mkeys\u001b[0m\u001b[0;34m(\u001b[0m\u001b[0;34m)\u001b[0m\u001b[0;34m)\u001b[0m\u001b[0;34m\u001b[0m\u001b[0;34m\u001b[0m\u001b[0m\n\u001b[0;32m----> 8\u001b[0;31m     \u001b[0mprint\u001b[0m\u001b[0;34m(\u001b[0m\u001b[0mdata\u001b[0m\u001b[0;34m[\u001b[0m\u001b[0;34m'model_iters'\u001b[0m\u001b[0;34m]\u001b[0m\u001b[0;34m.\u001b[0m\u001b[0mmin\u001b[0m\u001b[0;34m(\u001b[0m\u001b[0;34m)\u001b[0m\u001b[0;34m)\u001b[0m\u001b[0;34m\u001b[0m\u001b[0;34m\u001b[0m\u001b[0m\n\u001b[0m\u001b[1;32m      9\u001b[0m     \u001b[0;32mbreak\u001b[0m\u001b[0;34m\u001b[0m\u001b[0;34m\u001b[0m\u001b[0m\n\u001b[1;32m     10\u001b[0m     \u001b[0;31m# data['metadata']['text_dict']['text'] = None\u001b[0m\u001b[0;34m\u001b[0m\u001b[0;34m\u001b[0m\u001b[0;34m\u001b[0m\u001b[0m\n",
      "\u001b[0;31mKeyError\u001b[0m: 'model_iters'"
     ]
    }
   ],
   "source": [
    "import glob\n",
    "\n",
    "paths = glob.glob(\"../data/beam_search_is_hybrid/shakespeare/val_dl/val-dl_shakespeare_*.pkl\")\n",
    "for p in paths:\n",
    "    # print(p)\n",
    "    data = read_pkl(p)\n",
    "    excluded_tokens = data['excluded_tokens']\n",
    "    excluded_tokens = excluded_tokens.\n",
    "    print(data.keys())\n",
    "    print(data['model_iters'].min())\n",
    "    break\n",
    "    # data['metadata']['text_dict']['text'] = None\n",
    "    # write_pkl(data,p)"
   ]
  },
  {
   "cell_type": "code",
   "execution_count": null,
   "id": "a69dc677-e7c3-4694-8bbe-ff9fbd644d35",
   "metadata": {},
   "outputs": [],
   "source": []
  },
  {
   "cell_type": "code",
   "execution_count": 20,
   "id": "c3c1e9f8-1a1a-413d-a11f-711dbba3b2d1",
   "metadata": {},
   "outputs": [
    {
     "name": "stdout",
     "output_type": "stream",
     "text": [
      "sample_estimates torch.Size([2287, 5, 68])\n",
      "q_log_prob torch.Size([2287, 0])\n",
      "sample_est_var torch.Size([2287, 5, 68])\n",
      "sample_est_mean torch.Size([2287, 0])\n"
     ]
    },
    {
     "ename": "AttributeError",
     "evalue": "'dict' object has no attribute 'shape'",
     "output_type": "error",
     "traceback": [
      "\u001b[0;31m---------------------------------------------------------------------------\u001b[0m",
      "\u001b[0;31mAttributeError\u001b[0m                            Traceback (most recent call last)",
      "\u001b[0;32m<ipython-input-20-e7f40cdd4265>\u001b[0m in \u001b[0;36m<module>\u001b[0;34m\u001b[0m\n\u001b[1;32m      2\u001b[0m \u001b[0;31m# print(test.shape)\u001b[0m\u001b[0;34m\u001b[0m\u001b[0;34m\u001b[0m\u001b[0;34m\u001b[0m\u001b[0m\n\u001b[1;32m      3\u001b[0m \u001b[0;32mfor\u001b[0m \u001b[0md\u001b[0m \u001b[0;32min\u001b[0m \u001b[0mdata\u001b[0m\u001b[0;34m.\u001b[0m\u001b[0mkeys\u001b[0m\u001b[0;34m(\u001b[0m\u001b[0;34m)\u001b[0m\u001b[0;34m:\u001b[0m\u001b[0;34m\u001b[0m\u001b[0;34m\u001b[0m\u001b[0m\n\u001b[0;32m----> 4\u001b[0;31m     \u001b[0mprint\u001b[0m\u001b[0;34m(\u001b[0m\u001b[0md\u001b[0m\u001b[0;34m,\u001b[0m\u001b[0mdata\u001b[0m\u001b[0;34m[\u001b[0m\u001b[0md\u001b[0m\u001b[0;34m]\u001b[0m\u001b[0;34m.\u001b[0m\u001b[0mshape\u001b[0m\u001b[0;34m)\u001b[0m\u001b[0;34m\u001b[0m\u001b[0;34m\u001b[0m\u001b[0m\n\u001b[0m\u001b[1;32m      5\u001b[0m \u001b[0;31m# data['sample_est_mean']\u001b[0m\u001b[0;34m\u001b[0m\u001b[0;34m\u001b[0m\u001b[0;34m\u001b[0m\u001b[0m\n",
      "\u001b[0;31mAttributeError\u001b[0m: 'dict' object has no attribute 'shape'"
     ]
    }
   ],
   "source": [
    "\n",
    "# test = torch.gather(data['hybrid_bs_is_estimate'],-1,data['excluded_terms'].reshape(-1,1,1))\n",
    "# print(test.shape)\n",
    "for d in data.keys():\n",
    "    print(d,data[d].shape)\n",
    "# data['sample_est_mean']"
   ]
  },
  {
   "cell_type": "code",
   "execution_count": 1,
   "id": "5b2e6559-f3b1-4d9a-bad4-ed563da09711",
   "metadata": {},
   "outputs": [],
   "source": [
    "# data['metadata']"
   ]
  },
  {
   "cell_type": "code",
   "execution_count": null,
   "id": "b8d61385-f249-4c89-bc49-a0a192c60301",
   "metadata": {},
   "outputs": [],
   "source": []
  }
 ],
 "metadata": {
  "kernelspec": {
   "display_name": "nlp_env",
   "language": "python",
   "name": "nlpenv"
  },
  "language_info": {
   "codemirror_mode": {
    "name": "ipython",
    "version": 3
   },
   "file_extension": ".py",
   "mimetype": "text/x-python",
   "name": "python",
   "nbconvert_exporter": "python",
   "pygments_lexer": "ipython3",
   "version": "3.8.8"
  }
 },
 "nbformat": 4,
 "nbformat_minor": 5
}
