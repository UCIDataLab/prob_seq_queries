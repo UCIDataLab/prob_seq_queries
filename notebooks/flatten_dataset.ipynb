{
 "cells": [
  {
   "cell_type": "code",
   "execution_count": 2,
   "id": "ab5fc0db-8671-45eb-9006-8236cda57d92",
   "metadata": {},
   "outputs": [],
   "source": [
    "%load_ext autoreload\n",
    "%autoreload 2\n",
    "import matplotlib.pyplot as plt\n",
    "import seaborn as sns\n",
    "import os\n",
    "import pandas as pd\n",
    "import sys\n",
    "import numpy as np\n",
    "import glob\n",
    "import torch\n",
    "\n",
    "sys.path.insert(1,\"/home/showalte/research/prob_seq_queries/\")\n",
    "from seq_queries.utils import read_pkl, write_pkl"
   ]
  },
  {
   "cell_type": "markdown",
   "id": "ae87bf22-bcf6-49ea-b43c-9c6bd34216f9",
   "metadata": {
    "tags": []
   },
   "source": [
    "# Estimate fields\n",
    "- ground_truth/beam_search_lb\n",
    "- Importance sampling estimate\n",
    "- Hybrid estimate\n",
    "- Importance sampling variance\n",
    "- Hybrid variance\n",
    "\n",
    "# General Metadata\n",
    "- dataset_name\n",
    "- experiment_name\n",
    "- history_id\n",
    "- Excluded term\n",
    "- sequence_length\n",
    "- history_length\n",
    "- total_sequence_length\n",
    "\n",
    "# Sampling metadata\n",
    "- num_mc_samples (sub_estimates)\n",
    "- sample_model_iters\n",
    "\n",
    "# Hybrid data\n",
    "- hybrid_model_iters\n",
    "\n",
    "# Beam search metadata\n",
    "- min_variance\n",
    "- search_model_iters\n",
    "- min_variance_reduction\n",
    "- true_coverage\n",
    "- restricted_coverage\n",
    "- num_beams\n",
    "- top_k\n",
    "- top_p\n",
    "- (beam search) interpolation_func\n"
   ]
  },
  {
   "cell_type": "code",
   "execution_count": 7,
   "id": "1b52721a-1c0f-4001-b451-3899e8e6176e",
   "metadata": {},
   "outputs": [],
   "source": [
    "def get_experiment_data(experiment, dataset, h, s, root=\"../data\", \n",
    "            methods=['beam_search_is_hybrid','importance_sampling',\n",
    "                     'random_sampling','beam_search',],\n",
    "            gt_methods=['ground_truth','pseudo_gt'],\n",
    "            num_mc_samples = None,\n",
    "            max_num_queries = None):\n",
    "    \n",
    "        data_dict = {}\n",
    "        gt_type=None\n",
    "        for method in methods:\n",
    "            template_path=root + f\"/{method}/{dataset}/{experiment}/\"\n",
    "            template_file=(f\"{experiment.replace('_','-')}_{dataset.replace('_','-')}_\"\n",
    "            + f\"{method.replace('_','-')}_{f'{h}h' if method != 'entropy_ablation' else '*'}_{s}s*\"\n",
    "            + f\"{f'_{num_mc_samples}mc' if max_num_queries else '_'}\"\n",
    "            + f\"{'' if method in ['beam_search_is_hybrid','entropy_ablation'] else '_model-budget'}\"\n",
    "            + f\"{f'_{max_num_queries}q' if max_num_queries else ''}*.pkl\")\n",
    "            pot_pattern = os.path.join(template_path,template_file)\n",
    "            pot_paths = glob.glob(pot_pattern)\n",
    "            assert len(pot_paths) > 0,f\"No files found for method {method} - {pot_pattern}\"\n",
    "\n",
    "            print(method, \"\\n\",pot_paths[0],\"\\n=============\")\n",
    "            data_dict[method]= read_pkl(pot_paths[0])\n",
    "            data_dict[method]['metadata']['result_filepath'] = pot_paths[0]\n",
    "        gt_template_path=root + f\"/ground_truth/{dataset}/{experiment}/\"\n",
    "        gt_template_file=(f\"{experiment.replace('_','-')}_{dataset.replace('_','-')}_\" +\n",
    "                       f\"{gt_methods[0].replace('_','-')}_{h}h_{s}s*.pkl\")\n",
    "        pgt_template_path=root + f\"/pseudo_gt/{dataset}/{experiment}/\"\n",
    "        pgt_template_file=(f\"{experiment.replace('_','-')}_{dataset.replace('_','-')}_\" +\n",
    "                       f\"{gt_methods[1].replace('_','-')}_{h}h_{s}s_*\"+ \n",
    "                       f\"_pgt{ f'_{max_num_queries}q' if max_num_queries else ''}.pkl\")\n",
    "        gt_pot_pattern = os.path.join(gt_template_path,gt_template_file)\n",
    "        gt_pot_paths = glob.glob(gt_pot_pattern)\n",
    "        pgt_pot_pattern = os.path.join(pgt_template_path,pgt_template_file)\n",
    "        print(pgt_pot_pattern)\n",
    "        pgt_pot_paths = glob.glob(pgt_pot_pattern)\n",
    "        # print(gt_pot_paths)\n",
    "        assert (len(gt_pot_paths) == 1 and len(gt_pot_paths) < 2 )or len(pgt_pot_paths) ==1,\\\n",
    "            \"Error, no ground truth found\"\n",
    "        gt_method = 'ground_truth' if len(gt_pot_paths) >0 else 'pseudo_gt'\n",
    "        final_path = gt_pot_paths[0] if gt_method == \"ground_truth\" else pgt_pot_paths[0]\n",
    "        print(\"GT: \", gt_method, \"\\n\",final_path,\"\\n=============\")\n",
    "        data_dict[gt_method]= read_pkl(final_path)\n",
    "        data_dict[gt_method]['metadata']['result_filepath'] = final_path\n",
    "        data_dict['gt_type'] = gt_method\n",
    "        return data_dict\n",
    "\n",
    "                "
   ]
  },
  {
   "cell_type": "code",
   "execution_count": 8,
   "id": "bff8c61a-43ae-4901-8cf0-1f34078701f1",
   "metadata": {},
   "outputs": [],
   "source": [
    "def flatten_search(samp_dict,sub_estimates,search_type=\"beam_search\",max_num_queries=1e10):\n",
    "    samp_estimates = samp_dict['bs_lower_bound'][:max_num_queries,:len(sub_estimates)]\n",
    "    if not sub_estimates:\n",
    "        if len(samp_estimates.shape) ==3:\n",
    "            samp_estimates = torch.gather(samp_estimates.mean(dim=1),1,\n",
    "                                          samp_dict['excluded_terms'].unsqueeze(-1)).squeeze()\n",
    "            assert len(samp_estimates.shape) == 1,f\"Shape of bs_lower_bounds is {len(samp_estimates.shape)}\"\n",
    "        if len(samp_estimates.shape) ==2:\n",
    "            samp_estimates = torch.gather(samp_estimates,1,\n",
    "                                              samp_dict['excluded_terms'][:max_num_queries].unsqueeze(-1)).squeeze()\n",
    "        \n",
    "        df = pd.DataFrame(samp_estimates)\n",
    "        df[f'{sample_type}_model_iters'] = samp_dict['model_iters']\n",
    "        df[f'{sample_type}_num_beams'] = samp_dist['sample_estimate_var']\n",
    "        \n",
    "    else:\n",
    "        assert samp_estimates.shape[1] == len(sub_estimates),\\\n",
    "        (\"Importance sampling estimates and sub_estimates are not aligned in shape.\" +\n",
    "         f\"got sample_est: {samp_estimates.shape[1]} and sub_estimates: {len(sub_estimates)}\")\n",
    "        if len(samp_estimates.shape) == 2:\n",
    "            samp_estimates = pd.DataFrame(samp_estimates,columns=sub_estimates)\n",
    "            beams = pd.DataFrame(samp_dict['num_beams'][:,:len(sub_estimates)],columns=sub_estimates)\n",
    "            true_cov = pd.DataFrame(samp_dict['true_coverage'][:max_num_queries,:len(sub_estimates)],columns=sub_estimates)\n",
    "            restr_cov = pd.DataFrame(samp_dict['restricted_coverage'][:max_num_queries,:len(sub_estimates)],columns=sub_estimates)\n",
    "            model_iters = pd.DataFrame(samp_dict['model_iters'][:max_num_queries,:len(sub_estimates)],columns=sub_estimates)\n",
    "            \n",
    "            df_list = [\n",
    "                (f'{search_type}_lb',samp_estimates),\n",
    "                ('model_iters',model_iters),\n",
    "                ('num_beams',beams),\n",
    "                ('true_coverage',true_cov),\n",
    "                ('restricted_coverage',restr_cov),\n",
    "            ]\n",
    "            \n",
    "            for i,(name,df) in enumerate(df_list):\n",
    "                df = pd.melt(df,value_vars=sub_estimates)\n",
    "                df.columns = ['num_samples',name]\n",
    "            # df = df_list[0]\n",
    "            # for name,df in df_list[1:]:\n",
    "            #     df[f'{search_type}_{name}']=df[name]\n",
    "            \n",
    "            # df[f'{sample_type}_variance']=var_df['variance']\n",
    "            \n",
    "        elif len(samp_estimates.shape) == 3:\n",
    "            df_list = []\n",
    "            for i in range(len(sub_estimates)):\n",
    "                df = pd.DataFrame(\n",
    "                            torch.gather(samp_estimates[:max_num_queries,i],1,\n",
    "                                      samp_dict['excluded_terms'][:max_num_queries].unsqueeze(-1)).squeeze()\n",
    "                        )\n",
    "                df[f'{search_type}_model_iters'] = samp_dict['model_iters'][:max_num_queries,i]\n",
    "                df[f'{search_type}_num_beams'] = samp_dict['num_beams'][:max_num_queries,i]\n",
    "                df[f'{search_type}_true_coverage'] = samp_dict['true_coverage'][:max_num_queries,i]\n",
    "                df[f'{search_type}_restricted_coverage'] = samp_dict['restricted_coverage'][:max_num_queries,i]\n",
    "                # df[f'{search_type}_est_v'] = samp_dict['restricted_coverage'][:max_num_queries,i]\n",
    "                df_list.append(df)\n",
    "            df = pd.concat(df_list,axis=0,ignore_index=True)\n",
    "        else:\n",
    "            assert False,f\"Shape of samp_estimates is {len(samp_estimates.shape)}\"\n",
    "    res_cols = ['lb','model_iters','num_beams','true_coverage','restricted_coverage']\n",
    "    # print(df.columns, df.head())\n",
    "    assert df.shape[-1] == len(res_cols), f\"DF shape is {df.shape}\"\n",
    "    df.columns = [f'{search_type}_{s}' for s in res_cols]\n",
    "    return df\n",
    "\n",
    "\n",
    "def flatten_entropy(ent_dict,sub_estimates,dataset,max_num_queries=1e10):\n",
    "    entropy = ent_dict['entropy_probs'][:max_num_queries]\n",
    "    df_list = []\n",
    "    for i in range(entropy.shape[1]):\n",
    "        df = pd.DataFrame(\n",
    "            entropy[:,i],\n",
    "            columns = ['entropy'])\n",
    "        # df['entropy'] = 10\n",
    "        df['dataset_name'] = dataset\n",
    "        df['sequence_id'] = list(range(df.shape[0]))\n",
    "        df['num_steps'] = (i+1)\n",
    "        df_list.append(df)\n",
    "    return pd.concat(df_list,axis=0)\n",
    "\n",
    "\n",
    "\n",
    "def flatten_sampling(samp_dict,sub_estimates,sample_type=\"importance\",max_num_queries=1e10):\n",
    "    if sample_type == \"frequentist\":\n",
    "        samp_estimates = samp_dict['frequentist_estimates'][:max_num_queries,:len(sub_estimates)]\n",
    "    else:\n",
    "        samp_estimates = samp_dict['sample_estimates'][:max_num_queries,:len(sub_estimates)]\n",
    "    if not sub_estimates:\n",
    "        if len(samp_estimates.shape) ==3:\n",
    "            assert samp_estimates.shape[1] == samp_dict['metadata']['num_mc_samples'],\\\n",
    "            (f\"Error, estimate dimensions are {samp_estimates.shape} but the number of samples is \" +\n",
    "             f\"{samp_dict['metadata']['num_mc_samples']}, which does not match\")\n",
    "            \n",
    "            samp_estimates = torch.gather(samp_estimates.mean(dim=1),1,\n",
    "                                          samp_dict['excluded_terms'].unsqueeze(-1)).squeeze()\n",
    "            assert len(samp_estimates.shape) == 1,f\"Shape of imp_samp_estimates is {len(samp_estimates.shape)}\"\n",
    "        if len(samp_estimates.shape) ==2:\n",
    "            samp_estimates = torch.gather(samp_estimates,1,\n",
    "                                              samp_dict['excluded_terms'][:max_num_queries].unsqueeze(-1)).squeeze()\n",
    "        \n",
    "        df = pd.DataFrame(samp_estimates)\n",
    "        df.insert(0,'num_mc_samples',samp_dict['metadata']['num_mc_samples'])\n",
    "        df[f'{sample_type}_model_iters'] = samp_dict['model_iters'][:max_num_queries]\n",
    "        # df[f'{sample_type}_est_variance'] = samp_dist['sample_estimate_var'][:max_num_queries]\n",
    "        \n",
    "    else:\n",
    "        assert samp_estimates.shape[1] == len(sub_estimates),\\\n",
    "        (\"Importance sampling estimates and sub_estimates are not aligned in shape.\" +\n",
    "         f\"got sample_est: {samp_estimates.shape[1]} and sub_estimates: {len(sub_estimates)}\")\n",
    "        if len(samp_estimates.shape) == 2:\n",
    "            samp_estimates = pd.DataFrame(samp_estimates,columns=sub_estimates)\n",
    "            # samp_var = pd.DataFrame(samp_dict['sample_estimate_var'][:max_num_queries,:len(sub_estimates)],columns=sub_estimates)\n",
    "            model_iters = pd.DataFrame(samp_dict['model_iters'][:max_num_queries,:len(sub_estimates)],columns=sub_estimates)\n",
    "            sub_estimate_num_samples = None\n",
    "            if sample_type != 'hybrid':\n",
    "                sub_estimate_num_samples = pd.DataFrame(samp_dict['num_mc_samples'][:max_num_queries,:len(sub_estimates)],columns=sub_estimates)\n",
    "            \n",
    "            df_list = [\n",
    "                ('sampling_est',samp_estimates),\n",
    "                ('num_mc_samples',sub_estimate_num_samples),\n",
    "                ('model_iters',model_iters),\n",
    "                # ('variance',samp_var),\n",
    "            ]\n",
    "            \n",
    "            for i,(name,df) in enumerate(df_list):\n",
    "                if name == 'num_mc_samples' and sample_type in [\"hybrid\",\"frequentist\"]: continue\n",
    "                df = pd.melt(df,value_vars=sub_estimates)\n",
    "                df.columns = ['num_samples',name]\n",
    "                df_list[i] = (name,df)\n",
    "            final_df = df_list[0][1]\n",
    "            for name,df in df_list[1:]:\n",
    "                # print(name,df.head())\n",
    "                if name == 'num_mc_samples' and sample_type in [\"hybrid\",\"frequentist\"]: continue\n",
    "                final_df[name]=df[name]\n",
    "            # print(df.head())\n",
    "            if sample_type == \"hybrid\":\n",
    "                df['num_mc_samples'] = df['num_samples']\n",
    "                df = df[['num_mc_samples',f'{sample_type}_sampling_est',\n",
    "                         'model_iters']]\n",
    "            df = final_df\n",
    "            \n",
    "            # df[f'{sample_type}_variance']=var_df['variance']\n",
    "            \n",
    "        elif len(samp_estimates.shape) == 3:\n",
    "            df_list = []\n",
    "            for i in range(len(sub_estimates)):\n",
    "                if sample_type == \"frequentist\":\n",
    "                    df = pd.DataFrame(\n",
    "                               samp_estimates[:max_num_queries,i]\n",
    "                            )\n",
    "                else:\n",
    "                    df = pd.DataFrame(\n",
    "                                torch.gather(samp_estimates[:max_num_queries,i],1,\n",
    "                                          samp_dict['excluded_terms'][:max_num_queries].unsqueeze(-1)).squeeze()\n",
    "                            )\n",
    "                if sample_type == \"hybrid\": df.insert(0,'num_mc_samples',sub_estimates[i])\n",
    "                else: df.insert(0,'num_mc_samples',samp_dict['num_mc_samples'][:max_num_queries,i])\n",
    "                df[f'{sample_type}_model_iters'] = samp_dict['model_iters'][:max_num_queries,i]\n",
    "                # samp_est_var = torch.gather(samp_dict['sample_estimate_var'][:max_num_queries,i],1,\n",
    "                #                             samp_dict['excluded_terms'][:max_num_queries].unsqueeze(-1)).squeeze()\n",
    "                                            \n",
    "                # df[f'{sample_type}_variance'] = samp_est_var\n",
    "                \n",
    "                df_list.append(df)\n",
    "            df = pd.concat(df_list,axis=0,ignore_index=True)\n",
    "        else:\n",
    "            assert False,f\"Shape of samp_estimates is {len(samp_estimates.shape)}\"\n",
    "    res_cols = ['num_mc_samples','sampling_est','model_iters']\n",
    "    assert df.shape[-1] == len(res_cols), f\"DF shape is {df.shape}\"\n",
    "    df.columns = [f'{sample_type}_{s}' for s in res_cols]\n",
    "    # print(sample_type,df.())\n",
    "    return df\n",
    "\n",
    "def flatten_pgt_old(data_dict,max_num_queries=1e10):\n",
    "    gt_dict = data_dict['pseudo_gt']\n",
    "    # gt = gt_dict['bs_lower_bound']\n",
    "    gt = torch.gather(gt_dict['sample_estimates'][:max_num_queries],1,\n",
    "                      gt_dict['excluded_terms'][:max_num_queries].unsqueeze(-1)).squeeze()\n",
    "    assert len(gt.shape) == 1,\\\n",
    "    f\"Ground truth has {len(gt.shape)} dimensions\"\n",
    "    df = pd.DataFrame(gt,columns=['ground_truth'])\n",
    "    for item in ['true_coverage','restricted_coverage']:\n",
    "        df[f\"gt_{item}\"] = [-1]*gt_dict['sample_estimates'][:max_num_queries].shape[0]\n",
    "        \n",
    "    df[f\"gt_model_iters\"] = [gti.item() for gti in gt_dict['model_iters'][:max_num_queries]]\n",
    "    # df[\"gt_model_iters\"] = gt_dict['model_iters']\n",
    "    df['is_gt'] = 0\n",
    "    # This is actually number of samples\n",
    "    if len(gt_dict['num_mc_samples'].shape) > 1:\n",
    "        df['gt_num_beams'] = gt_dict['num_mc_samples'][:max_num_queries,0]\n",
    "    else:\n",
    "        df['gt_num_beams'] = gt_dict['num_mc_samples'][:max_num_queries]\n",
    "    \n",
    "    return df\n",
    "\n",
    "def flatten_pgt(data_dict,max_num_queries=1e10):\n",
    "    gt_dict = data_dict['pseudo_gt']\n",
    "    # gt = gt_dict['bs_lower_bound']\n",
    "    df_list = []\n",
    "    for i in range(1,gt_dict['intermediate_query_probs'].shape[1]-1):\n",
    "        \n",
    "        gt = torch.gather(gt_dict['intermediate_query_probs'][:max_num_queries,i],1,\n",
    "                          gt_dict['excluded_terms'][:max_num_queries].unsqueeze(-1)).squeeze()\n",
    "        assert len(gt.shape) == 1,\\\n",
    "        f\"Ground truth has {len(gt.shape)} dimensions\"\n",
    "        df = pd.DataFrame(gt,columns=['ground_truth'])\n",
    "        for item in ['true_coverage','restricted_coverage']:\n",
    "            df[f\"gt_{item}\"] = [-1]*gt_dict['sample_estimates'][:max_num_queries].shape[0]\n",
    "\n",
    "        df[\"gt_model_iters\"] = [gti.item() for gti in gt_dict['model_iters'][:max_num_queries]]\n",
    "        df[\"sequence_id\"] = list(range(gt.shape[0]))\n",
    "        df['num_steps'] = i+1\n",
    "        # df[\"gt_model_iters\"] = gt_dict['model_iters']\n",
    "        df['is_gt'] = 0\n",
    "        # This is actually number of samples\n",
    "        df['gt_num_beams'] = gt_dict['num_mc_samples'][:max_num_queries, i]\n",
    "        df_list.append(df)\n",
    "    \n",
    "    df = pd.concat(df_list,axis =0)\n",
    "    return df\n",
    "\n",
    "def flatten_gt(data_dict,max_num_queries = 1e10):\n",
    "    gt_dict = data_dict['ground_truth']\n",
    "    # gt = gt_dict['bs_lower_bound']\n",
    "    gt = torch.gather(gt_dict['bs_lower_bound'][:max_num_queries],1,\n",
    "                      gt_dict['excluded_terms'][:max_num_queries].unsqueeze(-1)).squeeze()\n",
    "    assert len(gt.shape) == 1,\\\n",
    "    f\"Ground truth has {len(gt.shape)} dimensions\"\n",
    "    df = pd.DataFrame(gt,columns=['ground_truth'])\n",
    "    for item in ['true_coverage','restricted_coverage','model_iters']:\n",
    "        df[f\"gt_{item}\"] = [gti.item() for gti in gt_dict[item][:max_num_queries]]\n",
    "    # df[\"gt_model_iters\"] = gt_dict['model_iters']\n",
    "    df['is_gt'] = 1\n",
    "    df['gt_num_beams'] = gt_dict['metadata']['num_beams']\n",
    "    \n",
    "    return df\n",
    "    \n",
    "\n",
    "def flatten_experiment(data_dict,experiment, dataset,h,s,\n",
    "     global_agreement_vals= ['excluded_terms'],\n",
    "     max_num_queries=1e10,\n",
    "      num_mc_samples =None):\n",
    "    sub_estimates = sorted(list(\n",
    "        # set(data_dict['importance_sampling']['metadata']['sub_estimates']) &\n",
    "        # set(data_dict['random_sampling']['metadata']['sub_estimates']) &\n",
    "        set(data_dict['beam_search_is_hybrid']['metadata']['sub_estimates'])))\n",
    "    sub_est_len = 1 if not sub_estimates else len(sub_estimates)\n",
    "    \n",
    "    importance_df = flatten_sampling(data_dict['importance_sampling'],sub_estimates,\n",
    "                                     sample_type ='importance',max_num_queries=max_num_queries)\n",
    "    random_df = flatten_sampling(data_dict['random_sampling'],sub_estimates,\n",
    "                                 sample_type ='random',max_num_queries=max_num_queries)\n",
    "    hybrid_df = flatten_sampling(data_dict['beam_search_is_hybrid'],sub_estimates,\n",
    "                                 sample_type ='hybrid',max_num_queries = max_num_queries)\n",
    "    # frequentist_df = flatten_sampling(data_dict['frequentist_estimates'],sub_estimates,\n",
    "    #                          sample_type ='frequentist',max_num_queries = max_num_queries)\n",
    "    search_df = flatten_search(data_dict['beam_search'],sub_estimates,\n",
    "                               search_type='beam_search',max_num_queries = max_num_queries)\n",
    "    # entropy_df = flatten_entropy(data_dict['entropy_ablation'],sub_estimates,\n",
    "    #                            dataset,max_num_queries = max_num_queries)\n",
    "    # print(entropy_df.head())\n",
    "    # hybrid_df.drop(\"num_mc_samples\",inplace = True,axis=1)\n",
    "    \n",
    "    if data_dict['gt_type'] == 'ground_truth':\n",
    "        gt_df = flatten_gt(data_dict,max_num_queries=max_num_queries)\n",
    "    else:\n",
    "        # gt_df = flatten_pgt(data_dict,max_num_queries=max_num_queries)\n",
    "        gt_df = flatten_pgt_old(data_dict,max_num_queries=max_num_queries)\n",
    "    gt_df = pd.concat([gt_df]*sub_est_len,axis=0,ignore_index=True)\n",
    "    final_df = pd.concat([random_df,importance_df,hybrid_df,search_df,gt_df],axis=1)\n",
    "    \n",
    "    # Metadata checks\n",
    "    is_metadata = ['top_k','top_p']\n",
    "    hybrid_metadata = ['min_variance','min_var_reduction']\n",
    "    bs_metadata = []\n",
    "    gt_metadata = []\n",
    "    for m in is_metadata:\n",
    "        final_df['is_' + m] = int(data_dict['importance_sampling']['metadata'][m])\n",
    "    for m in hybrid_metadata:\n",
    "        final_df['hybrid_' + m] = float(data_dict['beam_search_is_hybrid']['metadata'][m])\n",
    "    for m in bs_metadata:\n",
    "        final_df['bs_lb_' + m] = data_dict['beam_search']['metadata'][m]\n",
    "    for m in bs_metadata:\n",
    "        final_df['gt_' + m] = data_dict[data_dict['gt_type']]['metadata'][m]\n",
    "    # final_df['interp_func'] = str(data_dict[data_dict['gt_type']]['metadata']['interp_func']).split(\" \")[1]\n",
    "    \n",
    "    \n",
    "    final_df['dataset_name'] = dataset\n",
    "    final_df['hist_len'] = h\n",
    "    final_df['total_seq_len'] = s\n",
    "    final_df['num_steps'] = s-h\n",
    "    final_df['frequentist_num_mc_samples'] = final_df['importance_num_mc_samples']\n",
    "    sequence_ids = list(range(data_dict['importance_sampling']['sample_estimates'][:max_num_queries].shape[0]))*sub_est_len\n",
    "    excluded_terms = data_dict['importance_sampling']['excluded_terms'][:max_num_queries].numpy().tolist()*sub_est_len\n",
    "    final_df['sequence_id'] = sequence_ids\n",
    "    # final_df = final_df.merge(gt_df, how='left',on=['sequence_id','num_steps'])\n",
    "    final_df['excluded_term'] = excluded_terms\n",
    "    final_df['is_lin_interp'] = 1\n",
    "    # print(final_df.columns)\n",
    "    # final_df = final_df.merge(entropy_df,how = 'left', on = ['sequence_id','num_steps','dataset_name'])\n",
    "    # print(final_df.isnull().sum())\n",
    "                 \n",
    "    # ==== Phase shift stuff ====\n",
    "    # phase_shifts = read_pkl(\"/srv/disk00/samshow/amazon/amazon_phase_trans.pkl\")\n",
    "    # phase_shift_val_inds = read_pkl(\"../data/amazon/amazon_val_dl_transition_inds.pkl\")\n",
    "    # phase_shifts = phase_shifts[phase_shift_val_inds].numpy().tolist()\n",
    "    # print(phase_shift_val_inds.shape, final_df.shape)\n",
    "    # final_df['phase_shifts'] = phase_shifts * sub_est_len\n",
    "    # final_df['phase_shifts'] -=1\n",
    "    \n",
    "    return final_df\n",
    "     \n",
    "    \n",
    "    "
   ]
  },
  {
   "cell_type": "code",
   "execution_count": 11,
   "id": "cb936c89-eb0e-42cd-923b-8a60a9fc167c",
   "metadata": {},
   "outputs": [],
   "source": [
    "experiment = [\"val_dl\"]\n",
    "dataset = [\"apps\"]\n",
    "lengths = [(13,15),(12,15)]\n",
    "def flatten_experiments(experiments, datasets, lengths,model_budget=False,\n",
    "                       max_num_queries=None,\n",
    "                       num_mc_samples=None):\n",
    "    data_list = []\n",
    "    for experiment in experiments:\n",
    "        for dataset in datasets:\n",
    "            for h,s in lengths:\n",
    "                data = get_experiment_data(experiment,dataset,\n",
    "                                           h,s,max_num_queries=max_num_queries,\n",
    "                                          num_mc_samples=num_mc_samples)\n",
    "                df = flatten_experiment(data,experiment, dataset, \n",
    "                                        h,s,max_num_queries=max_num_queries,\n",
    "                                       num_mc_samples =num_mc_samples)\n",
    "                    \n",
    "#                     print(df.head())\n",
    "#                     print(df.columns)\n",
    "#                     print(df.shape)\n",
    "#                     sys.exit(1)\n",
    "                    \n",
    "                data_list.append(df)\n",
    "                    \n",
    "    # print(len(data_list))\n",
    "    data_df = pd.concat(data_list,axis = 0)\n",
    "    ordering = [ 'sequence_id','num_steps', 'excluded_term', 'is_gt','ground_truth',\n",
    "                'random_sampling_est','importance_sampling_est',\n",
    "                'hybrid_sampling_est', 'beam_search_lb',\n",
    "                'random_num_mc_samples', 'importance_num_mc_samples','hybrid_num_mc_samples',\n",
    "                'gt_model_iters','random_model_iters', #continues to next line\n",
    "                'importance_model_iters','hybrid_model_iters','beam_search_model_iters',\n",
    "                # 'random_variance','importance_variance',  'hybrid_variance',\n",
    "                'gt_true_coverage', 'gt_restricted_coverage', 'gt_num_beams',\n",
    "                'beam_search_true_coverage', 'beam_search_restricted_coverage', 'beam_search_num_beams',\n",
    "                'is_top_k','is_top_p',\n",
    "                'hybrid_min_variance','hybrid_min_var_reduction', \n",
    "                'hist_len', 'total_seq_len','dataset_name']#, 'phase_shifts']\n",
    "    data_df = data_df[ordering]\n",
    "    \n",
    "    return data_df\n",
    "                \n",
    "                          "
   ]
  },
  {
   "cell_type": "code",
   "execution_count": 12,
   "id": "62c51bbf-1517-42cc-8ed2-b99b496d041f",
   "metadata": {},
   "outputs": [
    {
     "name": "stdout",
     "output_type": "stream",
     "text": [
      "beam_search_is_hybrid \n",
      " ../data/beam_search_is_hybrid/wikitext/val_dl/val-dl_wikitext_beam-search-is-hybrid_11h_15s_1000mc_500q.pkl \n",
      "=============\n",
      "importance_sampling \n",
      " ../data/importance_sampling/wikitext/val_dl/val-dl_wikitext_importance-sampling_11h_15s_1000mc_model-budget_500q.pkl \n",
      "=============\n",
      "random_sampling \n",
      " ../data/random_sampling/wikitext/val_dl/val-dl_wikitext_random-sampling_11h_15s_1000mc_model-budget_500q.pkl \n",
      "=============\n",
      "beam_search \n",
      " ../data/beam_search/wikitext/val_dl/val-dl_wikitext_beam-search_11h_15s_1000mc_model-budget_500q.pkl \n",
      "=============\n",
      "../data/pseudo_gt/wikitext/val_dl/val-dl_wikitext_pseudo-gt_11h_15s_*_pgt_500q.pkl\n",
      "GT:  pseudo_gt \n",
      " ../data/pseudo_gt/wikitext/val_dl/val-dl_wikitext_pseudo-gt_11h_15s_1000mc_pgt_500q.pkl \n",
      "=============\n",
      "beam_search_is_hybrid \n",
      " ../data/beam_search_is_hybrid/wikitext/val_dl/val-dl_wikitext_beam-search-is-hybrid_12h_15s_1000mc_500q.pkl \n",
      "=============\n",
      "importance_sampling \n",
      " ../data/importance_sampling/wikitext/val_dl/val-dl_wikitext_importance-sampling_12h_15s_1000mc_model-budget_500q.pkl \n",
      "=============\n",
      "random_sampling \n",
      " ../data/random_sampling/wikitext/val_dl/val-dl_wikitext_random-sampling_12h_15s_1000mc_model-budget_500q.pkl \n",
      "=============\n",
      "beam_search \n",
      " ../data/beam_search/wikitext/val_dl/val-dl_wikitext_beam-search_12h_15s_1000mc_model-budget_500q.pkl \n",
      "=============\n",
      "../data/pseudo_gt/wikitext/val_dl/val-dl_wikitext_pseudo-gt_12h_15s_*_pgt_500q.pkl\n",
      "GT:  pseudo_gt \n",
      " ../data/pseudo_gt/wikitext/val_dl/val-dl_wikitext_pseudo-gt_12h_15s_1000mc_pgt_500q.pkl \n",
      "=============\n",
      "beam_search_is_hybrid \n",
      " ../data/beam_search_is_hybrid/wikitext/val_dl/val-dl_wikitext_beam-search-is-hybrid_13h_15s_1000mc_500q.pkl \n",
      "=============\n",
      "importance_sampling \n",
      " ../data/importance_sampling/wikitext/val_dl/val-dl_wikitext_importance-sampling_13h_15s_1000mc_model-budget_500q.pkl \n",
      "=============\n",
      "random_sampling \n",
      " ../data/random_sampling/wikitext/val_dl/val-dl_wikitext_random-sampling_13h_15s_1000mc_model-budget_500q.pkl \n",
      "=============\n",
      "beam_search \n",
      " ../data/beam_search/wikitext/val_dl/val-dl_wikitext_beam-search_13h_15s_1000mc_model-budget_500q.pkl \n",
      "=============\n",
      "../data/pseudo_gt/wikitext/val_dl/val-dl_wikitext_pseudo-gt_13h_15s_*_pgt_500q.pkl\n",
      "GT:  pseudo_gt \n",
      " ../data/pseudo_gt/wikitext/val_dl/val-dl_wikitext_pseudo-gt_13h_15s_1000mc_pgt_500q.pkl \n",
      "=============\n"
     ]
    }
   ],
   "source": [
    "# df = flatten_experiments(['val_dl'],['shakespeare'],[(18,20),(17,20)])\n",
    "# df.to_csv('shakespeare_17-18_20.csv',index=None)\n",
    "# df = flatten_experiments(['val_dl'],['amazon'],[(13,15),(12,15)])\n",
    "# df.to_csv('amazon_12-13_15.csv',index=None)\n",
    "# df = flatten_experiments(['val_dl'],['moocs'],[(13,15),(12,15)])\n",
    "# df.to_csv('moocs_12-13_15.csv',index=None)\n",
    "# df = flatten_experiments(['val_dl'],['apps'],[(12,15),(13,15)])\n",
    "# df.to_csv('apps_12-13_15.csv',index=None)\n",
    "\n",
    "# max_num_queries=500\n",
    "max_num_queries=500\n",
    "num_mc_samples=1000\n",
    "# df_names = ['shakespeare','amazon','moocs','apps']\n",
    "df_names = ['wikitext']\n",
    "dfs = []\n",
    "df = flatten_experiments(['val_dl'],['wikitext'],[(11,15),(12,15),(13,15)],\n",
    "                        max_num_queries=max_num_queries,\n",
    "                        num_mc_samples=num_mc_samples)\n",
    "# df = flatten_experiments(['val_dl'],['wikitext'],[(12,15),(13,15)],\n",
    "#                         max_num_queries=max_num_queries)\n",
    "# dfs.append(df)\n",
    "# df = flatten_experiments(['val_dl'],['shakespeare'],[(h,20) for h in [10,14,18]],\n",
    "#                         max_num_queries=max_num_queries,\n",
    "#                         num_mc_samples=num_mc_samples)\n",
    "# dfs.append(df)\n",
    "# df.to_csv(f'shakespeare_10-14-18_20_budget-ablation_{max_num_queries}q.csv',index=None)\n",
    "# df = flatten_experiments(['val_dl'],['amazon'],[(h,15) for h in [5,9,13] ],\n",
    "#                         max_num_queries=max_num_queries,\n",
    "#                         num_mc_samples=num_mc_samples)\n",
    "# dfs.append(df)\n",
    "# df.to_csv(f'amazon_5-9-13_15_budget-ablation_{max_num_queries}q.csv',index=None)\n",
    "# df = flatten_experiments(['val_dl'],['moocs'],[(h,15) for h in [5,9,13]],\n",
    "#                         max_num_queries=max_num_queries,\n",
    "#                         num_mc_samples=num_mc_samples)\n",
    "# dfs.append(df)\n",
    "# df.to_csv(f'moocs_5-9-13_15_budget-ablation_{max_num_queries}q.csv',index=None)\n",
    "# df = flatten_experiments(['val_dl'],['apps'],[(h,15) for h in [5,9,13] ],\n",
    "#                         max_num_queries=max_num_queries,\n",
    "#                         num_mc_samples=num_mc_samples)\n",
    "# dfs.append(df)\n",
    "# df.to_csv(f'apps_5-9-13_15_budget-ablation_{max_num_queries}q.csv',index=None)\n"
   ]
  },
  {
   "cell_type": "code",
   "execution_count": 14,
   "id": "7691d808-d369-4658-993a-edc275d9c75f",
   "metadata": {},
   "outputs": [],
   "source": [
    "df.to_csv(\"wikitext_11-13_15.csv\",index=None)"
   ]
  },
  {
   "cell_type": "code",
   "execution_count": 7,
   "id": "cbb59b77-2a46-4927-8bcd-461da481db72",
   "metadata": {},
   "outputs": [],
   "source": [
    "# for tdf in dfs:\n",
    "#     print(tdf.frequentist_sampling_est.mean())\n",
    "#     print(tdf.isnull().sum())"
   ]
  },
  {
   "cell_type": "code",
   "execution_count": 131,
   "id": "88f03c21-bc8e-4918-aace-c6f234e514ca",
   "metadata": {},
   "outputs": [
    {
     "name": "stdout",
     "output_type": "stream",
     "text": [
      "shakespeare 2\n",
      "0.00 Occurrence\n",
      "      ground_truth  beam_search_lb  gt_num_beams          diff      rel_diff\n",
      "9465      0.077765        0.077766           0.0  3.725290e-08  4.790416e-07\n",
      "6465      0.077765        0.077766           0.0  3.725290e-08  4.790416e-07\n",
      "8465      0.077765        0.077766           0.0  3.725290e-08  4.790416e-07\n",
      "7465      0.077765        0.077766           0.0  3.725290e-08  4.790416e-07\n",
      "6093      0.254815        0.254815           0.0  1.192093e-07  4.678274e-07\n",
      "--------------------\n",
      "shakespeare 6\n",
      "2.20 Occurrence\n",
      "      ground_truth  beam_search_lb  gt_num_beams      diff   rel_diff\n",
      "8743  8.530883e-07        0.000056       10000.0  0.000055  64.608963\n",
      "9743  8.530883e-07        0.000056       10000.0  0.000055  64.608963\n",
      "7743  8.530883e-07        0.000056       10000.0  0.000055  64.608940\n",
      "6743  8.530883e-07        0.000056       10000.0  0.000055  64.189468\n",
      "5743  8.530883e-07        0.000054       10000.0  0.000053  62.558880\n",
      "--------------------\n",
      "shakespeare 10\n",
      "0.20 Occurrence\n",
      "      ground_truth  beam_search_lb  gt_num_beams      diff  rel_diff\n",
      "9606       0.02215        0.023185       16000.0  0.001034  0.046703\n",
      "8606       0.02215        0.023185       16000.0  0.001034  0.046703\n",
      "7606       0.02215        0.023185       16000.0  0.001034  0.046692\n",
      "6606       0.02215        0.023161       16000.0  0.001010  0.045599\n",
      "5606       0.02215        0.023110       16000.0  0.000959  0.043300\n",
      "--------------------\n",
      "==============================\n",
      "amazon 2\n",
      "0.00 Occurrence\n",
      "      ground_truth  beam_search_lb  gt_num_beams          diff      rel_diff\n",
      "7915      0.067699        0.067699           0.0  2.980232e-08  4.402193e-07\n",
      "8915      0.067699        0.067699           0.0  2.980232e-08  4.402193e-07\n",
      "9915      0.067699        0.067699           0.0  2.980232e-08  4.402193e-07\n",
      "6915      0.067699        0.067699           0.0  2.980232e-08  4.402193e-07\n",
      "8357      0.071689        0.071689           0.0  2.235174e-08  3.117877e-07\n",
      "--------------------\n",
      "amazon 6\n",
      "0.00 Occurrence\n",
      "Empty DataFrame\n",
      "Columns: [ground_truth, beam_search_lb, gt_num_beams, diff, rel_diff]\n",
      "Index: []\n",
      "--------------------\n",
      "amazon 10\n",
      "0.00 Occurrence\n",
      "Empty DataFrame\n",
      "Columns: [ground_truth, beam_search_lb, gt_num_beams, diff, rel_diff]\n",
      "Index: []\n",
      "--------------------\n",
      "==============================\n",
      "moocs 2\n",
      "0.00 Occurrence\n",
      "      ground_truth  beam_search_lb  gt_num_beams          diff      rel_diff\n",
      "9784      0.556210        0.556210           0.0  3.576279e-07  6.429732e-07\n",
      "7784      0.556210        0.556210           0.0  3.576279e-07  6.429732e-07\n",
      "8784      0.556210        0.556210           0.0  3.576279e-07  6.429732e-07\n",
      "6784      0.556210        0.556210           0.0  3.576279e-07  6.429732e-07\n",
      "9688      0.192621        0.192621           0.0  1.192093e-07  6.188795e-07\n",
      "--------------------\n",
      "moocs 6\n",
      "1.48 Occurrence\n",
      "      ground_truth  beam_search_lb  gt_num_beams      diff  rel_diff\n",
      "9041      0.001278        0.001826       10000.0  0.000548  0.428718\n",
      "8041      0.001278        0.001816       10000.0  0.000538  0.420788\n",
      "7041      0.001278        0.001790       10000.0  0.000513  0.401104\n",
      "6041      0.001278        0.001702       10000.0  0.000424  0.331694\n",
      "5041      0.001278        0.001641       10000.0  0.000363  0.284169\n",
      "--------------------\n",
      "moocs 10\n",
      "0.14 Occurrence\n",
      "      ground_truth  beam_search_lb  gt_num_beams      diff  rel_diff\n",
      "9294      0.003064        0.003182       10000.0  0.000118  0.038489\n",
      "8294      0.003064        0.003182       10000.0  0.000118  0.038488\n",
      "7294      0.003064        0.003181       10000.0  0.000118  0.038467\n",
      "9509      0.063350        0.065489       10000.0  0.002139  0.033768\n",
      "8509      0.063350        0.065489       10000.0  0.002139  0.033767\n",
      "--------------------\n",
      "==============================\n",
      "apps 2\n",
      "0.00 Occurrence\n",
      "      ground_truth  beam_search_lb  gt_num_beams          diff  rel_diff\n",
      "7522      0.043785        0.043785           0.0  2.086163e-07  0.000005\n",
      "8522      0.043785        0.043785           0.0  2.086163e-07  0.000005\n",
      "6522      0.043785        0.043785           0.0  2.086163e-07  0.000005\n",
      "9522      0.043785        0.043785           0.0  2.086163e-07  0.000005\n",
      "5522      0.043785        0.043785           0.0  2.048910e-07  0.000005\n",
      "--------------------\n",
      "apps 6\n",
      "13.09 Occurrence\n",
      "      ground_truth  beam_search_lb  gt_num_beams      diff  rel_diff\n",
      "9705      0.000006        0.000012       10000.0  0.000006  0.876286\n",
      "8705      0.000006        0.000012       10000.0  0.000006  0.876278\n",
      "7705      0.000006        0.000012       10000.0  0.000006  0.876064\n",
      "6705      0.000006        0.000012       10000.0  0.000005  0.864291\n",
      "5705      0.000006        0.000012       10000.0  0.000005  0.833080\n",
      "--------------------\n",
      "apps 10\n",
      "4.39 Occurrence\n",
      "      ground_truth  beam_search_lb  gt_num_beams          diff  rel_diff\n",
      "9017  2.088369e-08    4.173637e-08       10000.0  2.085268e-08  0.998515\n",
      "8017  2.088369e-08    4.173634e-08       10000.0  2.085265e-08  0.998514\n",
      "7017  2.088369e-08    4.173517e-08       10000.0  2.085148e-08  0.998458\n",
      "6017  2.088369e-08    4.160955e-08       10000.0  2.072586e-08  0.992442\n",
      "5017  2.088369e-08    4.090974e-08       10000.0  2.002605e-08  0.958933\n",
      "--------------------\n",
      "==============================\n"
     ]
    }
   ],
   "source": [
    "for df,df_name in zip(dfs,df_names):\n",
    "    for i in sorted(df.num_steps.drop_duplicates().values):\n",
    "        tdf = df[df.num_steps == i]\n",
    "        test = tdf[tdf.beam_search_lb > tdf.ground_truth]\n",
    "        test = test[['ground_truth','beam_search_lb','gt_num_beams']]\n",
    "        test['diff'] = np.abs(test.ground_truth - test.beam_search_lb)\n",
    "        test['rel_diff'] = test['diff']/test['ground_truth']\n",
    "        test = test.sort_values(by='rel_diff',ascending=False)\n",
    "        print(df_name, i)\n",
    "        print(f\"{((np.abs(test.ground_truth - test.beam_search_lb) > 1e-5).sum()/tdf.shape[0])*100:.2f} Occurrence\")\n",
    "        print(test.head())\n",
    "        print(\"-----\"*4)\n",
    "    print(\"=====\"*6)\n",
    "\n",
    "# tdf[['num_steps','beam_search_lb']].groupby(by=\"num_steps\").count()"
   ]
  },
  {
   "cell_type": "code",
   "execution_count": 114,
   "id": "340e4fc7-3c58-40da-941b-d3190a744bc0",
   "metadata": {},
   "outputs": [
    {
     "data": {
      "text/plain": [
       "0    3\n",
       "0    2\n",
       "Name: num_steps, dtype: int64"
      ]
     },
     "execution_count": 114,
     "metadata": {},
     "output_type": "execute_result"
    }
   ],
   "source": [
    "df.num_steps.drop_duplicates()"
   ]
  },
  {
   "cell_type": "code",
   "execution_count": 63,
   "id": "fc270ad8-8165-496b-b817-dd60288621f2",
   "metadata": {},
   "outputs": [
    {
     "name": "stdout",
     "output_type": "stream",
     "text": [
      "Series([], Name: hybrid_num_mc_samples, dtype: int64)\n"
     ]
    }
   ],
   "source": [
    "print(df.hybrid_num_mc_samples.drop_duplicates())"
   ]
  },
  {
   "cell_type": "code",
   "execution_count": 12,
   "id": "6ce843b1-19fd-4a08-bd5e-a76576456916",
   "metadata": {},
   "outputs": [],
   "source": [
    "# data['importance_sampling']['metadata']['sub_estimates']\n",
    "# print(df.shape)\n",
    "# print(df.isnull().sum())\n",
    "# df.phase_shifts.describe()\n",
    "# df[['num_steps','gt_model_iters','gt_num_beams','importance_model_iters','hybrid_model_iters','beam_search_model_iters']].tail(10)\n",
    "# df[['hybrid_num_mc_samples', 'importance_num_mc_samples','beam_search_num_beams']].tail(50)\n",
    "# df[['beam_search_true_coverage','beam_search_restricted_coverage','beam_search_num_beams']].tail(50)\n",
    "\n",
    "# for df_name, old_df in zip(df_names, dfs):\n",
    "#     for i in sorted(old_df.num_steps.drop_duplicates().values):\n",
    "#     # df.to_csv(f\"{df_name}_all_lens_1000q.csv\",index=None)\n",
    "#         for k in old_df.hybrid_num_mc_samples.drop_duplicates().values:\n",
    "#             df = old_df[old_df.hybrid_num_mc_samples == k]\n",
    "#             df = df[df.num_steps == i]\n",
    "#             prop = (df.importance_num_mc_samples/df.hybrid_num_mc_samples).mean()\n",
    "#             print(df_name,f\" | Steps {i+1}\",f\" | Prop: {prop:.2f}\",f\" | Num samples {k}\",\"\\n\")\n",
    "#             print('hybrid',(np.abs(df.ground_truth - df.hybrid_sampling_est)/df.ground_truth).median()*100)\n",
    "#             print('importance',(np.abs(df.ground_truth - df.importance_sampling_est)/df.ground_truth).median()*100)\n",
    "#             print('beam_search',(np.abs(df.ground_truth - df.beam_search_lb)/df.ground_truth).median()*100)\n",
    "#             print('random',(np.abs(df.ground_truth - df.random_sampling_est)/df.ground_truth).median()*100)\n",
    "#             print('frequentist',(np.abs(df.ground_truth - df.frequentist_sampling_est)/df.ground_truth).median()*100)\n",
    "#             print('====='*5)"
   ]
  },
  {
   "cell_type": "code",
   "execution_count": 134,
   "id": "d2d4e7dc-8411-4aab-b889-a8365d0c583f",
   "metadata": {},
   "outputs": [
    {
     "data": {
      "text/plain": [
       "0.5487676056338029"
      ]
     },
     "execution_count": 134,
     "metadata": {},
     "output_type": "execute_result"
    }
   ],
   "source": [
    "(27/40 + 30/71)/2\n",
    "# (7/92 + 3/85)/2"
   ]
  },
  {
   "cell_type": "code",
   "execution_count": 118,
   "id": "b84d0810-7ce0-4fdb-acf4-349145dc4bc7",
   "metadata": {},
   "outputs": [],
   "source": [
    "dfs[0].to_csv('wikitext_12-13_15_1000mc_500q.csv',index=None)"
   ]
  },
  {
   "cell_type": "code",
   "execution_count": 11,
   "id": "7aa23ea0-1e06-4d35-9601-4e49f0266a84",
   "metadata": {},
   "outputs": [
    {
     "ename": "ValueError",
     "evalue": "No objects to concatenate",
     "output_type": "error",
     "traceback": [
      "\u001b[0;31m---------------------------------------------------------------------------\u001b[0m",
      "\u001b[0;31mValueError\u001b[0m                                Traceback (most recent call last)",
      "\u001b[0;32m<ipython-input-11-e3968ca7ec81>\u001b[0m in \u001b[0;36m<module>\u001b[0;34m\u001b[0m\n\u001b[1;32m     14\u001b[0m     \u001b[0mmed_list\u001b[0m\u001b[0;34m.\u001b[0m\u001b[0mappend\u001b[0m\u001b[0;34m(\u001b[0m\u001b[0mmedian_entropy\u001b[0m\u001b[0;34m)\u001b[0m\u001b[0;34m\u001b[0m\u001b[0;34m\u001b[0m\u001b[0m\n\u001b[1;32m     15\u001b[0m \u001b[0;34m\u001b[0m\u001b[0m\n\u001b[0;32m---> 16\u001b[0;31m \u001b[0mmed_final\u001b[0m \u001b[0;34m=\u001b[0m \u001b[0mpd\u001b[0m\u001b[0;34m.\u001b[0m\u001b[0mconcat\u001b[0m\u001b[0;34m(\u001b[0m\u001b[0mmed_list\u001b[0m\u001b[0;34m,\u001b[0m\u001b[0maxis\u001b[0m \u001b[0;34m=\u001b[0m \u001b[0;36m0\u001b[0m\u001b[0;34m)\u001b[0m\u001b[0;34m\u001b[0m\u001b[0;34m\u001b[0m\u001b[0m\n\u001b[0m\u001b[1;32m     17\u001b[0m \u001b[0mprint\u001b[0m\u001b[0;34m(\u001b[0m\u001b[0mmed_final\u001b[0m\u001b[0;34m.\u001b[0m\u001b[0mhead\u001b[0m\u001b[0;34m(\u001b[0m\u001b[0;34m)\u001b[0m\u001b[0;34m)\u001b[0m\u001b[0;34m\u001b[0m\u001b[0;34m\u001b[0m\u001b[0m\n\u001b[1;32m     18\u001b[0m \u001b[0;31m# med_final.to_csv('restricted_vocab_median_entropy.csv',index=None)\u001b[0m\u001b[0;34m\u001b[0m\u001b[0;34m\u001b[0m\u001b[0;34m\u001b[0m\u001b[0m\n",
      "\u001b[0;32m~/.conda/envs/nlpenv/lib/python3.8/site-packages/pandas/util/_decorators.py\u001b[0m in \u001b[0;36mwrapper\u001b[0;34m(*args, **kwargs)\u001b[0m\n\u001b[1;32m    309\u001b[0m                     \u001b[0mstacklevel\u001b[0m\u001b[0;34m=\u001b[0m\u001b[0mstacklevel\u001b[0m\u001b[0;34m,\u001b[0m\u001b[0;34m\u001b[0m\u001b[0;34m\u001b[0m\u001b[0m\n\u001b[1;32m    310\u001b[0m                 )\n\u001b[0;32m--> 311\u001b[0;31m             \u001b[0;32mreturn\u001b[0m \u001b[0mfunc\u001b[0m\u001b[0;34m(\u001b[0m\u001b[0;34m*\u001b[0m\u001b[0margs\u001b[0m\u001b[0;34m,\u001b[0m \u001b[0;34m**\u001b[0m\u001b[0mkwargs\u001b[0m\u001b[0;34m)\u001b[0m\u001b[0;34m\u001b[0m\u001b[0;34m\u001b[0m\u001b[0m\n\u001b[0m\u001b[1;32m    312\u001b[0m \u001b[0;34m\u001b[0m\u001b[0m\n\u001b[1;32m    313\u001b[0m         \u001b[0;32mreturn\u001b[0m \u001b[0mwrapper\u001b[0m\u001b[0;34m\u001b[0m\u001b[0;34m\u001b[0m\u001b[0m\n",
      "\u001b[0;32m~/.conda/envs/nlpenv/lib/python3.8/site-packages/pandas/core/reshape/concat.py\u001b[0m in \u001b[0;36mconcat\u001b[0;34m(objs, axis, join, ignore_index, keys, levels, names, verify_integrity, sort, copy)\u001b[0m\n\u001b[1;32m    344\u001b[0m     \u001b[0mValueError\u001b[0m\u001b[0;34m:\u001b[0m \u001b[0mIndexes\u001b[0m \u001b[0mhave\u001b[0m \u001b[0moverlapping\u001b[0m \u001b[0mvalues\u001b[0m\u001b[0;34m:\u001b[0m \u001b[0;34m[\u001b[0m\u001b[0;34m'a'\u001b[0m\u001b[0;34m]\u001b[0m\u001b[0;34m\u001b[0m\u001b[0;34m\u001b[0m\u001b[0m\n\u001b[1;32m    345\u001b[0m     \"\"\"\n\u001b[0;32m--> 346\u001b[0;31m     op = _Concatenator(\n\u001b[0m\u001b[1;32m    347\u001b[0m         \u001b[0mobjs\u001b[0m\u001b[0;34m,\u001b[0m\u001b[0;34m\u001b[0m\u001b[0;34m\u001b[0m\u001b[0m\n\u001b[1;32m    348\u001b[0m         \u001b[0maxis\u001b[0m\u001b[0;34m=\u001b[0m\u001b[0maxis\u001b[0m\u001b[0;34m,\u001b[0m\u001b[0;34m\u001b[0m\u001b[0;34m\u001b[0m\u001b[0m\n",
      "\u001b[0;32m~/.conda/envs/nlpenv/lib/python3.8/site-packages/pandas/core/reshape/concat.py\u001b[0m in \u001b[0;36m__init__\u001b[0;34m(self, objs, axis, join, keys, levels, names, ignore_index, verify_integrity, copy, sort)\u001b[0m\n\u001b[1;32m    401\u001b[0m \u001b[0;34m\u001b[0m\u001b[0m\n\u001b[1;32m    402\u001b[0m         \u001b[0;32mif\u001b[0m \u001b[0mlen\u001b[0m\u001b[0;34m(\u001b[0m\u001b[0mobjs\u001b[0m\u001b[0;34m)\u001b[0m \u001b[0;34m==\u001b[0m \u001b[0;36m0\u001b[0m\u001b[0;34m:\u001b[0m\u001b[0;34m\u001b[0m\u001b[0;34m\u001b[0m\u001b[0m\n\u001b[0;32m--> 403\u001b[0;31m             \u001b[0;32mraise\u001b[0m \u001b[0mValueError\u001b[0m\u001b[0;34m(\u001b[0m\u001b[0;34m\"No objects to concatenate\"\u001b[0m\u001b[0;34m)\u001b[0m\u001b[0;34m\u001b[0m\u001b[0;34m\u001b[0m\u001b[0m\n\u001b[0m\u001b[1;32m    404\u001b[0m \u001b[0;34m\u001b[0m\u001b[0m\n\u001b[1;32m    405\u001b[0m         \u001b[0;32mif\u001b[0m \u001b[0mkeys\u001b[0m \u001b[0;32mis\u001b[0m \u001b[0;32mNone\u001b[0m\u001b[0;34m:\u001b[0m\u001b[0;34m\u001b[0m\u001b[0;34m\u001b[0m\u001b[0m\n",
      "\u001b[0;31mValueError\u001b[0m: No objects to concatenate"
     ]
    }
   ],
   "source": [
    "vocabs = [68, 30, 98, 88]\n",
    "\n",
    "# path_template = f\"\n",
    "med_list = []\n",
    "for v,df_name,df in zip(vocabs,df_names,dfs):\n",
    "    df['entropy'] = df['entropy']/np.log(2)\n",
    "    df['lim_entropy'] = np.log2(v-1)*(df.num_steps)\n",
    "    median_entropy = df[['num_steps','entropy']].groupby('num_steps').median()\n",
    "    median_entropy =median_entropy.drop_duplicates()\n",
    "    median_entropy['num_steps'] = median_entropy.index.values\n",
    "    median_entropy.reset_index(drop=True,inplace=True)\n",
    "    median_entropy['lim_entropy'] = np.log(v) * median_entropy['num_steps'].values\n",
    "    median_entropy['dataset'] = df_name\n",
    "    med_list.append(median_entropy)\n",
    "    \n",
    "med_final = pd.concat(med_list,axis = 0)\n",
    "print(med_final.head())\n",
    "# med_final.to_csv('restricted_vocab_median_entropy.csv',index=None)"
   ]
  },
  {
   "cell_type": "code",
   "execution_count": 34,
   "id": "81963683-e69a-4cbf-be8f-970918de1117",
   "metadata": {},
   "outputs": [
    {
     "name": "stdout",
     "output_type": "stream",
     "text": [
      "../data/entropy_ablation/wikitext/val_dl/val-dl_wikitext_unrestricted-entropy-ablation_11h_15s*_500q*.pkl\n",
      "['../data/entropy_ablation/wikitext/val_dl/val-dl_wikitext_unrestricted-entropy-ablation_11h_15s_1000mc_500q.pkl']\n",
      "torch.Size([500, 5])\n",
      "     entropy  num_steps   dataset  lim_entropy\n",
      "0   7.221923          1  wikitext    15.617037\n",
      "1  13.608644          2  wikitext    31.234074\n",
      "2  19.764172          3  wikitext    46.851111\n",
      "3  25.842842          4  wikitext    62.468148\n",
      "4  31.953264          5  wikitext    78.085185\n",
      "(5, 4)\n"
     ]
    }
   ],
   "source": [
    "# tdf = df[df.num_steps < 6]\n",
    "vocabs = [50257]\n",
    "\n",
    "\n",
    "experiment = \"val_dl\"\n",
    "method = \"unrestricted_entropy_ablation\"\n",
    "ss =  [15]*3\n",
    "med_list = []\n",
    "for v,dataset,s in zip(vocabs,df_names,ss):\n",
    "    template_path=(f\"../data/entropy_ablation/{dataset}/{experiment}/{experiment.replace('_','-')}_{dataset.replace('_','-')}_\"\n",
    "    + f\"{method.replace('_','-')}_{f'{11}h' if 'entropy_ablation' in method else '*'}_{s}s*\"\n",
    "    + f\"{f'_{max_num_queries}q' if max_num_queries else ''}*.pkl\")\n",
    "    print(template_path)\n",
    "    paths = glob.glob(template_path)\n",
    "    print(paths)\n",
    "    data = read_pkl(paths[0])\n",
    "    entropy = data['entropy_probs']\n",
    "    print(entropy.shape)\n",
    "    df = pd.DataFrame(np.median(entropy.numpy(),axis=0), columns = ['entropy'])\n",
    "    df['entropy'] /= np.log(2)\n",
    "    df['num_steps'] = df.index + 1\n",
    "    df['dataset'] = dataset\n",
    "    df['lim_entropy'] = np.log2(v-1)*(df.num_steps)\n",
    "    # median_entropy = df[['num_steps','entropy']].groupby('num_steps').median()\n",
    "    # median_entropy =median_entropy.drop_duplicates()\n",
    "    # median_entropy['num_steps'] = median_entropy.index.values\n",
    "    # median_entropy.reset_index(drop=True,inplace=True)\n",
    "    # median_entropy['lim_entropy'] = np.log(v) * median_entropy['num_steps'].values\n",
    "    # median_entropy['dataset'] = df_name\n",
    "    med_list.append(df)\n",
    "\n",
    "\n",
    "med_final = pd.concat(med_list,axis = 0)\n",
    "print(med_final.head())\n",
    "print(med_final.shape)\n",
    "med_final.to_csv('unrestricted_vocab_median_entropy_wikitext.csv',index=None)\n",
    "    # res_df = df[['num_steps','entropy','lim_entropy']]\n",
    "    # print(res_df.shape)\n",
    "    \n",
    "    # df['rel_entropy'] = df['entropy']/df['lim_entropy']\n",
    "    # sns.boxplot(x=\"num_steps\", y='entropy',data = df)\n",
    "    # plt.plot(range(9),sorted(list(df.lim_entropy.drop_duplicates().values)))\n",
    "    # plt.title(df_name)\n",
    "    # plt.show()\n",
    "# plt.ylim(0,1e10)"
   ]
  },
  {
   "cell_type": "code",
   "execution_count": 28,
   "id": "2506275d-ec10-4633-beae-c04dfbe6fe78",
   "metadata": {},
   "outputs": [
    {
     "data": {
      "text/html": [
       "<div>\n",
       "<style scoped>\n",
       "    .dataframe tbody tr th:only-of-type {\n",
       "        vertical-align: middle;\n",
       "    }\n",
       "\n",
       "    .dataframe tbody tr th {\n",
       "        vertical-align: top;\n",
       "    }\n",
       "\n",
       "    .dataframe thead th {\n",
       "        text-align: right;\n",
       "    }\n",
       "</style>\n",
       "<table border=\"1\" class=\"dataframe\">\n",
       "  <thead>\n",
       "    <tr style=\"text-align: right;\">\n",
       "      <th></th>\n",
       "      <th>entropy</th>\n",
       "      <th>num_steps</th>\n",
       "      <th>dataset</th>\n",
       "      <th>lim_entropy</th>\n",
       "    </tr>\n",
       "  </thead>\n",
       "  <tbody>\n",
       "    <tr>\n",
       "      <th>0</th>\n",
       "      <td>6.525832</td>\n",
       "      <td>1</td>\n",
       "      <td>wikitext</td>\n",
       "      <td>15.617037</td>\n",
       "    </tr>\n",
       "    <tr>\n",
       "      <th>1</th>\n",
       "      <td>12.690345</td>\n",
       "      <td>2</td>\n",
       "      <td>wikitext</td>\n",
       "      <td>31.234074</td>\n",
       "    </tr>\n",
       "    <tr>\n",
       "      <th>2</th>\n",
       "      <td>18.694527</td>\n",
       "      <td>3</td>\n",
       "      <td>wikitext</td>\n",
       "      <td>46.851111</td>\n",
       "    </tr>\n",
       "  </tbody>\n",
       "</table>\n",
       "</div>"
      ],
      "text/plain": [
       "     entropy  num_steps   dataset  lim_entropy\n",
       "0   6.525832          1  wikitext    15.617037\n",
       "1  12.690345          2  wikitext    31.234074\n",
       "2  18.694527          3  wikitext    46.851111"
      ]
     },
     "execution_count": 28,
     "metadata": {},
     "output_type": "execute_result"
    }
   ],
   "source": [
    "med_final"
   ]
  },
  {
   "cell_type": "code",
   "execution_count": 17,
   "id": "508f6549-1b99-4fb8-b2ea-8656c1d66904",
   "metadata": {},
   "outputs": [],
   "source": [
    "data = read_pkl('../data/pseudo_gt/wikitext/val_dl/val-dl_wikitext_pseudo-gt_12h_15s_1000mc_pgt_100q.pkl')"
   ]
  },
  {
   "cell_type": "code",
   "execution_count": 17,
   "id": "f121b025-6c6f-4f50-86a1-9a0d40cff9a8",
   "metadata": {},
   "outputs": [],
   "source": [
    "res = torch.gather(data['sample_estimates'],1,data['excluded_terms'].unsqueeze(-1)).squeeze()"
   ]
  },
  {
   "cell_type": "code",
   "execution_count": 11,
   "id": "c1625451-7559-4473-b065-dca32f458849",
   "metadata": {},
   "outputs": [],
   "source": [
    "# for i,r in enumerate(res.tolist()):\n",
    "#     print(i,\" - \" ,r)"
   ]
  },
  {
   "cell_type": "code",
   "execution_count": 36,
   "id": "00378b94-7229-473b-9002-bf7c94545e4e",
   "metadata": {},
   "outputs": [
    {
     "data": {
      "text/plain": [
       "0.11905558407306671"
      ]
     },
     "execution_count": 36,
     "metadata": {},
     "output_type": "execute_result"
    }
   ],
   "source": [
    "test_df= df[ (df.beam_search_num_beams>10)]\n",
    "test_df= test_df[ (test_df.beam_search_num_beams < 100)]\n",
    "abs((test_df.beam_search_lb - test_df.ground_truth)/test_df.ground_truth).mean()"
   ]
  },
  {
   "cell_type": "code",
   "execution_count": 51,
   "id": "abafcc14-22da-41c3-b1fd-b4e4aec8ebc2",
   "metadata": {},
   "outputs": [
    {
     "data": {
      "text/plain": [
       "1202"
      ]
     },
     "execution_count": 51,
     "metadata": {},
     "output_type": "execute_result"
    }
   ],
   "source": [
    "2072 - (29 + 841 + 1202)"
   ]
  },
  {
   "cell_type": "code",
   "execution_count": 50,
   "id": "53d53f9a-4877-4323-bb5c-1bd8b882b4bd",
   "metadata": {},
   "outputs": [
    {
     "data": {
      "text/plain": [
       "sequence_id                            2.000000\n",
       "num_steps                              3.000000\n",
       "excluded_term                         23.000000\n",
       "is_gt                                  1.000000\n",
       "ground_truth                           0.030245\n",
       "random_sampling_est                    0.026151\n",
       "importance_sampling_est                0.030695\n",
       "hybrid_sampling_est                    0.030626\n",
       "beam_search_lb                         0.026705\n",
       "random_num_mc_samples                811.000000\n",
       "importance_num_mc_samples            811.000000\n",
       "hybrid_num_mc_samples               1000.000000\n",
       "gt_model_iters                     25259.000000\n",
       "random_model_iters                  2433.000000\n",
       "importance_model_iters              2433.000000\n",
       "hybrid_model_iters                  2432.000000\n",
       "beam_search_model_iters             2072.000000\n",
       "random_variance                        0.000117\n",
       "importance_variance                    0.000010\n",
       "hybrid_variance                        0.000005\n",
       "gt_true_coverage                       0.908715\n",
       "gt_restricted_coverage                 1.000000\n",
       "gt_num_beams                           0.000000\n",
       "beam_search_true_coverage              0.823007\n",
       "beam_search_restricted_coverage        0.903895\n",
       "beam_search_num_beams               1202.000000\n",
       "is_top_k                               0.000000\n",
       "is_top_p                               0.000000\n",
       "hybrid_min_variance                    1.000000\n",
       "hybrid_min_var_reduction               0.100000\n",
       "hist_len                              12.000000\n",
       "total_seq_len                         15.000000\n",
       "Name: 12770, dtype: float64"
      ]
     },
     "execution_count": 50,
     "metadata": {},
     "output_type": "execute_result"
    }
   ],
   "source": [
    "tdf.loc[12770,:]"
   ]
  },
  {
   "cell_type": "code",
   "execution_count": 45,
   "id": "7cbddd3d-7372-4dc2-bcaf-c175414cdef2",
   "metadata": {},
   "outputs": [
    {
     "data": {
      "text/plain": [
       "<matplotlib.legend.Legend at 0x7f5290817e20>"
      ]
     },
     "execution_count": 45,
     "metadata": {},
     "output_type": "execute_result"
    },
    {
     "data": {
      "image/png": "[encoded data removed]",
      "text/plain": [
       "<Figure size 432x288 with 1 Axes>"
      ]
     },
     "metadata": {
      "needs_background": "light"
     },
     "output_type": "display_data"
    }
   ],
   "source": [
    "# tdf = df[df.hybrid_num_mc_samples > 800]\n",
    "tdf = df\n",
    "plt.scatter(tdf.ground_truth, tdf.importance_sampling_est, label = 'importance')\n",
    "plt.scatter(tdf.ground_truth, tdf.hybrid_sampling_est, label = 'hybrid')\n",
    "plt.scatter(tdf.ground_truth, tdf.beam_search_lb, label = 'beam_search')\n",
    "plt.legend()\n",
    "# tdf[['hybrid_model_iters','beam_search_model_iters']].head()"
   ]
  },
  {
   "cell_type": "code",
   "execution_count": 20,
   "id": "ffa3e321-1e17-4734-9991-e739ed32f6a6",
   "metadata": {},
   "outputs": [
    {
     "data": {
      "text/html": [
       "<div>\n",
       "<style scoped>\n",
       "    .dataframe tbody tr th:only-of-type {\n",
       "        vertical-align: middle;\n",
       "    }\n",
       "\n",
       "    .dataframe tbody tr th {\n",
       "        vertical-align: top;\n",
       "    }\n",
       "\n",
       "    .dataframe thead th {\n",
       "        text-align: right;\n",
       "    }\n",
       "</style>\n",
       "<table border=\"1\" class=\"dataframe\">\n",
       "  <thead>\n",
       "    <tr style=\"text-align: right;\">\n",
       "      <th></th>\n",
       "      <th>importance_num_mc_samples</th>\n",
       "      <th>hybrid_num_mc_samples</th>\n",
       "      <th>importance_model_iters</th>\n",
       "      <th>hybrid_model_iters</th>\n",
       "    </tr>\n",
       "  </thead>\n",
       "  <tbody>\n",
       "    <tr>\n",
       "      <th>16865</th>\n",
       "      <td>764</td>\n",
       "      <td>1000</td>\n",
       "      <td>1528</td>\n",
       "      <td>1728</td>\n",
       "    </tr>\n",
       "    <tr>\n",
       "      <th>16866</th>\n",
       "      <td>821</td>\n",
       "      <td>1000</td>\n",
       "      <td>1642</td>\n",
       "      <td>1903</td>\n",
       "    </tr>\n",
       "    <tr>\n",
       "      <th>16867</th>\n",
       "      <td>838</td>\n",
       "      <td>1000</td>\n",
       "      <td>1676</td>\n",
       "      <td>1767</td>\n",
       "    </tr>\n",
       "    <tr>\n",
       "      <th>16868</th>\n",
       "      <td>949</td>\n",
       "      <td>1000</td>\n",
       "      <td>1898</td>\n",
       "      <td>1655</td>\n",
       "    </tr>\n",
       "    <tr>\n",
       "      <th>16869</th>\n",
       "      <td>942</td>\n",
       "      <td>1000</td>\n",
       "      <td>1884</td>\n",
       "      <td>1818</td>\n",
       "    </tr>\n",
       "  </tbody>\n",
       "</table>\n",
       "</div>"
      ],
      "text/plain": [
       "       importance_num_mc_samples  hybrid_num_mc_samples  \\\n",
       "16865                        764                   1000   \n",
       "16866                        821                   1000   \n",
       "16867                        838                   1000   \n",
       "16868                        949                   1000   \n",
       "16869                        942                   1000   \n",
       "\n",
       "       importance_model_iters  hybrid_model_iters  \n",
       "16865                    1528                1728  \n",
       "16866                    1642                1903  \n",
       "16867                    1676                1767  \n",
       "16868                    1898                1655  \n",
       "16869                    1884                1818  "
      ]
     },
     "execution_count": 20,
     "metadata": {},
     "output_type": "execute_result"
    }
   ],
   "source": [
    "df.loc[abs(df.hybrid_model_iters - df.importance_model_iters) > 40,\n",
    "       ['importance_num_mc_samples','hybrid_num_mc_samples',\n",
    "       'importance_model_iters','hybrid_model_iters']].head()"
   ]
  },
  {
   "cell_type": "code",
   "execution_count": 16,
   "id": "8b010b1e-e070-4f9b-85bf-141fd935acab",
   "metadata": {},
   "outputs": [
    {
     "data": {
      "text/plain": [
       "Text(0.5, 1.0, 'importance')"
      ]
     },
     "execution_count": 16,
     "metadata": {},
     "output_type": "execute_result"
    },
    {
     "data": {
      "image/png": "[encoded data removed]",
      "text/plain": [
       "<Figure size 432x288 with 1 Axes>"
      ]
     },
     "metadata": {
      "needs_background": "light"
     },
     "output_type": "display_data"
    }
   ],
   "source": [
    "# df = df[df['phase_shifts'] > 10]\n",
    "# df = df1\n",
    "ndf = df[df.beam_search_num_beams > 100]\n",
    "plt.scatter(ndf['ground_truth'],ndf['beam_search_lb'])\n",
    "# plt.scatter(df['ground_truth'],df['importance_sampling_est'])\n",
    "# plt.scatter(df['ground_truth'],df['random_sampling_est'])\n",
    "# plt.ylim((0,1))\n",
    "plt.title(\"importance\")"
   ]
  },
  {
   "cell_type": "code",
   "execution_count": 27,
   "id": "6a3e8a10-b1b5-4498-bc4a-90eaa5ecbba8",
   "metadata": {},
   "outputs": [
    {
     "data": {
      "text/html": [
       "<div>\n",
       "<style scoped>\n",
       "    .dataframe tbody tr th:only-of-type {\n",
       "        vertical-align: middle;\n",
       "    }\n",
       "\n",
       "    .dataframe tbody tr th {\n",
       "        vertical-align: top;\n",
       "    }\n",
       "\n",
       "    .dataframe thead th {\n",
       "        text-align: right;\n",
       "    }\n",
       "</style>\n",
       "<table border=\"1\" class=\"dataframe\">\n",
       "  <thead>\n",
       "    <tr style=\"text-align: right;\">\n",
       "      <th></th>\n",
       "      <th>importance_est_variance</th>\n",
       "      <th>hybrid_est_variance</th>\n",
       "    </tr>\n",
       "  </thead>\n",
       "  <tbody>\n",
       "    <tr>\n",
       "      <th>count</th>\n",
       "      <td>2.191800e+04</td>\n",
       "      <td>2.191800e+04</td>\n",
       "    </tr>\n",
       "    <tr>\n",
       "      <th>mean</th>\n",
       "      <td>3.688037e-05</td>\n",
       "      <td>3.907905e-06</td>\n",
       "    </tr>\n",
       "    <tr>\n",
       "      <th>std</th>\n",
       "      <td>6.492985e-04</td>\n",
       "      <td>8.797111e-05</td>\n",
       "    </tr>\n",
       "    <tr>\n",
       "      <th>min</th>\n",
       "      <td>2.860333e-20</td>\n",
       "      <td>1.116206e-19</td>\n",
       "    </tr>\n",
       "    <tr>\n",
       "      <th>25%</th>\n",
       "      <td>4.422974e-09</td>\n",
       "      <td>1.191007e-09</td>\n",
       "    </tr>\n",
       "    <tr>\n",
       "      <th>50%</th>\n",
       "      <td>4.011587e-08</td>\n",
       "      <td>1.700204e-08</td>\n",
       "    </tr>\n",
       "    <tr>\n",
       "      <th>75%</th>\n",
       "      <td>3.072154e-07</td>\n",
       "      <td>1.139661e-07</td>\n",
       "    </tr>\n",
       "    <tr>\n",
       "      <th>max</th>\n",
       "      <td>4.445925e-02</td>\n",
       "      <td>4.038442e-03</td>\n",
       "    </tr>\n",
       "  </tbody>\n",
       "</table>\n",
       "</div>"
      ],
      "text/plain": [
       "       importance_est_variance  hybrid_est_variance\n",
       "count             2.191800e+04         2.191800e+04\n",
       "mean              3.688037e-05         3.907905e-06\n",
       "std               6.492985e-04         8.797111e-05\n",
       "min               2.860333e-20         1.116206e-19\n",
       "25%               4.422974e-09         1.191007e-09\n",
       "50%               4.011587e-08         1.700204e-08\n",
       "75%               3.072154e-07         1.139661e-07\n",
       "max               4.445925e-02         4.038442e-03"
      ]
     },
     "execution_count": 27,
     "metadata": {},
     "output_type": "execute_result"
    }
   ],
   "source": [
    "df[['importance_est_variance','hybrid_est_variance']].describe()"
   ]
  },
  {
   "cell_type": "code",
   "execution_count": 21,
   "id": "3ed16f5a-8501-46b6-8e3e-3d4f3a55b259",
   "metadata": {},
   "outputs": [
    {
     "data": {
      "text/plain": [
       "dataset_name                       0\n",
       "sequence_id                        0\n",
       "num_steps                          0\n",
       "excluded_term                      0\n",
       "gt_type                            0\n",
       "ground_truth                       0\n",
       "random_sampling_est                0\n",
       "importance_sampling_est            0\n",
       "hybrid_sampling_est                0\n",
       "beam_search_lb                     0\n",
       "random_num_mc_samples              0\n",
       "importance_num_mc_samples          0\n",
       "hybrid_num_mc_samples              0\n",
       "gt_model_iters                     0\n",
       "random_model_iters                 0\n",
       "importance_model_iters             0\n",
       "hybrid_model_iters                 0\n",
       "beam_search_model_iters            0\n",
       "random_variance                    0\n",
       "importance_variance                0\n",
       "hybrid_variance                    0\n",
       "gt_true_coverage                   0\n",
       "gt_restricted_coverage             0\n",
       "gt_num_beams                       0\n",
       "beam_search_true_coverage          0\n",
       "beam_search_restricted_coverage    0\n",
       "beam_search_num_beams              0\n",
       "is_top_k                           0\n",
       "is_top_p                           0\n",
       "hybrid_min_variance                0\n",
       "hybrid_min_var_reduction           0\n",
       "hist_len                           0\n",
       "total_seq_len                      0\n",
       "dtype: int64"
      ]
     },
     "execution_count": 21,
     "metadata": {},
     "output_type": "execute_result"
    }
   ],
   "source": [
    "df.isnull().sum()"
   ]
  },
  {
   "cell_type": "code",
   "execution_count": 25,
   "id": "0a52b7fd-4659-494d-9ff3-13584d46e421",
   "metadata": {},
   "outputs": [],
   "source": [
    "# df.to_csv('shakespeare_17-18_20.csv',index=None)\n",
    "# df.to_csv('moocs_12-13_15.csv',index=None)\n",
    "# df.to_csv('apps_12-13_15.csv',index=None)\n",
    "df.to_csv('amazon_12-13_15.csv',index=None)"
   ]
  },
  {
   "cell_type": "code",
   "execution_count": 100,
   "id": "ea7d4da0-609f-40e6-ad58-0c5d761c8463",
   "metadata": {},
   "outputs": [],
   "source": [
    "amazon_dict = read_pkl(\"/srv/disk00/samshow/amazon/amazon_text_dict.pkl\")"
   ]
  },
  {
   "cell_type": "code",
   "execution_count": 101,
   "id": "fb6f3eab-1f61-4c3e-bf7c-2ff76eb144c0",
   "metadata": {},
   "outputs": [],
   "source": [
    "data = amazon_dict['text']"
   ]
  },
  {
   "cell_type": "code",
   "execution_count": 102,
   "id": "19594098-def2-47ac-8f3a-059d760179fe",
   "metadata": {},
   "outputs": [
    {
     "data": {
      "text/plain": [
       "torch.Size([63844580, 16])"
      ]
     },
     "execution_count": 102,
     "metadata": {},
     "output_type": "execute_result"
    }
   ],
   "source": [
    "data.shape"
   ]
  },
  {
   "cell_type": "code",
   "execution_count": 109,
   "id": "f0b0cc01-7d4b-4203-88ea-d367dd1d10cb",
   "metadata": {},
   "outputs": [
    {
     "data": {
      "text/plain": [
       "tensor([ 0., 16., 16., 16., 11.,  3., 27., 27.,  9.,  9.,  9., 23., 16., 16.,\n",
       "        16.,  8.])"
      ]
     },
     "execution_count": 109,
     "metadata": {},
     "output_type": "execute_result"
    }
   ],
   "source": [
    "data[0]"
   ]
  },
  {
   "cell_type": "code",
   "execution_count": 112,
   "id": "94c73676-c082-46a2-997d-1cea95e17256",
   "metadata": {},
   "outputs": [
    {
     "name": "stderr",
     "output_type": "stream",
     "text": [
      "100%|██████████| 63844580/63844580 [17:23<00:00, 61164.82it/s]  \n"
     ]
    }
   ],
   "source": [
    "from tqdm import tqdm\n",
    "trans = []\n",
    "for i in tqdm(range(data.shape[0])):\n",
    "    trans.append(torch.unique_consecutive(data[i,1:]).shape)\n",
    "    "
   ]
  },
  {
   "cell_type": "code",
   "execution_count": 125,
   "id": "6b36271e-5d00-43d2-af28-de548ec74856",
   "metadata": {},
   "outputs": [],
   "source": [
    "trans = torch.LongTensor(trans).flatten()"
   ]
  },
  {
   "cell_type": "code",
   "execution_count": 126,
   "id": "c83ae82d-e144-4f7b-9fa1-855591a0f8c9",
   "metadata": {},
   "outputs": [
    {
     "data": {
      "text/plain": [
       "torch.Size([63844580])"
      ]
     },
     "execution_count": 126,
     "metadata": {},
     "output_type": "execute_result"
    }
   ],
   "source": [
    "trans.shape"
   ]
  },
  {
   "cell_type": "code",
   "execution_count": 127,
   "id": "36efdf43-a1a5-43b0-97c4-9f85633c5f87",
   "metadata": {},
   "outputs": [],
   "source": [
    "write_pkl(trans, \"/srv/disask00/samshow/amazon/amazon_phase_trans.pkl\")"
   ]
  },
  {
   "cell_type": "code",
   "execution_count": 121,
   "id": "60ad3b21-6ab1-4788-af46-5b60a4823228",
   "metadata": {},
   "outputs": [],
   "source": [
    "trans_vals = []\n",
    "for i in range(1,trans.max()+1):\n",
    "    trans_vals.append((trans == i).sum().item()/trans.shape[0])"
   ]
  },
  {
   "cell_type": "code",
   "execution_count": 123,
   "id": "299b9ef8-a587-479e-821d-6b244e68101d",
   "metadata": {},
   "outputs": [],
   "source": [
    "amazon_perc_per_phase_shift = [0.059163910233257073,\n",
    " 0.020707521296247856,\n",
    " 0.056485656260876024,\n",
    " 0.04778584180520884,\n",
    " 0.07297364944682853,\n",
    " 0.07653857226408256,\n",
    " 0.09382401763783238,\n",
    " 0.10168632952084578,\n",
    " 0.1102257544806466,\n",
    " 0.10986890351538063,\n",
    " 0.09992870185691566,\n",
    " 0.0774158276238954,\n",
    " 0.047934671979986396,\n",
    " 0.020711280425057224,\n",
    " 0.004749361652939059]"
   ]
  },
  {
   "cell_type": "code",
   "execution_count": null,
   "id": "e726ba0a-3b52-4c66-93bd-57bbea35dc76",
   "metadata": {},
   "outputs": [],
   "source": []
  }
 ],
 "metadata": {
  "kernelspec": {
   "display_name": "nlp_env",
   "language": "python",
   "name": "nlpenv"
  },
  "language_info": {
   "codemirror_mode": {
    "name": "ipython",
    "version": 3
   },
   "file_extension": ".py",
   "mimetype": "text/x-python",
   "name": "python",
   "nbconvert_exporter": "python",
   "pygments_lexer": "ipython3",
   "version": "3.8.8"
  }
 },
 "nbformat": 4,
 "nbformat_minor": 5
}
