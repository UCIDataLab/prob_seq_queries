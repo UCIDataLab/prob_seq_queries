{
 "cells": [
  {
   "cell_type": "code",
   "execution_count": 1,
   "id": "ab5fc0db-8671-45eb-9006-8236cda57d92",
   "metadata": {},
   "outputs": [],
   "source": [
    "%load_ext autoreload\n",
    "%autoreload 2\n",
    "import matplotlib.pyplot as plt\n",
    "import seaborn as sns\n",
    "import os\n",
    "import pandas as pd\n",
    "import sys\n",
    "import numpy as np\n",
    "import glob\n",
    "import torch\n",
    "\n",
    "sys.path.insert(1,\"/home/showalte/research/prob_seq_queries/\")\n",
    "from seq_queries.utils import read_pkl, write_pkl"
   ]
  },
  {
   "cell_type": "markdown",
   "id": "ae87bf22-bcf6-49ea-b43c-9c6bd34216f9",
   "metadata": {
    "tags": []
   },
   "source": [
    "# Estimate fields\n",
    "- ground_truth/beam_search_lb\n",
    "- Importance sampling estimate\n",
    "- Hybrid estimate\n",
    "- Importance sampling variance\n",
    "- Hybrid variance\n",
    "\n",
    "# General Metadata\n",
    "- dataset_name\n",
    "- experiment_name\n",
    "- history_id\n",
    "- Excluded term\n",
    "- sequence_length\n",
    "- history_length\n",
    "- total_sequence_length\n",
    "\n",
    "# Sampling metadata\n",
    "- num_mc_samples (sub_estimates)\n",
    "- sample_model_iters\n",
    "\n",
    "# Hybrid data\n",
    "- hybrid_model_iters\n",
    "\n",
    "# Beam search metadata\n",
    "- min_variance\n",
    "- search_model_iters\n",
    "- min_variance_reduction\n",
    "- true_coverage\n",
    "- restricted_coverage\n",
    "- num_beams\n",
    "- top_k\n",
    "- top_p\n",
    "- (beam search) interpolation_func\n"
   ]
  },
  {
   "cell_type": "code",
   "execution_count": 2,
   "id": "1b52721a-1c0f-4001-b451-3899e8e6176e",
   "metadata": {},
   "outputs": [],
   "source": [
    "\n",
    "def get_experiment_data(experiment, dataset, h, s, root=\"../data\", \n",
    "            methods=['beam_search_is_hybrid','importance_sampling','random_sampling','beam_search'],\n",
    "            gt_methods=['ground_truth','beam_search']):\n",
    "    \n",
    "        data_dict = {}\n",
    "        gt_type=None\n",
    "        for method in methods:\n",
    "            template_path=root + f\"/{method}/{dataset}/{experiment}/\"\n",
    "            template_file=(f\"{experiment.replace('_','-')}_{dataset.replace('_','-')}_\"\n",
    "            + f\"{method.replace('_','-')}_{h}h_{s}s*{'' if method == 'beam_search_is_hybrid' else 'model-budget'}.pkl\")\n",
    "            pot_pattern = os.path.join(template_path,template_file)\n",
    "            pot_paths = glob.glob(pot_pattern)\n",
    "            assert len(pot_paths) == 1,\\\n",
    "                f\"Found {len(pot_paths)} paths for {pot_pattern}\"\n",
    "            # print(method,pot_paths[0])\n",
    "            print(method, \"\\n\",pot_paths[0],\"\\n=============\")\n",
    "            data_dict[method]= read_pkl(pot_paths[0])\n",
    "            data_dict[method]['metadata']['result_filepath'] = pot_paths[0]\n",
    "        for gt_method in gt_methods:\n",
    "            try:\n",
    "                template_path=root + f\"/{gt_method}/{dataset}/{experiment}/\"\n",
    "                template_file=(f\"{experiment.replace('_','-')}_{dataset.replace('_','-')}_\" +\n",
    "                               f\"{gt_method.replace('_','-')}_{h}h_{s}s*.pkl\")\n",
    "                pot_pattern = os.path.join(template_path,template_file)\n",
    "                pot_paths = glob.glob(pot_pattern)\n",
    "                assert len(pot_paths) == 1,\\\n",
    "                    f\"Found {len(pot_paths)} paths for {pot_pattern}\"\n",
    "                print(\"GT: \", gt_method, \"\\n\",pot_paths[0],\"\\n=============\")\n",
    "                data_dict[gt_method]= read_pkl(pot_paths[0])\n",
    "                data_dict[gt_method]['metadata']['result_filepath'] = pot_paths[0]\n",
    "                data_dict['gt_type'] = gt_method\n",
    "                return data_dict\n",
    "            except: pass\n",
    "        assert False,\"Could not find ground truth\"\n",
    "        return None\n",
    "                "
   ]
  },
  {
   "cell_type": "code",
   "execution_count": 3,
   "id": "bff8c61a-43ae-4901-8cf0-1f34078701f1",
   "metadata": {},
   "outputs": [],
   "source": [
    "def flatten_search(samp_dict,sub_estimates,search_type=\"beam_search\"):\n",
    "    samp_estimates = samp_dict['bs_lower_bound'][:,:len(sub_estimates)]\n",
    "    if not sub_estimates:\n",
    "        if len(samp_estimates.shape) ==3:\n",
    "            samp_estimates = torch.gather(samp_estimates.mean(dim=1),1,\n",
    "                                          samp_dict['excluded_terms'].unsqueeze(-1)).squeeze()\n",
    "            assert len(samp_estimates.shape) == 1,f\"Shape of bs_lower_bounds is {len(samp_estimates.shape)}\"\n",
    "        if len(samp_estimates.shape) ==2:\n",
    "            samp_estimates = torch.gather(samp_estimates,1,\n",
    "                                              samp_dict['excluded_terms'].unsqueeze(-1)).squeeze()\n",
    "        \n",
    "        df = pd.DataFrame(samp_estimates)\n",
    "        df[f'{sample_type}_model_iters'] = samp_dict['model_iters']\n",
    "        df[f'{sample_type}_num_beams'] = samp_dist['sample_estimate_var']\n",
    "        \n",
    "    else:\n",
    "        assert samp_estimates.shape[1] == len(sub_estimates),\\\n",
    "        (\"Importance sampling estimates and sub_estimates are not aligned in shape.\" +\n",
    "         f\"got sample_est: {samp_estimates.shape[1]} and sub_estimates: {len(sub_estimates)}\")\n",
    "        if len(samp_estimates.shape) == 2:\n",
    "            samp_estimates = pd.DataFrame(samp_estimates,columns=sub_estimates)\n",
    "            print(samp_dict['num_beams'].shape)\n",
    "            beams = pd.DataFrame(samp_dict['num_beams'][:,:len(sub_estimates)],columns=sub_estimates)\n",
    "            true_cov = pd.DataFrame(samp_dict['true_coverage'][:,:len(sub_estimates)],columns=sub_estimates)\n",
    "            restr_cov = pd.DataFrame(samp_dict['restricted_coverage'][:,:len(sub_estimates)],columns=sub_estimates)\n",
    "            model_iters = pd.DataFrame(samp_dict['model_iters'][:,:len(sub_estimates)],columns=sub_estimates)\n",
    "            \n",
    "            df_list = [\n",
    "                (f'{search_type}_lb',samp_estimates),\n",
    "                ('model_iters',model_iters),\n",
    "                ('num_beams',beams),\n",
    "                ('true_coverage',true_cov),\n",
    "                ('restricted_coverage',restr_cov),\n",
    "            ]\n",
    "            \n",
    "            for i,(name,df) in enumerate(df_list):\n",
    "                df = pd.melt(df,value_vars=sub_estimates)\n",
    "                df.columns = ['num_samples',name]\n",
    "            df = df_list[0]\n",
    "            for name,df in df_list[1:]:\n",
    "                df[f'{search_type}_{name}']=df[name]\n",
    "            \n",
    "            # df[f'{sample_type}_variance']=var_df['variance']\n",
    "            \n",
    "        elif len(samp_estimates.shape) == 3:\n",
    "            df_list = []\n",
    "            for i in range(len(sub_estimates)):\n",
    "                df = pd.DataFrame(\n",
    "                            torch.gather(samp_estimates[:,i],1,\n",
    "                                      samp_dict['excluded_terms'].unsqueeze(-1)).squeeze()\n",
    "                        )\n",
    "                df[f'{search_type}_model_iters'] = samp_dict['model_iters'][:,i]\n",
    "                df[f'{search_type}_num_beams'] = samp_dict['num_beams'][:,i]\n",
    "                df[f'{search_type}_true_coverage'] = samp_dict['true_coverage'][:,i]\n",
    "                df[f'{search_type}_restricted_coverage'] = samp_dict['restricted_coverage'][:,i]\n",
    "                df_list.append(df)\n",
    "            df = pd.concat(df_list,axis=0,ignore_index=True)\n",
    "        else:\n",
    "            assert False,f\"Shape of samp_estimates is {len(samp_estimates.shape)}\"\n",
    "    res_cols = ['lb','model_iters','num_beams','true_coverage','restricted_coverage']\n",
    "    assert df.shape[-1] == len(res_cols), f\"DF shape is {df.shape}\"\n",
    "    df.columns = [f'{search_type}_{s}' for s in res_cols]\n",
    "    return df\n",
    "\n",
    "\n",
    "\n",
    "def flatten_sampling(samp_dict,sub_estimates,sample_type=\"importance\"):\n",
    "    samp_estimates = samp_dict['sample_estimates'][:,:len(sub_estimates)]\n",
    "    if not sub_estimates:\n",
    "        if len(samp_estimates.shape) ==3:\n",
    "            assert samp_estimates.shape[1] == samp_dict['metadata']['num_mc_samples'],\\\n",
    "            (f\"Error, estimate dimensions are {samp_estimates.shape} but the number of samples is \" +\n",
    "             f\"{samp_dict['metadata']['num_mc_samples']}, which does not match\")\n",
    "            \n",
    "            samp_estimates = torch.gather(samp_estimates.mean(dim=1),1,\n",
    "                                          samp_dict['excluded_terms'].unsqueeze(-1)).squeeze()\n",
    "            assert len(samp_estimates.shape) == 1,f\"Shape of imp_samp_estimates is {len(samp_estimates.shape)}\"\n",
    "        if len(samp_estimates.shape) ==2:\n",
    "            samp_estimates = torch.gather(samp_estimates,1,\n",
    "                                              samp_dict['excluded_terms'].unsqueeze(-1)).squeeze()\n",
    "        \n",
    "        df = pd.DataFrame(samp_estimates)\n",
    "        df.insert(0,'num_mc_samples',samp_dict['metadata']['num_mc_samples'])\n",
    "        df[f'{sample_type}_model_iters'] = samp_dict['model_iters']\n",
    "        df[f'{sample_type}_est_variance'] = samp_dist['sample_estimate_var']\n",
    "        \n",
    "    else:\n",
    "        assert samp_estimates.shape[1] == len(sub_estimates),\\\n",
    "        (\"Importance sampling estimates and sub_estimates are not aligned in shape.\" +\n",
    "         f\"got sample_est: {samp_estimates.shape[1]} and sub_estimates: {len(sub_estimates)}\")\n",
    "        if len(samp_estimates.shape) == 2:\n",
    "            samp_estimates = pd.DataFrame(samp_estimates,columns=sub_estimates)\n",
    "            samp_var = pd.DataFrame(samp_dict['sample_estimate_var'][:,:len(sub_estimates)],columns=sub_estimates)\n",
    "            model_iters = pd.DataFrame(samp_dict['model_iters'][:,:len(sub_estimates)],columns=sub_estimates)\n",
    "            sub_estimate_num_samples = None\n",
    "            if sample_type != 'hybrid':\n",
    "                sub_estimate_num_samples = pd.DataFrame(samp_dict['num_mc_samples'][:,:len(sub_estimates)],columns=sub_estimates)\n",
    "            \n",
    "            df_list = [\n",
    "                (f'{sample_type}_sampling_est',samp_estimates),\n",
    "                ('num_mc_samples',sub_estimate_num_samples),\n",
    "                ('model_iters',model_iters),\n",
    "                ('variance',samp_var),\n",
    "            ]\n",
    "            \n",
    "            for i,(name,df) in enumerate(df_list):\n",
    "                if name == 'num_mc_samples' and sample_type==\"hybrid\": continue\n",
    "                df = pd.melt(df,value_vars=sub_estimates)\n",
    "                df.columns = ['num_samples',name]\n",
    "            df = df_list[0]\n",
    "            for name,df in df_list[1:]:\n",
    "                if name == 'num_mc_samples' and sample_type==\"hybrid\": continue\n",
    "                df[f'{sample_type}_{name}']=df[name]\n",
    "            if df_type == \"hybrid\":\n",
    "                df['num_mc_samples'] = df['num_samples']\n",
    "                df = df[['num_mc_samples',f'{sample_type}_sampling_est',\n",
    "                         'model_iters','variance']]\n",
    "            \n",
    "            # df[f'{sample_type}_variance']=var_df['variance']\n",
    "            \n",
    "        elif len(samp_estimates.shape) == 3:\n",
    "            df_list = []\n",
    "            for i in range(len(sub_estimates)):\n",
    "                df = pd.DataFrame(\n",
    "                            torch.gather(samp_estimates[:,i],1,\n",
    "                                      samp_dict['excluded_terms'].unsqueeze(-1)).squeeze()\n",
    "                        )\n",
    "                if sample_type == \"hybrid\": df.insert(0,'num_mc_samples',sub_estimates[i])\n",
    "                else: df.insert(0,'num_mc_samples',samp_dict['num_mc_samples'][:,i])\n",
    "                df[f'{sample_type}_model_iters'] = samp_dict['model_iters'][:,i]\n",
    "                samp_est_var = torch.gather(samp_dict['sample_estimate_var'][:,i],1,\n",
    "                                            samp_dict['excluded_terms'].unsqueeze(-1)).squeeze()\n",
    "                                            \n",
    "                df[f'{sample_type}_variance'] = samp_est_var\n",
    "                \n",
    "                df_list.append(df)\n",
    "            df = pd.concat(df_list,axis=0,ignore_index=True)\n",
    "        else:\n",
    "            assert False,f\"Shape of samp_estimates is {len(samp_estimates.shape)}\"\n",
    "    res_cols = ['num_mc_samples','sampling_est','model_iters','variance']\n",
    "    assert df.shape[-1] == len(res_cols), f\"DF shape is {df.shape}\"\n",
    "    df.columns = [f'{sample_type}_{s}' for s in res_cols]\n",
    "    return df\n",
    "\n",
    "\n",
    "def flatten_gt(data_dict,gt_type):\n",
    "    gt_dict = data_dict[gt_type]\n",
    "    # gt = gt_dict['bs_lower_bound']\n",
    "    gt = torch.gather(gt_dict['bs_lower_bound'],1,\n",
    "                      gt_dict['excluded_terms'].unsqueeze(-1)).squeeze()\n",
    "    assert len(gt.shape) == 1,\\\n",
    "    f\"Ground truth has {len(gt.shape)} dimensions\"\n",
    "    df = pd.DataFrame(gt,columns=['ground_truth'])\n",
    "    for item in ['true_coverage','restricted_coverage','model_iters']:\n",
    "        df[f\"gt_{item}\"] = [gti.item() for gti in gt_dict[item]]\n",
    "    # df[\"gt_model_iters\"] = gt_dict['model_iters']\n",
    "    df['is_gt'] = int(gt_type == 'ground_truth')\n",
    "    df['gt_num_beams'] = gt_dict['metadata']['num_beams']\n",
    "    \n",
    "    return df\n",
    "    \n",
    "\n",
    "def flatten_experiment(data_dict,experiment, dataset,h,s,\n",
    "     global_agreement_vals= ['excluded_terms']):\n",
    "    sub_estimates = sorted(list(\n",
    "        # set(data_dict['importance_sampling']['metadata']['sub_estimates']) &\n",
    "        # set(data_dict['random_sampling']['metadata']['sub_estimates']) &\n",
    "        set(data_dict['beam_search_is_hybrid']['metadata']['sub_estimates'])))\n",
    "    sub_est_len = 1 if not sub_estimates else len(sub_estimates)\n",
    "    \n",
    "    importance_df = flatten_sampling(data_dict['importance_sampling'],sub_estimates,sample_type ='importance')\n",
    "    random_df = flatten_sampling(data_dict['random_sampling'],sub_estimates,sample_type ='random')\n",
    "    hybrid_df = flatten_sampling(data_dict['beam_search_is_hybrid'],sub_estimates,sample_type ='hybrid')\n",
    "    search_df = flatten_search(data_dict['beam_search'],sub_estimates,search_type='beam_search')\n",
    "    # hybrid_df.drop(\"num_mc_samples\",inplace = True,axis=1)\n",
    "    \n",
    "    gt_df = flatten_gt(data_dict,data_dict['gt_type'])\n",
    "    gt_df = pd.concat([gt_df]*sub_est_len,axis=0,ignore_index=True)\n",
    "    final_df = pd.concat([random_df,importance_df,hybrid_df,search_df,gt_df],axis=1)\n",
    "    \n",
    "    # Metadata checks\n",
    "    is_metadata = ['top_k','top_p']\n",
    "    hybrid_metadata = ['min_variance','min_var_reduction']\n",
    "    bs_metadata = []\n",
    "    gt_metadata = []\n",
    "    for m in is_metadata:\n",
    "        final_df['is_' + m] = int(data_dict['importance_sampling']['metadata'][m])\n",
    "    for m in hybrid_metadata:\n",
    "        final_df['hybrid_' + m] = float(data_dict['beam_search_is_hybrid']['metadata'][m])\n",
    "    for m in bs_metadata:\n",
    "        final_df['bs_lb_' + m] = data_dict['beam_search']['metadata'][m]\n",
    "    for m in bs_metadata:\n",
    "        final_df['gt_' + m] = data_dict[data_dict['gt_type']]['metadata'][m]\n",
    "    # final_df['interp_func'] = str(data_dict[data_dict['gt_type']]['metadata']['interp_func']).split(\" \")[1]\n",
    "    \n",
    "    \n",
    "    final_df['dataset_name'] = dataset\n",
    "    final_df['hist_len'] = h\n",
    "    final_df['total_seq_len'] = s\n",
    "    final_df['num_steps'] = s-h\n",
    "    sequence_ids = list(range(data_dict['importance_sampling']['sample_estimates'].shape[0]))*sub_est_len\n",
    "    excluded_terms = data_dict['importance_sampling']['excluded_terms'].numpy().tolist()*sub_est_len\n",
    "    final_df['sequence_id'] = sequence_ids\n",
    "    final_df['excluded_term'] = excluded_terms\n",
    "    final_df['is_lin_interp'] = 1\n",
    "                 \n",
    "    # ==== Phase shift stuff ====\n",
    "    # phase_shifts = read_pkl(\"/srv/disk00/samshow/amazon/amazon_phase_trans.pkl\")\n",
    "    # phase_shift_val_inds = read_pkl(\"../data/amazon/amazon_val_dl_transition_inds.pkl\")\n",
    "    # phase_shifts = phase_shifts[phase_shift_val_inds].numpy().tolist()\n",
    "    # print(phase_shift_val_inds.shape, final_df.shape)\n",
    "    # final_df['phase_shifts'] = phase_shifts * sub_est_len\n",
    "    # final_df['phase_shifts'] -=1\n",
    "    \n",
    "    return final_df\n",
    "     \n",
    "    \n",
    "    "
   ]
  },
  {
   "cell_type": "code",
   "execution_count": 4,
   "id": "cb936c89-eb0e-42cd-923b-8a60a9fc167c",
   "metadata": {},
   "outputs": [],
   "source": [
    "experiment = [\"val_dl\"]\n",
    "dataset = [\"apps\"]\n",
    "lengths = [(13,15),(12,15)]\n",
    "def flatten_experiments(experiments, datasets, lengths,model_budget=False):\n",
    "    data_list = []\n",
    "    for experiment in experiments:\n",
    "        for dataset in datasets:\n",
    "            for h,s in lengths:\n",
    "                data = get_experiment_data(experiment,dataset,h,s)\n",
    "                df = flatten_experiment(data,experiment, dataset, h,s)\n",
    "                    \n",
    "#                     print(df.head())\n",
    "#                     print(df.columns)\n",
    "#                     print(df.shape)\n",
    "#                     sys.exit(1)\n",
    "                    \n",
    "                data_list.append(df)\n",
    "                    \n",
    "    # print(len(data_list))\n",
    "    data_df = pd.concat(data_list,axis = 0)\n",
    "    ordering = [ 'sequence_id','num_steps', 'excluded_term', 'is_gt','ground_truth',\n",
    "                'random_sampling_est','importance_sampling_est','hybrid_sampling_est', 'beam_search_lb',\n",
    "                'random_num_mc_samples', 'importance_num_mc_samples','hybrid_num_mc_samples',\n",
    "                'gt_model_iters','random_model_iters', #continues to next line\n",
    "                'importance_model_iters','hybrid_model_iters','beam_search_model_iters',\n",
    "                'random_variance','importance_variance',  'hybrid_variance',\n",
    "                'gt_true_coverage', 'gt_restricted_coverage', 'gt_num_beams',\n",
    "                'beam_search_true_coverage', 'beam_search_restricted_coverage', 'beam_search_num_beams',\n",
    "                'is_top_k','is_top_p',\n",
    "                'hybrid_min_variance','hybrid_min_var_reduction', \n",
    "                'hist_len', 'total_seq_len']#, 'phase_shifts']\n",
    "    data_df = data_df[ordering]\n",
    "    print(data_df.columns)\n",
    "    \n",
    "    return data_df\n",
    "                \n",
    "                          "
   ]
  },
  {
   "cell_type": "code",
   "execution_count": 7,
   "id": "62c51bbf-1517-42cc-8ed2-b99b496d041f",
   "metadata": {},
   "outputs": [
    {
     "name": "stdout",
     "output_type": "stream",
     "text": [
      "beam_search_is_hybrid \n",
      " ../data/beam_search_is_hybrid/amazon/val_dl/val-dl_amazon_beam-search-is-hybrid_13h_15s_1000mc.pkl \n",
      "=============\n",
      "importance_sampling \n",
      " ../data/importance_sampling/amazon/val_dl/val-dl_amazon_importance-sampling_13h_15s_1000mc_model-budget.pkl \n",
      "=============\n",
      "random_sampling \n",
      " ../data/random_sampling/amazon/val_dl/val-dl_amazon_random-sampling_13h_15s_1000mc_model-budget.pkl \n",
      "=============\n",
      "beam_search \n",
      " ../data/beam_search/amazon/val_dl/val-dl_amazon_beam-search_13h_15s_model-budget.pkl \n",
      "=============\n",
      "GT:  ground_truth \n",
      " ../data/ground_truth/amazon/val_dl/val-dl_amazon_ground-truth_13h_15s.pkl \n",
      "=============\n",
      "beam_search_is_hybrid \n",
      " ../data/beam_search_is_hybrid/amazon/val_dl/val-dl_amazon_beam-search-is-hybrid_12h_15s_1000mc.pkl \n",
      "=============\n",
      "importance_sampling \n",
      " ../data/importance_sampling/amazon/val_dl/val-dl_amazon_importance-sampling_12h_15s_1000mc_model-budget.pkl \n",
      "=============\n",
      "random_sampling \n",
      " ../data/random_sampling/amazon/val_dl/val-dl_amazon_random-sampling_12h_15s_1000mc_model-budget.pkl \n",
      "=============\n",
      "beam_search \n",
      " ../data/beam_search/amazon/val_dl/val-dl_amazon_beam-search_12h_15s_model-budget.pkl \n",
      "=============\n",
      "GT:  ground_truth \n",
      " ../data/ground_truth/amazon/val_dl/val-dl_amazon_ground-truth_12h_15s.pkl \n",
      "=============\n",
      "Index(['sequence_id', 'num_steps', 'excluded_term', 'is_gt', 'ground_truth',\n",
      "       'random_sampling_est', 'importance_sampling_est', 'hybrid_sampling_est',\n",
      "       'beam_search_lb', 'random_num_mc_samples', 'importance_num_mc_samples',\n",
      "       'hybrid_num_mc_samples', 'gt_model_iters', 'random_model_iters',\n",
      "       'importance_model_iters', 'hybrid_model_iters',\n",
      "       'beam_search_model_iters', 'random_variance', 'importance_variance',\n",
      "       'hybrid_variance', 'gt_true_coverage', 'gt_restricted_coverage',\n",
      "       'gt_num_beams', 'beam_search_true_coverage',\n",
      "       'beam_search_restricted_coverage', 'beam_search_num_beams', 'is_top_k',\n",
      "       'is_top_p', 'hybrid_min_variance', 'hybrid_min_var_reduction',\n",
      "       'hist_len', 'total_seq_len'],\n",
      "      dtype='object')\n"
     ]
    }
   ],
   "source": [
    "# df = flatten_experiments(['val_dl'],['shakespeare'],[(18,20),(17,20)])\n",
    "# df.to_csv('shakespeare_17-18_20.csv',index=None)\n",
    "df = flatten_experiments(['val_dl'],['amazon'],[(13,15),(12,15)])\n",
    "# df.to_csv('amazon_12-13_15.csv',index=None)\n",
    "# df = flatten_experiments(['val_dl'],['moocs'],[(13,15),(12,15)])\n",
    "# df.to_csv('moocs_12-13_15.csv',index=None)\n",
    "# df = flatten_experiments(['val_dl'],['apps'],[(12,15),(13,15)])\n",
    "# df.to_csv('apps_12-13_15.csv',index=None)\n"
   ]
  },
  {
   "cell_type": "code",
   "execution_count": 6,
   "id": "9686d012-ca67-4160-aace-cabe4dc2d6dd",
   "metadata": {},
   "outputs": [
    {
     "data": {
      "text/plain": [
       "Index(['sequence_id', 'num_steps', 'excluded_term', 'is_gt', 'ground_truth',\n",
       "       'random_sampling_est', 'importance_sampling_est', 'hybrid_sampling_est',\n",
       "       'beam_search_lb', 'random_num_mc_samples', 'importance_num_mc_samples',\n",
       "       'hybrid_num_mc_samples', 'gt_model_iters', 'random_model_iters',\n",
       "       'importance_model_iters', 'hybrid_model_iters',\n",
       "       'beam_search_model_iters', 'random_variance', 'importance_variance',\n",
       "       'hybrid_variance', 'gt_true_coverage', 'gt_restricted_coverage',\n",
       "       'gt_num_beams', 'beam_search_true_coverage',\n",
       "       'beam_search_restricted_coverage', 'beam_search_num_beams', 'is_top_k',\n",
       "       'is_top_p', 'hybrid_min_variance', 'hybrid_min_var_reduction',\n",
       "       'hist_len', 'total_seq_len'],\n",
       "      dtype='object')"
      ]
     },
     "execution_count": 6,
     "metadata": {},
     "output_type": "execute_result"
    }
   ],
   "source": [
    "df.columns"
   ]
  },
  {
   "cell_type": "code",
   "execution_count": 31,
   "id": "6ce843b1-19fd-4a08-bd5e-a76576456916",
   "metadata": {},
   "outputs": [],
   "source": [
    "# data['importance_sampling']['metadata']['sub_estimates']\n",
    "# print(df.shape)\n",
    "# print(df.isnull().sum())\n",
    "# df.phase_shifts.describe()\n",
    "# df[['num_steps','gt_model_iters',\n",
    "    # 'importance_model_iters','hybrid_model_iters','beam_search_model_iters']].tail(10)\n",
    "# df[['hybrid_num_mc_samples', 'importance_num_mc_samples','beam_search_num_beams']].tail(50)\n",
    "# df[['beam_search_true_coverage','beam_search_restricted_coverage','beam_search_num_beams']].tail(50)\n"
   ]
  },
  {
   "cell_type": "code",
   "execution_count": 109,
   "id": "81963683-e69a-4cbf-be8f-970918de1117",
   "metadata": {},
   "outputs": [
    {
     "data": {
      "text/plain": [
       "(24,)"
      ]
     },
     "execution_count": 109,
     "metadata": {},
     "output_type": "execute_result"
    }
   ],
   "source": [
    "df.excluded_term.drop_duplicates().shape"
   ]
  },
  {
   "cell_type": "code",
   "execution_count": 101,
   "id": "508f6549-1b99-4fb8-b2ea-8656c1d66904",
   "metadata": {},
   "outputs": [
    {
     "data": {
      "text/html": [
       "<div>\n",
       "<style scoped>\n",
       "    .dataframe tbody tr th:only-of-type {\n",
       "        vertical-align: middle;\n",
       "    }\n",
       "\n",
       "    .dataframe tbody tr th {\n",
       "        vertical-align: top;\n",
       "    }\n",
       "\n",
       "    .dataframe thead th {\n",
       "        text-align: right;\n",
       "    }\n",
       "</style>\n",
       "<table border=\"1\" class=\"dataframe\">\n",
       "  <thead>\n",
       "    <tr style=\"text-align: right;\">\n",
       "      <th></th>\n",
       "      <th>sequence_id</th>\n",
       "      <th>ground_truth</th>\n",
       "    </tr>\n",
       "  </thead>\n",
       "  <tbody>\n",
       "    <tr>\n",
       "      <th>0</th>\n",
       "      <td>0</td>\n",
       "      <td>0.002659</td>\n",
       "    </tr>\n",
       "    <tr>\n",
       "      <th>1</th>\n",
       "      <td>1</td>\n",
       "      <td>0.000014</td>\n",
       "    </tr>\n",
       "    <tr>\n",
       "      <th>2</th>\n",
       "      <td>2</td>\n",
       "      <td>0.002855</td>\n",
       "    </tr>\n",
       "    <tr>\n",
       "      <th>3</th>\n",
       "      <td>3</td>\n",
       "      <td>0.001897</td>\n",
       "    </tr>\n",
       "    <tr>\n",
       "      <th>4</th>\n",
       "      <td>4</td>\n",
       "      <td>0.001897</td>\n",
       "    </tr>\n",
       "    <tr>\n",
       "      <th>5</th>\n",
       "      <td>5</td>\n",
       "      <td>0.002891</td>\n",
       "    </tr>\n",
       "    <tr>\n",
       "      <th>6</th>\n",
       "      <td>6</td>\n",
       "      <td>0.023775</td>\n",
       "    </tr>\n",
       "    <tr>\n",
       "      <th>7</th>\n",
       "      <td>7</td>\n",
       "      <td>0.001066</td>\n",
       "    </tr>\n",
       "    <tr>\n",
       "      <th>8</th>\n",
       "      <td>8</td>\n",
       "      <td>0.001873</td>\n",
       "    </tr>\n",
       "    <tr>\n",
       "      <th>9</th>\n",
       "      <td>9</td>\n",
       "      <td>0.000010</td>\n",
       "    </tr>\n",
       "    <tr>\n",
       "      <th>10</th>\n",
       "      <td>10</td>\n",
       "      <td>0.001658</td>\n",
       "    </tr>\n",
       "  </tbody>\n",
       "</table>\n",
       "</div>"
      ],
      "text/plain": [
       "    sequence_id  ground_truth\n",
       "0             0      0.002659\n",
       "1             1      0.000014\n",
       "2             2      0.002855\n",
       "3             3      0.001897\n",
       "4             4      0.001897\n",
       "5             5      0.002891\n",
       "6             6      0.023775\n",
       "7             7      0.001066\n",
       "8             8      0.001873\n",
       "9             9      0.000010\n",
       "10           10      0.001658"
      ]
     },
     "execution_count": 101,
     "metadata": {},
     "output_type": "execute_result"
    }
   ],
   "source": [
    "df.loc[:10,['sequence_id','ground_truth']]"
   ]
  },
  {
   "cell_type": "code",
   "execution_count": 32,
   "id": "f121b025-6c6f-4f50-86a1-9a0d40cff9a8",
   "metadata": {},
   "outputs": [
    {
     "data": {
      "text/plain": [
       "827"
      ]
     },
     "execution_count": 32,
     "metadata": {},
     "output_type": "execute_result"
    }
   ],
   "source": [
    "(df.ground_truth < df.beam_search_lb).sum()"
   ]
  },
  {
   "cell_type": "code",
   "execution_count": 36,
   "id": "00378b94-7229-473b-9002-bf7c94545e4e",
   "metadata": {},
   "outputs": [
    {
     "data": {
      "text/plain": [
       "0.11905558407306671"
      ]
     },
     "execution_count": 36,
     "metadata": {},
     "output_type": "execute_result"
    }
   ],
   "source": [
    "test_df= df[ (df.beam_search_num_beams>10)]\n",
    "test_df= test_df[ (test_df.beam_search_num_beams < 100)]\n",
    "abs((test_df.beam_search_lb - test_df.ground_truth)/test_df.ground_truth).mean()"
   ]
  },
  {
   "cell_type": "code",
   "execution_count": 51,
   "id": "abafcc14-22da-41c3-b1fd-b4e4aec8ebc2",
   "metadata": {},
   "outputs": [
    {
     "data": {
      "text/plain": [
       "1202"
      ]
     },
     "execution_count": 51,
     "metadata": {},
     "output_type": "execute_result"
    }
   ],
   "source": [
    "2072 - (29 + 841 + 1202)"
   ]
  },
  {
   "cell_type": "code",
   "execution_count": 50,
   "id": "53d53f9a-4877-4323-bb5c-1bd8b882b4bd",
   "metadata": {},
   "outputs": [
    {
     "data": {
      "text/plain": [
       "sequence_id                            2.000000\n",
       "num_steps                              3.000000\n",
       "excluded_term                         23.000000\n",
       "is_gt                                  1.000000\n",
       "ground_truth                           0.030245\n",
       "random_sampling_est                    0.026151\n",
       "importance_sampling_est                0.030695\n",
       "hybrid_sampling_est                    0.030626\n",
       "beam_search_lb                         0.026705\n",
       "random_num_mc_samples                811.000000\n",
       "importance_num_mc_samples            811.000000\n",
       "hybrid_num_mc_samples               1000.000000\n",
       "gt_model_iters                     25259.000000\n",
       "random_model_iters                  2433.000000\n",
       "importance_model_iters              2433.000000\n",
       "hybrid_model_iters                  2432.000000\n",
       "beam_search_model_iters             2072.000000\n",
       "random_variance                        0.000117\n",
       "importance_variance                    0.000010\n",
       "hybrid_variance                        0.000005\n",
       "gt_true_coverage                       0.908715\n",
       "gt_restricted_coverage                 1.000000\n",
       "gt_num_beams                           0.000000\n",
       "beam_search_true_coverage              0.823007\n",
       "beam_search_restricted_coverage        0.903895\n",
       "beam_search_num_beams               1202.000000\n",
       "is_top_k                               0.000000\n",
       "is_top_p                               0.000000\n",
       "hybrid_min_variance                    1.000000\n",
       "hybrid_min_var_reduction               0.100000\n",
       "hist_len                              12.000000\n",
       "total_seq_len                         15.000000\n",
       "Name: 12770, dtype: float64"
      ]
     },
     "execution_count": 50,
     "metadata": {},
     "output_type": "execute_result"
    }
   ],
   "source": [
    "tdf.loc[12770,:]"
   ]
  },
  {
   "cell_type": "code",
   "execution_count": 21,
   "id": "7cbddd3d-7372-4dc2-bcaf-c175414cdef2",
   "metadata": {},
   "outputs": [
    {
     "data": {
      "text/plain": [
       "<matplotlib.collections.PathCollection at 0x7fd1102e70a0>"
      ]
     },
     "execution_count": 21,
     "metadata": {},
     "output_type": "execute_result"
    },
    {
     "data": {
      "image/png": "[encoded data removed]",
      "text/plain": [
       "<Figure size 432x288 with 1 Axes>"
      ]
     },
     "metadata": {
      "needs_background": "light"
     },
     "output_type": "display_data"
    }
   ],
   "source": [
    "tdf = df[df.hybrid_num_mc_samples > 100]\n",
    "plt.scatter(tdf.ground_truth, tdf.beam_search_lb)\n",
    "# tdf[['hybrid_model_iters','beam_search_model_iters']].head()"
   ]
  },
  {
   "cell_type": "code",
   "execution_count": 20,
   "id": "ffa3e321-1e17-4734-9991-e739ed32f6a6",
   "metadata": {},
   "outputs": [
    {
     "data": {
      "text/html": [
       "<div>\n",
       "<style scoped>\n",
       "    .dataframe tbody tr th:only-of-type {\n",
       "        vertical-align: middle;\n",
       "    }\n",
       "\n",
       "    .dataframe tbody tr th {\n",
       "        vertical-align: top;\n",
       "    }\n",
       "\n",
       "    .dataframe thead th {\n",
       "        text-align: right;\n",
       "    }\n",
       "</style>\n",
       "<table border=\"1\" class=\"dataframe\">\n",
       "  <thead>\n",
       "    <tr style=\"text-align: right;\">\n",
       "      <th></th>\n",
       "      <th>importance_num_mc_samples</th>\n",
       "      <th>hybrid_num_mc_samples</th>\n",
       "      <th>importance_model_iters</th>\n",
       "      <th>hybrid_model_iters</th>\n",
       "    </tr>\n",
       "  </thead>\n",
       "  <tbody>\n",
       "    <tr>\n",
       "      <th>16865</th>\n",
       "      <td>764</td>\n",
       "      <td>1000</td>\n",
       "      <td>1528</td>\n",
       "      <td>1728</td>\n",
       "    </tr>\n",
       "    <tr>\n",
       "      <th>16866</th>\n",
       "      <td>821</td>\n",
       "      <td>1000</td>\n",
       "      <td>1642</td>\n",
       "      <td>1903</td>\n",
       "    </tr>\n",
       "    <tr>\n",
       "      <th>16867</th>\n",
       "      <td>838</td>\n",
       "      <td>1000</td>\n",
       "      <td>1676</td>\n",
       "      <td>1767</td>\n",
       "    </tr>\n",
       "    <tr>\n",
       "      <th>16868</th>\n",
       "      <td>949</td>\n",
       "      <td>1000</td>\n",
       "      <td>1898</td>\n",
       "      <td>1655</td>\n",
       "    </tr>\n",
       "    <tr>\n",
       "      <th>16869</th>\n",
       "      <td>942</td>\n",
       "      <td>1000</td>\n",
       "      <td>1884</td>\n",
       "      <td>1818</td>\n",
       "    </tr>\n",
       "  </tbody>\n",
       "</table>\n",
       "</div>"
      ],
      "text/plain": [
       "       importance_num_mc_samples  hybrid_num_mc_samples  \\\n",
       "16865                        764                   1000   \n",
       "16866                        821                   1000   \n",
       "16867                        838                   1000   \n",
       "16868                        949                   1000   \n",
       "16869                        942                   1000   \n",
       "\n",
       "       importance_model_iters  hybrid_model_iters  \n",
       "16865                    1528                1728  \n",
       "16866                    1642                1903  \n",
       "16867                    1676                1767  \n",
       "16868                    1898                1655  \n",
       "16869                    1884                1818  "
      ]
     },
     "execution_count": 20,
     "metadata": {},
     "output_type": "execute_result"
    }
   ],
   "source": [
    "df.loc[abs(df.hybrid_model_iters - df.importance_model_iters) > 40,\n",
    "       ['importance_num_mc_samples','hybrid_num_mc_samples',\n",
    "       'importance_model_iters','hybrid_model_iters']].head()"
   ]
  },
  {
   "cell_type": "code",
   "execution_count": 16,
   "id": "8b010b1e-e070-4f9b-85bf-141fd935acab",
   "metadata": {},
   "outputs": [
    {
     "data": {
      "text/plain": [
       "Text(0.5, 1.0, 'importance')"
      ]
     },
     "execution_count": 16,
     "metadata": {},
     "output_type": "execute_result"
    },
    {
     "data": {
      "image/png": "[encoded data removed]",
      "text/plain": [
       "<Figure size 432x288 with 1 Axes>"
      ]
     },
     "metadata": {
      "needs_background": "light"
     },
     "output_type": "display_data"
    }
   ],
   "source": [
    "# df = df[df['phase_shifts'] > 10]\n",
    "# df = df1\n",
    "ndf = df[df.beam_search_num_beams > 100]\n",
    "plt.scatter(ndf['ground_truth'],ndf['beam_search_lb'])\n",
    "# plt.scatter(df['ground_truth'],df['importance_sampling_est'])\n",
    "# plt.scatter(df['ground_truth'],df['random_sampling_est'])\n",
    "# plt.ylim((0,1))\n",
    "plt.title(\"importance\")"
   ]
  },
  {
   "cell_type": "code",
   "execution_count": 27,
   "id": "6a3e8a10-b1b5-4498-bc4a-90eaa5ecbba8",
   "metadata": {},
   "outputs": [
    {
     "data": {
      "text/html": [
       "<div>\n",
       "<style scoped>\n",
       "    .dataframe tbody tr th:only-of-type {\n",
       "        vertical-align: middle;\n",
       "    }\n",
       "\n",
       "    .dataframe tbody tr th {\n",
       "        vertical-align: top;\n",
       "    }\n",
       "\n",
       "    .dataframe thead th {\n",
       "        text-align: right;\n",
       "    }\n",
       "</style>\n",
       "<table border=\"1\" class=\"dataframe\">\n",
       "  <thead>\n",
       "    <tr style=\"text-align: right;\">\n",
       "      <th></th>\n",
       "      <th>importance_est_variance</th>\n",
       "      <th>hybrid_est_variance</th>\n",
       "    </tr>\n",
       "  </thead>\n",
       "  <tbody>\n",
       "    <tr>\n",
       "      <th>count</th>\n",
       "      <td>2.191800e+04</td>\n",
       "      <td>2.191800e+04</td>\n",
       "    </tr>\n",
       "    <tr>\n",
       "      <th>mean</th>\n",
       "      <td>3.688037e-05</td>\n",
       "      <td>3.907905e-06</td>\n",
       "    </tr>\n",
       "    <tr>\n",
       "      <th>std</th>\n",
       "      <td>6.492985e-04</td>\n",
       "      <td>8.797111e-05</td>\n",
       "    </tr>\n",
       "    <tr>\n",
       "      <th>min</th>\n",
       "      <td>2.860333e-20</td>\n",
       "      <td>1.116206e-19</td>\n",
       "    </tr>\n",
       "    <tr>\n",
       "      <th>25%</th>\n",
       "      <td>4.422974e-09</td>\n",
       "      <td>1.191007e-09</td>\n",
       "    </tr>\n",
       "    <tr>\n",
       "      <th>50%</th>\n",
       "      <td>4.011587e-08</td>\n",
       "      <td>1.700204e-08</td>\n",
       "    </tr>\n",
       "    <tr>\n",
       "      <th>75%</th>\n",
       "      <td>3.072154e-07</td>\n",
       "      <td>1.139661e-07</td>\n",
       "    </tr>\n",
       "    <tr>\n",
       "      <th>max</th>\n",
       "      <td>4.445925e-02</td>\n",
       "      <td>4.038442e-03</td>\n",
       "    </tr>\n",
       "  </tbody>\n",
       "</table>\n",
       "</div>"
      ],
      "text/plain": [
       "       importance_est_variance  hybrid_est_variance\n",
       "count             2.191800e+04         2.191800e+04\n",
       "mean              3.688037e-05         3.907905e-06\n",
       "std               6.492985e-04         8.797111e-05\n",
       "min               2.860333e-20         1.116206e-19\n",
       "25%               4.422974e-09         1.191007e-09\n",
       "50%               4.011587e-08         1.700204e-08\n",
       "75%               3.072154e-07         1.139661e-07\n",
       "max               4.445925e-02         4.038442e-03"
      ]
     },
     "execution_count": 27,
     "metadata": {},
     "output_type": "execute_result"
    }
   ],
   "source": [
    "df[['importance_est_variance','hybrid_est_variance']].describe()"
   ]
  },
  {
   "cell_type": "code",
   "execution_count": 21,
   "id": "3ed16f5a-8501-46b6-8e3e-3d4f3a55b259",
   "metadata": {},
   "outputs": [
    {
     "data": {
      "text/plain": [
       "dataset_name                       0\n",
       "sequence_id                        0\n",
       "num_steps                          0\n",
       "excluded_term                      0\n",
       "gt_type                            0\n",
       "ground_truth                       0\n",
       "random_sampling_est                0\n",
       "importance_sampling_est            0\n",
       "hybrid_sampling_est                0\n",
       "beam_search_lb                     0\n",
       "random_num_mc_samples              0\n",
       "importance_num_mc_samples          0\n",
       "hybrid_num_mc_samples              0\n",
       "gt_model_iters                     0\n",
       "random_model_iters                 0\n",
       "importance_model_iters             0\n",
       "hybrid_model_iters                 0\n",
       "beam_search_model_iters            0\n",
       "random_variance                    0\n",
       "importance_variance                0\n",
       "hybrid_variance                    0\n",
       "gt_true_coverage                   0\n",
       "gt_restricted_coverage             0\n",
       "gt_num_beams                       0\n",
       "beam_search_true_coverage          0\n",
       "beam_search_restricted_coverage    0\n",
       "beam_search_num_beams              0\n",
       "is_top_k                           0\n",
       "is_top_p                           0\n",
       "hybrid_min_variance                0\n",
       "hybrid_min_var_reduction           0\n",
       "hist_len                           0\n",
       "total_seq_len                      0\n",
       "dtype: int64"
      ]
     },
     "execution_count": 21,
     "metadata": {},
     "output_type": "execute_result"
    }
   ],
   "source": [
    "df.isnull().sum()"
   ]
  },
  {
   "cell_type": "code",
   "execution_count": 25,
   "id": "0a52b7fd-4659-494d-9ff3-13584d46e421",
   "metadata": {},
   "outputs": [],
   "source": [
    "# df.to_csv('shakespeare_17-18_20.csv',index=None)\n",
    "# df.to_csv('moocs_12-13_15.csv',index=None)\n",
    "# df.to_csv('apps_12-13_15.csv',index=None)\n",
    "df.to_csv('amazon_12-13_15.csv',index=None)"
   ]
  },
  {
   "cell_type": "code",
   "execution_count": 100,
   "id": "ea7d4da0-609f-40e6-ad58-0c5d761c8463",
   "metadata": {},
   "outputs": [],
   "source": [
    "amazon_dict = read_pkl(\"/srv/disk00/samshow/amazon/amazon_text_dict.pkl\")"
   ]
  },
  {
   "cell_type": "code",
   "execution_count": 101,
   "id": "fb6f3eab-1f61-4c3e-bf7c-2ff76eb144c0",
   "metadata": {},
   "outputs": [],
   "source": [
    "data = amazon_dict['text']"
   ]
  },
  {
   "cell_type": "code",
   "execution_count": 102,
   "id": "19594098-def2-47ac-8f3a-059d760179fe",
   "metadata": {},
   "outputs": [
    {
     "data": {
      "text/plain": [
       "torch.Size([63844580, 16])"
      ]
     },
     "execution_count": 102,
     "metadata": {},
     "output_type": "execute_result"
    }
   ],
   "source": [
    "data.shape"
   ]
  },
  {
   "cell_type": "code",
   "execution_count": 109,
   "id": "f0b0cc01-7d4b-4203-88ea-d367dd1d10cb",
   "metadata": {},
   "outputs": [
    {
     "data": {
      "text/plain": [
       "tensor([ 0., 16., 16., 16., 11.,  3., 27., 27.,  9.,  9.,  9., 23., 16., 16.,\n",
       "        16.,  8.])"
      ]
     },
     "execution_count": 109,
     "metadata": {},
     "output_type": "execute_result"
    }
   ],
   "source": [
    "data[0]"
   ]
  },
  {
   "cell_type": "code",
   "execution_count": 112,
   "id": "94c73676-c082-46a2-997d-1cea95e17256",
   "metadata": {},
   "outputs": [
    {
     "name": "stderr",
     "output_type": "stream",
     "text": [
      "100%|██████████| 63844580/63844580 [17:23<00:00, 61164.82it/s]  \n"
     ]
    }
   ],
   "source": [
    "from tqdm import tqdm\n",
    "trans = []\n",
    "for i in tqdm(range(data.shape[0])):\n",
    "    trans.append(torch.unique_consecutive(data[i,1:]).shape)\n",
    "    "
   ]
  },
  {
   "cell_type": "code",
   "execution_count": 125,
   "id": "6b36271e-5d00-43d2-af28-de548ec74856",
   "metadata": {},
   "outputs": [],
   "source": [
    "trans = torch.LongTensor(trans).flatten()"
   ]
  },
  {
   "cell_type": "code",
   "execution_count": 126,
   "id": "c83ae82d-e144-4f7b-9fa1-855591a0f8c9",
   "metadata": {},
   "outputs": [
    {
     "data": {
      "text/plain": [
       "torch.Size([63844580])"
      ]
     },
     "execution_count": 126,
     "metadata": {},
     "output_type": "execute_result"
    }
   ],
   "source": [
    "trans.shape"
   ]
  },
  {
   "cell_type": "code",
   "execution_count": 127,
   "id": "36efdf43-a1a5-43b0-97c4-9f85633c5f87",
   "metadata": {},
   "outputs": [],
   "source": [
    "write_pkl(trans, \"/srv/disask00/samshow/amazon/amazon_phase_trans.pkl\")"
   ]
  },
  {
   "cell_type": "code",
   "execution_count": 121,
   "id": "60ad3b21-6ab1-4788-af46-5b60a4823228",
   "metadata": {},
   "outputs": [],
   "source": [
    "trans_vals = []\n",
    "for i in range(1,trans.max()+1):\n",
    "    trans_vals.append((trans == i).sum().item()/trans.shape[0])"
   ]
  },
  {
   "cell_type": "code",
   "execution_count": 123,
   "id": "299b9ef8-a587-479e-821d-6b244e68101d",
   "metadata": {},
   "outputs": [],
   "source": [
    "amazon_perc_per_phase_shift = [0.059163910233257073,\n",
    " 0.020707521296247856,\n",
    " 0.056485656260876024,\n",
    " 0.04778584180520884,\n",
    " 0.07297364944682853,\n",
    " 0.07653857226408256,\n",
    " 0.09382401763783238,\n",
    " 0.10168632952084578,\n",
    " 0.1102257544806466,\n",
    " 0.10986890351538063,\n",
    " 0.09992870185691566,\n",
    " 0.0774158276238954,\n",
    " 0.047934671979986396,\n",
    " 0.020711280425057224,\n",
    " 0.004749361652939059]"
   ]
  },
  {
   "cell_type": "code",
   "execution_count": null,
   "id": "e726ba0a-3b52-4c66-93bd-57bbea35dc76",
   "metadata": {},
   "outputs": [],
   "source": []
  }
 ],
 "metadata": {
  "kernelspec": {
   "display_name": "nlp_env",
   "language": "python",
   "name": "nlpenv"
  },
  "language_info": {
   "codemirror_mode": {
    "name": "ipython",
    "version": 3
   },
   "file_extension": ".py",
   "mimetype": "text/x-python",
   "name": "python",
   "nbconvert_exporter": "python",
   "pygments_lexer": "ipython3",
   "version": "3.8.8"
  }
 },
 "nbformat": 4,
 "nbformat_minor": 5
}
