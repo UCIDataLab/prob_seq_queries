{
 "cells": [
  {
   "cell_type": "code",
   "execution_count": 2,
   "id": "12a58f13-38b6-4892-b8da-5489d58f3305",
   "metadata": {},
   "outputs": [],
   "source": [
    "%load_ext autoreload\n",
    "%autoreload 2\n",
    "import matplotlib.pyplot as plt\n",
    "import seaborn as sns\n",
    "import os\n",
    "import pandas as pd\n",
    "import sys\n",
    "import numpy as np\n",
    "import glob\n",
    "import torch\n",
    "\n",
    "sys.path.insert(1,\"/home/showalte/research/prob_seq_queries/\")\n",
    "from seq_queries.utils import read_pkl, write_pkl"
   ]
  },
  {
   "cell_type": "code",
   "execution_count": 25,
   "id": "19ff0225-8e38-43b3-b0d3-ebf38852ee07",
   "metadata": {},
   "outputs": [],
   "source": [
    "ref = [\n",
    "    \"In my opinion ... \",\n",
    "    \"with that said ...\",\n",
    "    \"in other words ...\",\n",
    "    \"            go ... \",\n",
    "    \"Hi, my name is ... \",\n",
    "    \"                    Where is ... \",\n",
    "    \"Once upon a ...\",\n",
    "    \"I wish ...\",\n",
    "]\n",
    "    \n",
    "    "
   ]
  },
  {
   "cell_type": "code",
   "execution_count": 26,
   "id": "5b7e2dff-2ebc-408e-a507-f7df94c585bc",
   "metadata": {},
   "outputs": [],
   "source": [
    "path = \"../data/flashy/flashy_gpt2/val_dl/val-dl_flashy_gpt2_flashy_1000mc.pkl\"\n",
    "data = read_pkl(path)"
   ]
  },
  {
   "cell_type": "code",
   "execution_count": 27,
   "id": "0cf7c3f5-204c-4fd9-9057-2f2787936123",
   "metadata": {},
   "outputs": [],
   "source": [
    "# print(data.keys())\n",
    "df = data['intermediate_query_probs'][:,:,[30,13,0,26]]"
   ]
  },
  {
   "cell_type": "code",
   "execution_count": 28,
   "id": "60b3ba86-d853-41d8-9d31-c3ba0fcf3f00",
   "metadata": {},
   "outputs": [
    {
     "data": {
      "text/plain": [
       "torch.Size([8, 31, 4])"
      ]
     },
     "execution_count": 28,
     "metadata": {},
     "output_type": "execute_result"
    }
   ],
   "source": [
    "df.shape"
   ]
  },
  {
   "cell_type": "code",
   "execution_count": 29,
   "id": "20ac002f-08d9-4059-8118-18aa718a3d13",
   "metadata": {},
   "outputs": [],
   "source": [
    "# for i in range(7):\n",
    "#     plt.figure(figsize = (12,8))\n",
    "#     plt.bar(range(21),df[i].sum(dim=-1).numpy(),label=ref[i])\n",
    "#     plt.legend()\n",
    "#     plt.ylim(0,0.13)\n",
    "#     plt.show()"
   ]
  },
  {
   "cell_type": "code",
   "execution_count": 32,
   "id": "a153f979-20e7-4a73-9bdc-4ab4089dda44",
   "metadata": {},
   "outputs": [
    {
     "name": "stdout",
     "output_type": "stream",
     "text": [
      "tensor(0.4708)\n",
      "tensor(0.4240)\n",
      "tensor(0.4362)\n",
      "tensor(0.4984)\n",
      "tensor(0.4859)\n",
      "tensor(0.5182)\n",
      "tensor(0.5042)\n",
      "tensor(0.4816)\n"
     ]
    },
    {
     "data": {
      "text/html": [
       "<div>\n",
       "<style scoped>\n",
       "    .dataframe tbody tr th:only-of-type {\n",
       "        vertical-align: middle;\n",
       "    }\n",
       "\n",
       "    .dataframe tbody tr th {\n",
       "        vertical-align: top;\n",
       "    }\n",
       "\n",
       "    .dataframe thead th {\n",
       "        text-align: right;\n",
       "    }\n",
       "</style>\n",
       "<table border=\"1\" class=\"dataframe\">\n",
       "  <thead>\n",
       "    <tr style=\"text-align: right;\">\n",
       "      <th></th>\n",
       "      <th>x</th>\n",
       "      <th>g</th>\n",
       "      <th>Steps in Sequence</th>\n",
       "    </tr>\n",
       "  </thead>\n",
       "  <tbody>\n",
       "    <tr>\n",
       "      <th>0</th>\n",
       "      <td>0.000098</td>\n",
       "      <td>In my opinion ...</td>\n",
       "      <td>1</td>\n",
       "    </tr>\n",
       "    <tr>\n",
       "      <th>1</th>\n",
       "      <td>0.003496</td>\n",
       "      <td>In my opinion ...</td>\n",
       "      <td>2</td>\n",
       "    </tr>\n",
       "    <tr>\n",
       "      <th>2</th>\n",
       "      <td>0.004521</td>\n",
       "      <td>In my opinion ...</td>\n",
       "      <td>3</td>\n",
       "    </tr>\n",
       "    <tr>\n",
       "      <th>3</th>\n",
       "      <td>0.009170</td>\n",
       "      <td>In my opinion ...</td>\n",
       "      <td>4</td>\n",
       "    </tr>\n",
       "    <tr>\n",
       "      <th>4</th>\n",
       "      <td>0.009814</td>\n",
       "      <td>In my opinion ...</td>\n",
       "      <td>5</td>\n",
       "    </tr>\n",
       "  </tbody>\n",
       "</table>\n",
       "</div>"
      ],
      "text/plain": [
       "          x                   g  Steps in Sequence\n",
       "0  0.000098  In my opinion ...                   1\n",
       "1  0.003496  In my opinion ...                   2\n",
       "2  0.004521  In my opinion ...                   3\n",
       "3  0.009170  In my opinion ...                   4\n",
       "4  0.009814  In my opinion ...                   5"
      ]
     },
     "execution_count": 32,
     "metadata": {},
     "output_type": "execute_result"
    }
   ],
   "source": [
    "df_list = []\n",
    "for i in range(df.shape[0]):\n",
    "    print(df[i].sum())\n",
    "    tdf = pd.DataFrame(df[i].sum(dim=-1).numpy())\n",
    "    tdf['label'] = ref[i]\n",
    "    tdf['step'] = list(range(1,32,1))\n",
    "    df_list.append(tdf)\n",
    "    # print(df[0].shape)\n",
    "fdf = pd.concat(df_list,axis=0)\n",
    "# fdf['step'] -= 0\n",
    "# fdf[fdf.step == 0] = 0\n",
    "fdf.shape\n",
    "# fdf = fdf[fdf.step < 15]\n",
    "fdf.columns = ['x','g','Steps in Sequence']\n",
    "fdf.head()"
   ]
  },
  {
   "cell_type": "code",
   "execution_count": 35,
   "id": "f07f30a0-1f1e-407f-9688-f4f2e0cf5c69",
   "metadata": {},
   "outputs": [],
   "source": [
    "fdf.to_csv(\"gpt2_flashy_queries.csv\",index=None)"
   ]
  },
  {
   "cell_type": "code",
   "execution_count": 33,
   "id": "92c80b2f-8a21-4dcd-bb53-f251f310f6e4",
   "metadata": {},
   "outputs": [
    {
     "name": "stderr",
     "output_type": "stream",
     "text": [
      "/home/showalte/.conda/envs/nlpenv/lib/python3.8/site-packages/seaborn/axisgrid.py:670: UserWarning: Using the barplot function without specifying `order` is likely to produce an incorrect plot.\n",
      "  warnings.warn(warning)\n"
     ]
    },
    {
     "data": {
      "text/plain": [
       "<seaborn.axisgrid.FacetGrid at 0x7f54f6a7af10>"
      ]
     },
     "execution_count": 33,
     "metadata": {},
     "output_type": "execute_result"
    },
    {
     "data": {
      "image/png": "[encoded data removed]",
      "text/plain": [
       "<Figure size 576x460.8 with 8 Axes>"
      ]
     },
     "metadata": {},
     "output_type": "display_data"
    }
   ],
   "source": [
    "import numpy as np\n",
    "import pandas as pd\n",
    "import seaborn as sns\n",
    "import matplotlib.pyplot as plt\n",
    "sns.set_theme(style=\"white\", rc={\"axes.facecolor\": (0, 0, 0, 0)})\n",
    "\n",
    "# # Create the data\n",
    "# rs = np.random.RandomState(1979)\n",
    "# x = rs.randn(500)\n",
    "# g = np.tile(list(\"ABCDEFGHIJ\"), 50)\n",
    "# df = pd.DataFrame(dict(x=x, g=g))\n",
    "# m = df.g.map(ord)\n",
    "# print(df.head())\n",
    "# df[\"x\"] += m\n",
    "\n",
    "# Initialize the FacetGrid object\n",
    "pal = sns.cubehelix_palette(7, rot=-.25, light=.7)\n",
    "g = sns.FacetGrid(fdf, row=\"g\", hue=\"g\", aspect=10, sharey=True,ylim=(0,0.11), height=0.8, palette=pal)\n",
    "\n",
    "# Draw the densities in a few steps\n",
    "g.map(sns.barplot,'Steps in Sequence','x',\n",
    "      fill=True, alpha=1, linewidth=0.5)\n",
    "# g.map(sns.kdeplot, \"x\", clip_on=False, color=\"w\", lw=2, bw_adjust=.5)\n",
    "\n",
    "# passing color=None to refline() uses the hue mapping\n",
    "g.refline(y=0, linewidth=2, linestyle=\"-\", color=None, clip_on=False)\n",
    "\n",
    "\n",
    "# Define and use a simple function to label the plot in axes coordinates\n",
    "def label(x, color, label):\n",
    "    ax = plt.gca()\n",
    "    ax.text(0, .8, label, fontweight=\"bold\", color=color,\n",
    "            ha=\"left\", va=\"center\", transform=ax.transAxes)\n",
    "\n",
    "\n",
    "g.map(label, \"x\")\n",
    "\n",
    "# Set the subplots to overlap\n",
    "g.figure.subplots_adjust(hspace=.03)\n",
    "\n",
    "# Remove axes details that don't play well with overlap\n",
    "g.set_titles(\"\")\n",
    "g.set(yticks=[], ylabel=\"\")\n",
    "# supxlabel(\"Steps\")\n",
    "g.despine(bottom=True, left=True)"
   ]
  },
  {
   "cell_type": "markdown",
   "id": "19754679-0e1a-4177-91a0-40649487dacf",
   "metadata": {},
   "source": [
    "## Flashy Apps"
   ]
  },
  {
   "cell_type": "code",
   "execution_count": 299,
   "id": "a2ff843c-5239-4cae-8e15-5b1d729bcf94",
   "metadata": {},
   "outputs": [],
   "source": [
    "path = \"../data/flashy/flashy_apps/val_dl/num_val-dl_flashy_apps_flashy_10000mc.pkl\"\n",
    "data = read_pkl(path)\n",
    "\n",
    "a_den = \"../data/flashy/flashy_apps/val_dl/a_den_val-dl_flashy_apps_flashy_10000mc.pkl\"\n",
    "a_den = read_pkl(a_den)['intermediate_query_probs'].sum(dim=1)\n",
    "b_den = \"../data/flashy/flashy_apps/val_dl/b_den_val-dl_flashy_apps_flashy_10000mc.pkl\"\n",
    "b_den = read_pkl(b_den)['intermediate_query_probs'].sum(dim=1)"
   ]
  },
  {
   "cell_type": "code",
   "execution_count": 290,
   "id": "a7915497-1032-41eb-90d9-2247c4fe5e24",
   "metadata": {},
   "outputs": [],
   "source": [
    "# print(data['intermediate_query_probs'].shape)\n",
    "# data = torch.LongTensor(samples).unsqueeze(-1)\n",
    "# print(data)\n",
    "# data = data.expand(9,16)\n",
    "# data.shape"
   ]
  },
  {
   "cell_type": "code",
   "execution_count": 291,
   "id": "6a7b93be-3eb5-409b-9394-f874429223b1",
   "metadata": {},
   "outputs": [
    {
     "name": "stdout",
     "output_type": "stream",
     "text": [
      "tensor(24)\n",
      "tensor(87)\n",
      "tensor(0)\n",
      "tensor(49)\n",
      "tensor(78)\n",
      "tensor(56)\n",
      "tensor(54)\n"
     ]
    }
   ],
   "source": [
    "for i in range(iqp.shape[0]):\n",
    "    print(torch.argmax(iqp[i]))"
   ]
  },
  {
   "cell_type": "code",
   "execution_count": 292,
   "id": "18659ef1-fb69-4adf-9817-9d2fc92e4b17",
   "metadata": {},
   "outputs": [
    {
     "data": {
      "text/plain": [
       "<BarContainer object of 88 artists>"
      ]
     },
     "execution_count": 292,
     "metadata": {},
     "output_type": "execute_result"
    },
    {
     "data": {
      "image/png": "[encoded data removed]",
      "text/plain": [
       "<Figure size 432x288 with 1 Axes>"
      ]
     },
     "metadata": {
      "needs_background": "light"
     },
     "output_type": "display_data"
    }
   ],
   "source": [
    "plt.bar(range(iqp.shape[-1]), iqp[0])"
   ]
  },
  {
   "cell_type": "code",
   "execution_count": 293,
   "id": "998a08de-ff2e-495c-a815-5cc8684dc3f2",
   "metadata": {},
   "outputs": [],
   "source": [
    "last_two_high_social_low_comms = [[57, 34, 19, 52, 52, 34, 52, 19, 19, 34],\n",
    " [57, 55, 67, 57, 47, 19, 47, 57, 67, 67]]\n",
    "mid_two = [[57, 19, 52, 34, 52, 14, 81, 44, 51, 60],\n",
    " [81, 44, 40, 81, 73, 52, 57, 55, 33, 57],]\n",
    "\n",
    "high_comm_low_social =[[40, 73, 40, 82, 60, 40, 51, 82, 40, 79],[81, 16, 3, 79, 3, 41, 74, 44, 30, 74]] "
   ]
  },
  {
   "cell_type": "code",
   "execution_count": 294,
   "id": "29b83420-3ca7-42da-bee5-1775bf805222",
   "metadata": {},
   "outputs": [
    {
     "data": {
      "text/plain": [
       "[[40, 73, 40, 82, 60, 40, 51, 82, 40, 79],\n",
       " [81, 16, 3, 79, 3, 41, 74, 44, 30, 74],\n",
       " [34, 47, 67, 18, 81, 74, 16, 41, 16, 74],\n",
       " [57, 19, 52, 34, 52, 14, 81, 44, 51, 60],\n",
       " [81, 44, 40, 81, 73, 52, 57, 55, 33, 57],\n",
       " [57, 34, 19, 52, 52, 34, 52, 19, 19, 34],\n",
       " [57, 55, 67, 57, 47, 19, 47, 57, 67, 67]]"
      ]
     },
     "execution_count": 294,
     "metadata": {},
     "output_type": "execute_result"
    }
   ],
   "source": [
    "data['metadata']['text_dict']['samples']"
   ]
  },
  {
   "cell_type": "code",
   "execution_count": 295,
   "id": "2468f4c3-f5fe-4df1-8992-b9866eb77685",
   "metadata": {},
   "outputs": [],
   "source": [
    "social_media = data['metadata']['text_dict']['social_media']\n",
    "comms = data['metadata']['text_dict']['comms']"
   ]
  },
  {
   "cell_type": "code",
   "execution_count": 300,
   "id": "01515c35-9faa-49d1-bd2d-5492d572fc61",
   "metadata": {},
   "outputs": [
    {
     "name": "stdout",
     "output_type": "stream",
     "text": [
      "torch.Size([7, 88])\n"
     ]
    }
   ],
   "source": [
    "# samples = [45,85,47,31,8,65,67,9,57]\n",
    "# lst = ['Mine','youtube','netflix','hulu','calculator','settings','snapchat','calendar','reddit']\n",
    "# a_b = torch.gather(iqp,-1,\n",
    "#                     torch.LongTensor(social_media).unsqueeze(0).expand((iqp.shape[0],iqp.shape[1],len(social_media))))\n",
    "# b_a = torch.gather(iqp,-1,\n",
    "#                     torch.LongTensor(comms).unsqueeze(0).expand((iqp.shape[0],iqp.shape[1],len(comms))))\n",
    "iqp = data['intermediate_query_probs']\n",
    "iqp = iqp.sum(dim=1)\n",
    "print(iqp.shape)\n",
    "a_b = iqp[:,social_media].sum(dim=-1)/a_den[:,social_media].sum(dim=-1)\n",
    "b_a = iqp[:,comms].sum(dim=-1)/b_den[:,comms].sum(dim=-1)"
   ]
  },
  {
   "cell_type": "code",
   "execution_count": 301,
   "id": "c46cc5d0-d970-46c6-a680-d9121839eb28",
   "metadata": {},
   "outputs": [
    {
     "data": {
      "text/plain": [
       "<BarContainer object of 7 artists>"
      ]
     },
     "execution_count": 301,
     "metadata": {},
     "output_type": "execute_result"
    },
    {
     "data": {
      "image/png": "[encoded data removed]",
      "text/plain": [
       "<Figure size 432x288 with 1 Axes>"
      ]
     },
     "metadata": {
      "needs_background": "light"
     },
     "output_type": "display_data"
    }
   ],
   "source": [
    "plt.bar(range(a_b.shape[0]),a_b,alpha=0.5)\n",
    "plt.bar(range(a_b.shape[0]),b_a,alpha=0.5)"
   ]
  },
  {
   "cell_type": "code",
   "execution_count": 298,
   "id": "f79ab319-6302-4abf-a34a-8cfd0281f5f6",
   "metadata": {},
   "outputs": [
    {
     "data": {
      "text/plain": [
       "[<matplotlib.lines.Line2D at 0x7f3620d06280>]"
      ]
     },
     "execution_count": 298,
     "metadata": {},
     "output_type": "execute_result"
    },
    {
     "data": {
      "image/png": "[encoded data removed]",
      "text/plain": [
       "<Figure size 432x288 with 1 Axes>"
      ]
     },
     "metadata": {
      "needs_background": "light"
     },
     "output_type": "display_data"
    }
   ],
   "source": [
    "plt.plot(b_a)"
   ]
  },
  {
   "cell_type": "code",
   "execution_count": 39,
   "id": "25bf626f-9ef8-4b29-a772-ed0eb55ac6dd",
   "metadata": {},
   "outputs": [],
   "source": [
    "labels = ['s','s','s7p3','s5p5','s3p7','p','p']\n",
    "def flatten(tensor,labels):\n",
    "    df_list = []\n",
    "    for i in range(tensor.shape[0]):\n",
    "        tdf = pd.DataFrame(tensor[i].numpy())\n",
    "        tdf['label'] = labels[i]\n",
    "        tdf['step'] = list(range(1,tensor.shape[1]+1,1))\n",
    "        df_list.append(tdf)\n",
    "        # print(df[0].shape)\n",
    "    df = pd.concat(df_list,axis=0)\n",
    "    return df"
   ]
  },
  {
   "cell_type": "code",
   "execution_count": 41,
   "id": "e7ee02b3-5b6a-4ae6-991d-2732a98d1148",
   "metadata": {},
   "outputs": [
    {
     "data": {
      "text/plain": [
       "(147, 3)"
      ]
     },
     "execution_count": 41,
     "metadata": {},
     "output_type": "execute_result"
    }
   ],
   "source": [
    "df = flatten(a_b,labels)\n",
    "df.shape"
   ]
  },
  {
   "cell_type": "code",
   "execution_count": 45,
   "id": "a7b5e9f1-3911-416f-9af3-41d56a2d913a",
   "metadata": {},
   "outputs": [],
   "source": [
    "# fdf['step'] -= 0\n",
    "# fdf[fdf.step == 0] = 0\n",
    "df.columns = ['x','g','y']\n",
    "# fdf['x'] = np.log(fdf.x + 1e-5)\n",
    "df.head()\n",
    "fdf=df"
   ]
  },
  {
   "cell_type": "code",
   "execution_count": null,
   "id": "736c79d9-54ac-4264-841e-83582631d8d9",
   "metadata": {},
   "outputs": [],
   "source": []
  },
  {
   "cell_type": "code",
   "execution_count": null,
   "id": "e08412d8-b355-4ad4-9cf9-f8cb25b991a7",
   "metadata": {},
   "outputs": [],
   "source": []
  },
  {
   "cell_type": "code",
   "execution_count": 46,
   "id": "defcbc2d-6e2c-4627-aaf8-41865078ecfa",
   "metadata": {},
   "outputs": [
    {
     "name": "stderr",
     "output_type": "stream",
     "text": [
      "/home/showalte/.conda/envs/nlpenv/lib/python3.8/site-packages/seaborn/axisgrid.py:670: UserWarning: Using the barplot function without specifying `order` is likely to produce an incorrect plot.\n",
      "  warnings.warn(warning)\n"
     ]
    },
    {
     "data": {
      "text/plain": [
       "<seaborn.axisgrid.FacetGrid at 0x7f3622ec2130>"
      ]
     },
     "execution_count": 46,
     "metadata": {},
     "output_type": "execute_result"
    },
    {
     "data": {
      "image/png": "[encoded data removed]",
      "text/plain": [
       "<Figure size 576x288 with 5 Axes>"
      ]
     },
     "metadata": {
      "needs_background": "light"
     },
     "output_type": "display_data"
    }
   ],
   "source": [
    "# Initialize the FacetGrid object\n",
    "pal = sns.cubehelix_palette(9, rot=-.25, light=.7)\n",
    "g = sns.FacetGrid(fdf, row=\"g\", hue=\"g\", aspect=10, sharey=True, height=0.8, palette=pal)\n",
    "\n",
    "# Draw the densities in a few steps\n",
    "g.map(sns.barplot,'y','x',\n",
    "      fill=True, alpha=1, linewidth=0.5)\n",
    "# g.map(sns.kdeplot, \"x\", clip_on=False, color=\"w\", lw=2, bw_adjust=.5)\n",
    "\n",
    "# passing color=None to refline() uses the hue mapping\n",
    "g.refline(y=0, linewidth=2, linestyle=\"-\", color=None, clip_on=False)\n",
    "\n",
    "\n",
    "# Define and use a simple function to label the plot in axes coordinates\n",
    "def label(x, color, label):\n",
    "    ax = plt.gca()\n",
    "    ax.text(0, .8, label, fontweight=\"bold\", color=color,\n",
    "            ha=\"left\", va=\"center\", transform=ax.transAxes)\n",
    "\n",
    "\n",
    "g.map(label, \"x\")\n",
    "\n",
    "# Set the subplots to overlap\n",
    "g.figure.subplots_adjust(hspace=.03)\n",
    "\n",
    "# Remove axes details that don't play well with overlap\n",
    "g.set_titles(\"\")\n",
    "g.set(yticks=[], ylabel=\"\")\n",
    "# supxlabel(\"Steps\")\n",
    "g.despine(bottom=True, left=True)"
   ]
  },
  {
   "cell_type": "code",
   "execution_count": null,
   "id": "26aa2662-382f-47ad-bdfb-8aa4a0d50393",
   "metadata": {},
   "outputs": [],
   "source": []
  },
  {
   "cell_type": "code",
   "execution_count": null,
   "id": "eef05ab6-ca03-4c24-80c8-4fc9efffb5cf",
   "metadata": {},
   "outputs": [],
   "source": []
  }
 ],
 "metadata": {
  "kernelspec": {
   "display_name": "nlp_env",
   "language": "python",
   "name": "nlpenv"
  },
  "language_info": {
   "codemirror_mode": {
    "name": "ipython",
    "version": 3
   },
   "file_extension": ".py",
   "mimetype": "text/x-python",
   "name": "python",
   "nbconvert_exporter": "python",
   "pygments_lexer": "ipython3",
   "version": "3.8.8"
  }
 },
 "nbformat": 4,
 "nbformat_minor": 5
}
