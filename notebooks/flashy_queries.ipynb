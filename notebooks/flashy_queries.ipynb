{
 "cells": [
  {
   "cell_type": "code",
   "execution_count": 1,
   "id": "12a58f13-38b6-4892-b8da-5489d58f3305",
   "metadata": {},
   "outputs": [],
   "source": [
    "%load_ext autoreload\n",
    "%autoreload 2\n",
    "import matplotlib.pyplot as plt\n",
    "import seaborn as sns\n",
    "import os\n",
    "import pandas as pd\n",
    "import sys\n",
    "import numpy as np\n",
    "import glob\n",
    "import torch\n",
    "\n",
    "sys.path.insert(1,\"/home/showalte/research/prob_seq_queries/\")\n",
    "from seq_queries.utils import read_pkl, write_pkl"
   ]
  },
  {
   "cell_type": "code",
   "execution_count": 2,
   "id": "19ff0225-8e38-43b3-b0d3-ebf38852ee07",
   "metadata": {},
   "outputs": [],
   "source": [
    "ref = [\n",
    "    \"In my opinion ... \",\n",
    "    \"with that said ...\",\n",
    "    \"in other words ...\",\n",
    "    \"            go ... \",\n",
    "    \"Hi, my name is ... \",\n",
    "    \"                    Where is ... \",\n",
    "    \"Once upon a ...\",\n",
    "    \"I wish ...\",\n",
    "]\n",
    "    \n",
    "    "
   ]
  },
  {
   "cell_type": "code",
   "execution_count": 36,
   "id": "5b7e2dff-2ebc-408e-a507-f7df94c585bc",
   "metadata": {},
   "outputs": [],
   "source": [
    "path = \"../data/flashy/flashy_gpt2/val_dl/final_val-dl_flashy_gpt2_flashy_1000mc.pkl\"\n",
    "data = read_pkl(path)"
   ]
  },
  {
   "cell_type": "code",
   "execution_count": 37,
   "id": "0a384205-b91d-40d4-8ed2-49f93d706089",
   "metadata": {},
   "outputs": [
    {
     "ename": "KeyError",
     "evalue": "'samples'",
     "output_type": "error",
     "traceback": [
      "\u001b[0;31m---------------------------------------------------------------------------\u001b[0m",
      "\u001b[0;31mKeyError\u001b[0m                                  Traceback (most recent call last)",
      "\u001b[0;32m<ipython-input-37-dc8427696721>\u001b[0m in \u001b[0;36m<module>\u001b[0;34m\u001b[0m\n\u001b[0;32m----> 1\u001b[0;31m \u001b[0msamples\u001b[0m \u001b[0;34m=\u001b[0m \u001b[0mdata\u001b[0m\u001b[0;34m[\u001b[0m\u001b[0;34m'samples'\u001b[0m\u001b[0;34m]\u001b[0m\u001b[0;34m\u001b[0m\u001b[0;34m\u001b[0m\u001b[0m\n\u001b[0m",
      "\u001b[0;31mKeyError\u001b[0m: 'samples'"
     ]
    }
   ],
   "source": [
    "samples = data['samples']"
   ]
  },
  {
   "cell_type": "code",
   "execution_count": null,
   "id": "5e015662-a0e7-449d-be9f-724229cd2898",
   "metadata": {},
   "outputs": [],
   "source": []
  },
  {
   "cell_type": "code",
   "execution_count": 18,
   "id": "4a79e589-630f-48b7-9243-81d4edbfb920",
   "metadata": {},
   "outputs": [
    {
     "ename": "AttributeError",
     "evalue": "'torch.Size' object has no attribute 'long'",
     "output_type": "error",
     "traceback": [
      "\u001b[0;31m---------------------------------------------------------------------------\u001b[0m",
      "\u001b[0;31mAttributeError\u001b[0m                            Traceback (most recent call last)",
      "\u001b[0;32m<ipython-input-18-8d4e96d0c882>\u001b[0m in \u001b[0;36m<module>\u001b[0;34m\u001b[0m\n\u001b[0;32m----> 1\u001b[0;31m \u001b[0;34m(\u001b[0m\u001b[0msamples\u001b[0m\u001b[0;34m.\u001b[0m\u001b[0mlong\u001b[0m\u001b[0;34m(\u001b[0m\u001b[0;34m)\u001b[0m \u001b[0;34m==\u001b[0m \u001b[0mt\u001b[0m\u001b[0;34m)\u001b[0m\u001b[0;34m.\u001b[0m\u001b[0mshape\u001b[0m\u001b[0;34m\u001b[0m\u001b[0;34m\u001b[0m\u001b[0m\n\u001b[0m",
      "\u001b[0;31mAttributeError\u001b[0m: 'torch.Size' object has no attribute 'long'"
     ]
    }
   ],
   "source": [
    "(samples.long() == t)"
   ]
  },
  {
   "cell_type": "code",
   "execution_count": 22,
   "id": "25fec10e-f1b2-48a9-b675-03e458314368",
   "metadata": {},
   "outputs": [
    {
     "data": {
      "text/plain": [
       "tensor([ 872,  722,  768, 1186, 1046, 1167,  936,  902])"
      ]
     },
     "execution_count": 22,
     "metadata": {},
     "output_type": "execute_result"
    }
   ],
   "source": []
  },
  {
   "cell_type": "code",
   "execution_count": 25,
   "id": "3f309e3a-f921-4094-9876-7cae0235f1e2",
   "metadata": {},
   "outputs": [
    {
     "data": {
      "text/plain": [
       "torch.Size([8, 1000])"
      ]
     },
     "execution_count": 25,
     "metadata": {},
     "output_type": "execute_result"
    }
   ],
   "source": [
    "check[check.sum(dim=-1)].shape"
   ]
  },
  {
   "cell_type": "code",
   "execution_count": 20,
   "id": "e2c3ca32-7667-4510-8a6b-bbde13c9b6ce",
   "metadata": {},
   "outputs": [
    {
     "name": "stdout",
     "output_type": "stream",
     "text": [
      "tensor(1)\n"
     ]
    },
    {
     "data": {
      "text/plain": [
       "torch.Size([8, 1000, 30])"
      ]
     },
     "execution_count": 20,
     "metadata": {},
     "output_type": "execute_result"
    }
   ],
   "source": [
    "terms = [30,13,0,26]\n",
    "check = torch.stack([(samples ==t) for t in terms],dim=0).any(dim=0).long()\n",
    "print(check.max())\n",
    "check.shape"
   ]
  },
  {
   "cell_type": "code",
   "execution_count": 24,
   "id": "77be934e-1133-4550-abc7-c8b45657f625",
   "metadata": {},
   "outputs": [
    {
     "data": {
      "text/plain": [
       "torch.Size([5075])"
      ]
     },
     "execution_count": 24,
     "metadata": {},
     "output_type": "execute_result"
    }
   ],
   "source": [
    "first_ind = torch.argmax(check[check.sum(dim=-1) > 0],dim=-1)\n",
    "first_ind.shape"
   ]
  },
  {
   "cell_type": "code",
   "execution_count": null,
   "id": "42948461-35ed-49a8-b519-0c53a75b95b8",
   "metadata": {},
   "outputs": [],
   "source": []
  },
  {
   "cell_type": "code",
   "execution_count": 6,
   "id": "80216053-5980-45fc-8047-4b1337ebe0b5",
   "metadata": {},
   "outputs": [],
   "source": [
    "data_dict = {\"ref\": ref,\n",
    "             \"samples\":data['samples'],\n",
    "             \"target_terms\":[30,13,0,26],\n",
    "            }\n",
    "write_pkl(data_dict,\"frequentist-ablation_samples.pkl\")"
   ]
  },
  {
   "cell_type": "code",
   "execution_count": 38,
   "id": "3f0150e3-42b5-46a7-9758-dd4420fcc060",
   "metadata": {},
   "outputs": [
    {
     "data": {
      "text/plain": [
       "torch.Size([8, 31, 50257])"
      ]
     },
     "execution_count": 38,
     "metadata": {},
     "output_type": "execute_result"
    }
   ],
   "source": [
    "data['intermediate_query_probs'].shape"
   ]
  },
  {
   "cell_type": "code",
   "execution_count": 39,
   "id": "0cf7c3f5-204c-4fd9-9057-2f2787936123",
   "metadata": {},
   "outputs": [],
   "source": [
    "# print(data.keys())\n",
    "df = data['intermediate_query_probs'][:,:,[30,13,0,26]].sum(dim=-1)"
   ]
  },
  {
   "cell_type": "code",
   "execution_count": 29,
   "id": "705a6844-1a53-4933-a3bf-1ee43fb0298a",
   "metadata": {},
   "outputs": [],
   "source": [
    "# pd.DataFrame(cdf.numpy()).to_csv('frequentist_counts_gpt-2.csv',index=None)"
   ]
  },
  {
   "cell_type": "code",
   "execution_count": 44,
   "id": "d69eb8c8-9890-4905-97f8-c1f35fdcc244",
   "metadata": {},
   "outputs": [
    {
     "data": {
      "text/plain": [
       "torch.Size([8, 31])"
      ]
     },
     "execution_count": 44,
     "metadata": {},
     "output_type": "execute_result"
    }
   ],
   "source": [
    "df.shape"
   ]
  },
  {
   "cell_type": "code",
   "execution_count": 45,
   "id": "d0361545-ab6c-4621-824e-23e54ea0d9a8",
   "metadata": {},
   "outputs": [],
   "source": [
    "# print(\n",
    "write_pkl(df,\"BEST_gpt_flashy.pkl\")"
   ]
  },
  {
   "cell_type": "code",
   "execution_count": 830,
   "id": "a1c3c89c-b914-4f8c-975f-2b68ed55efd6",
   "metadata": {},
   "outputs": [
    {
     "name": "stdout",
     "output_type": "stream",
     "text": [
      "sample_estimates torch.Size([8, 3, 50257])\n",
      "sample_estimate_var torch.Size([8, 31])\n",
      "sample_estimate_mean torch.Size([8, 0])\n",
      "entropy_probs torch.Size([8, 31])\n",
      "model_iters torch.Size([8, 3])\n",
      "num_mc_samples torch.Size([8, 3])\n",
      "intermediate_query_probs torch.Size([8, 31, 50257])\n",
      "sample_counts torch.Size([8, 0])\n"
     ]
    },
    {
     "ename": "AttributeError",
     "evalue": "'dict' object has no attribute 'shape'",
     "output_type": "error",
     "traceback": [
      "\u001b[0;31m---------------------------------------------------------------------------\u001b[0m",
      "\u001b[0;31mAttributeError\u001b[0m                            Traceback (most recent call last)",
      "\u001b[0;32m<ipython-input-830-47830f0cc59e>\u001b[0m in \u001b[0;36m<module>\u001b[0;34m\u001b[0m\n\u001b[1;32m      2\u001b[0m \u001b[0;31m# cdf = cdf/cdf.sum(dim=-1).unsqueeze(-1)\u001b[0m\u001b[0;34m\u001b[0m\u001b[0;34m\u001b[0m\u001b[0;34m\u001b[0m\u001b[0m\n\u001b[1;32m      3\u001b[0m \u001b[0;32mfor\u001b[0m \u001b[0mk\u001b[0m\u001b[0;34m,\u001b[0m\u001b[0mv\u001b[0m \u001b[0;32min\u001b[0m \u001b[0mdata\u001b[0m\u001b[0;34m.\u001b[0m\u001b[0mitems\u001b[0m\u001b[0;34m(\u001b[0m\u001b[0;34m)\u001b[0m\u001b[0;34m:\u001b[0m\u001b[0;34m\u001b[0m\u001b[0;34m\u001b[0m\u001b[0m\n\u001b[0;32m----> 4\u001b[0;31m     \u001b[0mprint\u001b[0m\u001b[0;34m(\u001b[0m\u001b[0mk\u001b[0m\u001b[0;34m,\u001b[0m\u001b[0mv\u001b[0m\u001b[0;34m.\u001b[0m\u001b[0mshape\u001b[0m\u001b[0;34m)\u001b[0m\u001b[0;34m\u001b[0m\u001b[0;34m\u001b[0m\u001b[0m\n\u001b[0m",
      "\u001b[0;31mAttributeError\u001b[0m: 'dict' object has no attribute 'shape'"
     ]
    }
   ],
   "source": [
    "# cdf = data['sample_counts']\n",
    "# cdf = cdf/cdf.sum(dim=-1).unsqueeze(-1)\n",
    "for k,v in data.items():\n",
    "    print(k,v.shape)"
   ]
  },
  {
   "cell_type": "code",
   "execution_count": 32,
   "id": "088c5d93-2590-426a-96d2-d845993fb080",
   "metadata": {},
   "outputs": [
    {
     "ename": "AttributeError",
     "evalue": "'Tensor' object has no attribute 'head'",
     "output_type": "error",
     "traceback": [
      "\u001b[0;31m---------------------------------------------------------------------------\u001b[0m",
      "\u001b[0;31mAttributeError\u001b[0m                            Traceback (most recent call last)",
      "\u001b[0;32m<ipython-input-32-c42a15b2c7cf>\u001b[0m in \u001b[0;36m<module>\u001b[0;34m\u001b[0m\n\u001b[0;32m----> 1\u001b[0;31m \u001b[0mdf\u001b[0m\u001b[0;34m.\u001b[0m\u001b[0mhead\u001b[0m\u001b[0;34m(\u001b[0m\u001b[0;34m)\u001b[0m\u001b[0;34m\u001b[0m\u001b[0;34m\u001b[0m\u001b[0m\n\u001b[0m",
      "\u001b[0;31mAttributeError\u001b[0m: 'Tensor' object has no attribute 'head'"
     ]
    }
   ],
   "source": [
    "df.head()"
   ]
  },
  {
   "cell_type": "code",
   "execution_count": 33,
   "id": "60b3ba86-d853-41d8-9d31-c3ba0fcf3f00",
   "metadata": {},
   "outputs": [],
   "source": [
    "# cdf.shapec\n",
    "df.shape\n",
    "write_pkl(df,\"query_probability_tensor.pkl\")"
   ]
  },
  {
   "cell_type": "code",
   "execution_count": 30,
   "id": "d4b1e231-7eb9-4b56-9848-5fe4ab6060c4",
   "metadata": {},
   "outputs": [
    {
     "data": {
      "text/html": [
       "<div>\n",
       "<style scoped>\n",
       "    .dataframe tbody tr th:only-of-type {\n",
       "        vertical-align: middle;\n",
       "    }\n",
       "\n",
       "    .dataframe tbody tr th {\n",
       "        vertical-align: top;\n",
       "    }\n",
       "\n",
       "    .dataframe thead th {\n",
       "        text-align: right;\n",
       "    }\n",
       "</style>\n",
       "<table border=\"1\" class=\"dataframe\">\n",
       "  <thead>\n",
       "    <tr style=\"text-align: right;\">\n",
       "      <th></th>\n",
       "      <th>x</th>\n",
       "      <th>g</th>\n",
       "      <th>Steps in Sequence</th>\n",
       "    </tr>\n",
       "  </thead>\n",
       "  <tbody>\n",
       "    <tr>\n",
       "      <th>0</th>\n",
       "      <td>0.000098</td>\n",
       "      <td>In my opinion ...</td>\n",
       "      <td>1</td>\n",
       "    </tr>\n",
       "    <tr>\n",
       "      <th>1</th>\n",
       "      <td>0.003687</td>\n",
       "      <td>In my opinion ...</td>\n",
       "      <td>2</td>\n",
       "    </tr>\n",
       "    <tr>\n",
       "      <th>2</th>\n",
       "      <td>0.004857</td>\n",
       "      <td>In my opinion ...</td>\n",
       "      <td>3</td>\n",
       "    </tr>\n",
       "    <tr>\n",
       "      <th>3</th>\n",
       "      <td>0.011724</td>\n",
       "      <td>In my opinion ...</td>\n",
       "      <td>4</td>\n",
       "    </tr>\n",
       "    <tr>\n",
       "      <th>4</th>\n",
       "      <td>0.012300</td>\n",
       "      <td>In my opinion ...</td>\n",
       "      <td>5</td>\n",
       "    </tr>\n",
       "  </tbody>\n",
       "</table>\n",
       "</div>"
      ],
      "text/plain": [
       "          x                   g  Steps in Sequence\n",
       "0  0.000098  In my opinion ...                   1\n",
       "1  0.003687  In my opinion ...                   2\n",
       "2  0.004857  In my opinion ...                   3\n",
       "3  0.011724  In my opinion ...                   4\n",
       "4  0.012300  In my opinion ...                   5"
      ]
     },
     "execution_count": 30,
     "metadata": {},
     "output_type": "execute_result"
    }
   ],
   "source": [
    "df_list = []\n",
    "# df = cdf\n",
    "for i in range(df.shape[0]):\n",
    "    tdf = pd.DataFrame(df[i].numpy())\n",
    "    tdf['label'] = ref[i]\n",
    "    tdf['step'] = list(range(1,31+1,1))\n",
    "    # print(tdf.head())\n",
    "    df_list.append(tdf)\n",
    "    # print(df[0].shape)\n",
    "fdf = pd.concat(df_list,axis=0)\n",
    "# fdf['step'] -= 0\n",
    "# fdf[fdf.step == 0] = 0\n",
    "fdf.shape\n",
    "# fdf = fdf[fdf.step < 15]\n",
    "fdf.columns = ['x','g','Steps in Sequence']\n",
    "fdf.head()"
   ]
  },
  {
   "cell_type": "code",
   "execution_count": 391,
   "id": "cf85ddaa-a5db-4522-91cf-8b7ef1ec637b",
   "metadata": {},
   "outputs": [],
   "source": [
    "# fdf.to_csv(\"frequentist_counts_gpt2.csv\",index=None)"
   ]
  },
  {
   "cell_type": "code",
   "execution_count": 392,
   "id": "20ac002f-08d9-4059-8118-18aa718a3d13",
   "metadata": {},
   "outputs": [],
   "source": [
    "# for i in range(7):\n",
    "#     plt.figure(figsize = (12,8))\n",
    "#     plt.bar(range(21),df[i].sum(dim=-1).numpy(),label=ref[i])\n",
    "#     plt.legend()\n",
    "#     plt.ylim(0,0.13)\n",
    "#     plt.show()"
   ]
  },
  {
   "cell_type": "code",
   "execution_count": 35,
   "id": "30d95cdc-34f8-4c1e-b1a8-85853234ca7f",
   "metadata": {},
   "outputs": [
    {
     "data": {
      "text/plain": [
       "tensor(0.0001)"
      ]
     },
     "execution_count": 35,
     "metadata": {},
     "output_type": "execute_result"
    }
   ],
   "source": [
    "df[4][0]"
   ]
  },
  {
   "cell_type": "code",
   "execution_count": 844,
   "id": "f07f30a0-1f1e-407f-9688-f4f2e0cf5c69",
   "metadata": {},
   "outputs": [],
   "source": [
    "fdf.to_csv(\"gpt2_flashy_queries.csv\",index=None)"
   ]
  },
  {
   "cell_type": "code",
   "execution_count": 31,
   "id": "92c80b2f-8a21-4dcd-bb53-f251f310f6e4",
   "metadata": {},
   "outputs": [
    {
     "name": "stderr",
     "output_type": "stream",
     "text": [
      "/home/showalte/.conda/envs/nlpenv/lib/python3.8/site-packages/seaborn/axisgrid.py:670: UserWarning: Using the barplot function without specifying `order` is likely to produce an incorrect plot.\n",
      "  warnings.warn(warning)\n"
     ]
    },
    {
     "data": {
      "text/plain": [
       "<seaborn.axisgrid.FacetGrid at 0x7f78ae619880>"
      ]
     },
     "execution_count": 31,
     "metadata": {},
     "output_type": "execute_result"
    },
    {
     "data": {
      "image/png": "[encoded data removed]",
      "text/plain": [
       "<Figure size 576x460.8 with 8 Axes>"
      ]
     },
     "metadata": {},
     "output_type": "display_data"
    }
   ],
   "source": [
    "import numpy as np\n",
    "import pandas as pd\n",
    "import seaborn as sns\n",
    "import matplotlib.pyplot as plt\n",
    "sns.set_theme(style=\"white\", rc={\"axes.facecolor\": (0, 0, 0, 0)})\n",
    "\n",
    "# # Create the data\n",
    "# rs = np.random.RandomState(1979)\n",
    "# x = rs.randn(500)\n",
    "# g = np.tile(list(\"ABCDEFGHIJ\"), 50)\n",
    "# df = pd.DataFrame(dict(x=x, g=g))\n",
    "# m = df.g.map(ord)\n",
    "# print(df.head())\n",
    "# df[\"x\"] += m\n",
    "\n",
    "# Initialize the FacetGrid object\n",
    "pal = sns.cubehelix_palette(7, rot=-.25, light=.7)\n",
    "g = sns.FacetGrid(fdf, row=\"g\", hue=\"g\", aspect=10, sharey=True,ylim=(0,0.11), height=0.8, palette=pal)\n",
    "\n",
    "# Draw the densities in a few steps\n",
    "g.map(sns.barplot,'Steps in Sequence','x',\n",
    "      fill=True, alpha=1, linewidth=0.5)\n",
    "# g.map(sns.kdeplot, \"x\", clip_on=False, color=\"w\", lw=2, bw_adjust=.5)\n",
    "\n",
    "# passing color=None to refline() uses the hue mapping\n",
    "g.refline(y=0, linewidth=2, linestyle=\"-\", color=None, clip_on=False)\n",
    "\n",
    "\n",
    "# Define and use a simple function to label the plot in axes coordinates\n",
    "def label(x, color, label):\n",
    "    ax = plt.gca()\n",
    "    ax.text(0, .8, label, fontweight=\"bold\", color=color,\n",
    "            ha=\"left\", va=\"center\", transform=ax.transAxes)\n",
    "\n",
    "\n",
    "g.map(label, \"x\")\n",
    "\n",
    "# Set the subplots to overlap\n",
    "g.figure.subplots_adjust(hspace=.03)\n",
    "\n",
    "# Remove axes details that don't play well with overlap\n",
    "g.set_titles(\"\")\n",
    "g.set(yticks=[], ylabel=\"\")\n",
    "# supxlabel(\"Steps\")\n",
    "g.despine(bottom=True, left=True)"
   ]
  },
  {
   "cell_type": "markdown",
   "id": "19754679-0e1a-4177-91a0-40649487dacf",
   "metadata": {},
   "source": [
    "## Flashy Apps"
   ]
  },
  {
   "cell_type": "code",
   "execution_count": 845,
   "id": "a2ff843c-5239-4cae-8e15-5b1d729bcf94",
   "metadata": {},
   "outputs": [],
   "source": [
    "path = \"../data/flashy/flashy_apps/val_dl/val-dl_flashy_apps_flashy_1000mc.pkl\"\n",
    "data = read_pkl(path)\n",
    "\n",
    "# a_den = \"../data/flashy/flashy_apps/val_dl/a_den_val-dl_flashy_apps_flashy_10000mc.pkl\"\n",
    "# a_den = read_pkl(a_den)['intermediate_query_probs'].sum(dim=1)\n",
    "# b_den = \"../data/flashy/flashy_apps/val_dl/b_den_val-dl_flashy_apps_flashy_10000mc.pkl\"\n",
    "# b_den = read_pkl(b_den)['intermediate_query_probs'].sum(dim=1)"
   ]
  },
  {
   "cell_type": "code",
   "execution_count": 846,
   "id": "a7915497-1032-41eb-90d9-2247c4fe5e24",
   "metadata": {},
   "outputs": [
    {
     "data": {
      "text/plain": [
       "torch.Size([5000, 101, 88])"
      ]
     },
     "execution_count": 846,
     "metadata": {},
     "output_type": "execute_result"
    }
   ],
   "source": [
    "# print(data['intermediate_query_probs'].shape)\n",
    "# data = torch.LongTensor(samples).unsqueeze(-1)\n",
    "# print(data)\n",
    "# data = data.expand(9,16)\n",
    "# data.shape\n",
    "data['intermediate_query_probs'].shape"
   ]
  },
  {
   "cell_type": "code",
   "execution_count": 850,
   "id": "6a7b93be-3eb5-409b-9394-f874429223b1",
   "metadata": {},
   "outputs": [
    {
     "data": {
      "text/plain": [
       "dict_keys(['sample_estimates', 'sample_estimate_var', 'sample_estimate_mean', 'entropy_probs', 'model_iters', 'num_mc_samples', 'intermediate_query_probs', 'sample_counts', 'metadata', 'excluded_terms'])"
      ]
     },
     "execution_count": 850,
     "metadata": {},
     "output_type": "execute_result"
    }
   ],
   "source": [
    "data.keys()\n",
    "# for i in range(iqp.shape[0]):\n",
    "#     print(torch.argmax(iqp[i]))"
   ]
  },
  {
   "cell_type": "code",
   "execution_count": 854,
   "id": "18659ef1-fb69-4adf-9817-9d2fc92e4b17",
   "metadata": {},
   "outputs": [
    {
     "data": {
      "text/plain": [
       "torch.Size([5000, 20])"
      ]
     },
     "execution_count": 854,
     "metadata": {},
     "output_type": "execute_result"
    }
   ],
   "source": [
    "# plt.bar(range(iqp.shape[-1]), iqp[0])\n",
    "samples = torch.LongTensor(data['metadata']['text_dict']['samples'])\n",
    "\n",
    "samples.shape"
   ]
  },
  {
   "cell_type": "code",
   "execution_count": 855,
   "id": "9fd659ae-53ea-4b4b-bf7c-7a83811bb3df",
   "metadata": {},
   "outputs": [],
   "source": [
    "social_media = data['metadata']['text_dict']['social_media']\n",
    "comms = data['metadata']['text_dict']['comms']\n",
    "data_dict = {\"comms\": comms,\n",
    "             \"socials\":social_media,\n",
    "             \"samples\":samples,\n",
    "             \"intermediate_query_probs\":data['intermediate_query_probs'],\n",
    "            }\n",
    "\n",
    "write_pkl(data_dict, \"tau_a-ablation_data_dict.pkl\")"
   ]
  },
  {
   "cell_type": "code",
   "execution_count": 805,
   "id": "29b83420-3ca7-42da-bee5-1775bf805222",
   "metadata": {},
   "outputs": [],
   "source": [
    "samps = data['metadata']['text_dict']['samples']"
   ]
  },
  {
   "cell_type": "code",
   "execution_count": 795,
   "id": "2468f4c3-f5fe-4df1-8992-b9866eb77685",
   "metadata": {},
   "outputs": [
    {
     "data": {
      "text/plain": [
       "[18, 19, 33, 34, 47, 78, 52, 55, 57, 67]"
      ]
     },
     "execution_count": 795,
     "metadata": {},
     "output_type": "execute_result"
    }
   ],
   "source": [
    "\n",
    "comms"
   ]
  },
  {
   "cell_type": "code",
   "execution_count": 856,
   "id": "01515c35-9faa-49d1-bd2d-5492d572fc61",
   "metadata": {},
   "outputs": [
    {
     "name": "stdout",
     "output_type": "stream",
     "text": [
      "torch.Size([5000, 88])\n"
     ]
    }
   ],
   "source": [
    "iqp = data['intermediate_query_probs']\n",
    "iqp = iqp.sum(dim=1)\n",
    "print(iqp.shape)\n",
    "a_b = iqp[...,list(set(social_media))].sum(dim=-1)#/a_den[:,social_media].sum(dim=-1)\n",
    "b_a = iqp[...,list(set(comms))].sum(dim=-1)#/b_den[:,comms].sum(dim=-1)"
   ]
  },
  {
   "cell_type": "code",
   "execution_count": 857,
   "id": "41717ced-b7f7-4ef0-b3f1-18aef2440fa9",
   "metadata": {},
   "outputs": [
    {
     "data": {
      "text/plain": [
       "tensor([ 3, 14, 78, 79, 57, 14, 47, 84, 73, 57, 34, 79, 81,  3, 84, 40, 33, 23,\n",
       "        34, 14])"
      ]
     },
     "execution_count": 857,
     "metadata": {},
     "output_type": "execute_result"
    }
   ],
   "source": [
    "samps[0]"
   ]
  },
  {
   "cell_type": "code",
   "execution_count": 866,
   "id": "772c830d-b9a3-409b-a0f3-545ae0811720",
   "metadata": {},
   "outputs": [
    {
     "data": {
      "text/plain": [
       "tensor([0.0000, 0.0500, 0.1000, 0.1500, 0.2000, 0.2500, 0.3000, 0.3500, 0.4000,\n",
       "        0.4500, 0.5000, 0.5500, 0.6000, 0.6500, 0.7000, 0.7500, 0.8000, 0.8500,\n",
       "        0.9000, 0.9500])"
      ]
     },
     "execution_count": 866,
     "metadata": {},
     "output_type": "execute_result"
    }
   ],
   "source": [
    "comms_counts.unique()"
   ]
  },
  {
   "cell_type": "code",
   "execution_count": 862,
   "id": "5a471a9b-eef7-4ed0-a49f-22c68b1261b4",
   "metadata": {},
   "outputs": [],
   "source": [
    "comms_counts = sum(samples == t for t in social_media).sum(dim=-1)/samples.shape[-1]\n",
    "soc_counts = 1 - comms_counts"
   ]
  },
  {
   "cell_type": "code",
   "execution_count": 863,
   "id": "947d54b0-f119-4a22-902a-96e242eece93",
   "metadata": {},
   "outputs": [],
   "source": [
    "a_b_means = [a_b[comms_counts == p].mean() for p in np.arange(0,1,0.05)]\n",
    "b_a_means = [b_a[comms_counts == p].mean() for p in np.arange(0,1,0.05)]"
   ]
  },
  {
   "cell_type": "code",
   "execution_count": 865,
   "id": "1385ec8e-4ddb-4faf-9da4-a517bc76902c",
   "metadata": {},
   "outputs": [
    {
     "data": {
      "text/plain": [
       "<AxesSubplot:>"
      ]
     },
     "execution_count": 865,
     "metadata": {},
     "output_type": "execute_result"
    },
    {
     "data": {
      "image/png": "[encoded data removed]",
      "text/plain": [
       "<Figure size 432x288 with 1 Axes>"
      ]
     },
     "metadata": {},
     "output_type": "display_data"
    }
   ],
   "source": [
    "sns.barplot(x=comms_counts.numpy(), y=a_b.numpy())"
   ]
  },
  {
   "cell_type": "code",
   "execution_count": 838,
   "id": "251d9c88-69d6-4599-8e31-06cdf1d4ef06",
   "metadata": {},
   "outputs": [
    {
     "data": {
      "text/plain": [
       "<AxesSubplot:>"
      ]
     },
     "execution_count": 838,
     "metadata": {},
     "output_type": "execute_result"
    },
    {
     "data": {
      "image/png": "[encoded data removed]",
      "text/plain": [
       "<Figure size 432x288 with 1 Axes>"
      ]
     },
     "metadata": {},
     "output_type": "display_data"
    }
   ],
   "source": [
    "sns.barplot(x=comms_counts.numpy(), y=a_b.numpy())"
   ]
  },
  {
   "cell_type": "code",
   "execution_count": 825,
   "id": "c9210576-fed8-45ba-b88a-b35e23585684",
   "metadata": {},
   "outputs": [
    {
     "data": {
      "text/plain": [
       "<matplotlib.legend.Legend at 0x7f776351e880>"
      ]
     },
     "execution_count": 825,
     "metadata": {},
     "output_type": "execute_result"
    },
    {
     "data": {
      "image/png": "[encoded data removed]",
      "text/plain": [
       "<Figure size 432x288 with 1 Axes>"
      ]
     },
     "metadata": {},
     "output_type": "display_data"
    }
   ],
   "source": [
    "plt.plot(np.arange(0,1,0.05),a_b_means, label='social_media')\n",
    "plt.plot(np.arange(0,1,0.05),b_a_means, label='comms')\n",
    "plt.legend()"
   ]
  },
  {
   "cell_type": "code",
   "execution_count": 743,
   "id": "c46cc5d0-d970-46c6-a680-d9121839eb28",
   "metadata": {},
   "outputs": [
    {
     "data": {
      "text/plain": [
       "<BarContainer object of 10 artists>"
      ]
     },
     "execution_count": 743,
     "metadata": {},
     "output_type": "execute_result"
    },
    {
     "data": {
      "image/png": "[encoded data removed]",
      "text/plain": [
       "<Figure size 432x288 with 1 Axes>"
      ]
     },
     "metadata": {},
     "output_type": "display_data"
    }
   ],
   "source": [
    "plt.bar(range(len(a_b)),a_b,alpha=0.5)\n",
    "plt.bar(range(len(b_a)),b_a,alpha=0.5)"
   ]
  },
  {
   "cell_type": "code",
   "execution_count": 540,
   "id": "25bf626f-9ef8-4b29-a772-ed0eb55ac6dd",
   "metadata": {},
   "outputs": [],
   "source": [
    "labels = ['s','s','s7p3','s5p5','s3p7','p','p']\n",
    "def flatten(tensor,labels):\n",
    "    df_list = []\n",
    "    for i in range(tensor.shape[0]):\n",
    "        tdf = pd.DataFrame(tensor[i].numpy())\n",
    "        tdf['label'] = labels[i]\n",
    "        tdf['step'] = list(range(1,tensor.shape[1]+1,1))\n",
    "        df_list.append(tdf)\n",
    "        # print(df[0].shape)\n",
    "    df = pd.concat(df_list,axis=0)\n",
    "    return df"
   ]
  },
  {
   "cell_type": "code",
   "execution_count": 41,
   "id": "e7ee02b3-5b6a-4ae6-991d-2732a98d1148",
   "metadata": {},
   "outputs": [
    {
     "data": {
      "text/plain": [
       "(147, 3)"
      ]
     },
     "execution_count": 41,
     "metadata": {},
     "output_type": "execute_result"
    }
   ],
   "source": [
    "df = flatten(a_b,labels)\n",
    "df.shape"
   ]
  },
  {
   "cell_type": "code",
   "execution_count": 45,
   "id": "a7b5e9f1-3911-416f-9af3-41d56a2d913a",
   "metadata": {},
   "outputs": [],
   "source": [
    "# fdf['step'] -= 0\n",
    "# fdf[fdf.step == 0] = 0\n",
    "df.columns = ['x','g','y']\n",
    "# fdf['x'] = np.log(fdf.x + 1e-5)\n",
    "df.head()\n",
    "fdf=df"
   ]
  },
  {
   "cell_type": "code",
   "execution_count": null,
   "id": "736c79d9-54ac-4264-841e-83582631d8d9",
   "metadata": {},
   "outputs": [],
   "source": []
  },
  {
   "cell_type": "code",
   "execution_count": null,
   "id": "e08412d8-b355-4ad4-9cf9-f8cb25b991a7",
   "metadata": {},
   "outputs": [],
   "source": []
  },
  {
   "cell_type": "code",
   "execution_count": 46,
   "id": "defcbc2d-6e2c-4627-aaf8-41865078ecfa",
   "metadata": {},
   "outputs": [
    {
     "name": "stderr",
     "output_type": "stream",
     "text": [
      "/home/showalte/.conda/envs/nlpenv/lib/python3.8/site-packages/seaborn/axisgrid.py:670: UserWarning: Using the barplot function without specifying `order` is likely to produce an incorrect plot.\n",
      "  warnings.warn(warning)\n"
     ]
    },
    {
     "data": {
      "text/plain": [
       "<seaborn.axisgrid.FacetGrid at 0x7f3622ec2130>"
      ]
     },
     "execution_count": 46,
     "metadata": {},
     "output_type": "execute_result"
    },
    {
     "data": {
      "image/png": "[encoded data removed]",
      "text/plain": [
       "<Figure size 576x288 with 5 Axes>"
      ]
     },
     "metadata": {
      "needs_background": "light"
     },
     "output_type": "display_data"
    }
   ],
   "source": [
    "# Initialize the FacetGrid object\n",
    "pal = sns.cubehelix_palette(9, rot=-.25, light=.7)\n",
    "g = sns.FacetGrid(fdf, row=\"g\", hue=\"g\", aspect=10, sharey=True, height=0.8, palette=pal)\n",
    "\n",
    "# Draw the densities in a few steps\n",
    "g.map(sns.barplot,'y','x',\n",
    "      fill=True, alpha=1, linewidth=0.5)\n",
    "# g.map(sns.kdeplot, \"x\", clip_on=False, color=\"w\", lw=2, bw_adjust=.5)\n",
    "\n",
    "# passing color=None to refline() uses the hue mapping\n",
    "g.refline(y=0, linewidth=2, linestyle=\"-\", color=None, clip_on=False)\n",
    "\n",
    "\n",
    "# Define and use a simple function to label the plot in axes coordinates\n",
    "def label(x, color, label):\n",
    "    ax = plt.gca()\n",
    "    ax.text(0, .8, label, fontweight=\"bold\", color=color,\n",
    "            ha=\"left\", va=\"center\", transform=ax.transAxes)\n",
    "\n",
    "\n",
    "g.map(label, \"x\")\n",
    "\n",
    "# Set the subplots to overlap\n",
    "g.figure.subplots_adjust(hspace=.03)\n",
    "\n",
    "# Remove axes details that don't play well with overlap\n",
    "g.set_titles(\"\")\n",
    "g.set(yticks=[], ylabel=\"\")\n",
    "# supxlabel(\"Steps\")\n",
    "g.despine(bottom=True, left=True)"
   ]
  },
  {
   "cell_type": "code",
   "execution_count": null,
   "id": "26aa2662-382f-47ad-bdfb-8aa4a0d50393",
   "metadata": {},
   "outputs": [],
   "source": []
  },
  {
   "cell_type": "code",
   "execution_count": null,
   "id": "eef05ab6-ca03-4c24-80c8-4fc9efffb5cf",
   "metadata": {},
   "outputs": [],
   "source": []
  }
 ],
 "metadata": {
  "kernelspec": {
   "display_name": "nlp_env",
   "language": "python",
   "name": "nlpenv"
  },
  "language_info": {
   "codemirror_mode": {
    "name": "ipython",
    "version": 3
   },
   "file_extension": ".py",
   "mimetype": "text/x-python",
   "name": "python",
   "nbconvert_exporter": "python",
   "pygments_lexer": "ipython3",
   "version": "3.8.8"
  }
 },
 "nbformat": 4,
 "nbformat_minor": 5
}
