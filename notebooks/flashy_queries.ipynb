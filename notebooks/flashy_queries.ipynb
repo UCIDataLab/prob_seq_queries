{
 "cells": [
  {
   "cell_type": "code",
   "execution_count": 100,
   "id": "12a58f13-38b6-4892-b8da-5489d58f3305",
   "metadata": {},
   "outputs": [
    {
     "name": "stdout",
     "output_type": "stream",
     "text": [
      "The autoreload extension is already loaded. To reload it, use:\n",
      "  %reload_ext autoreload\n"
     ]
    }
   ],
   "source": [
    "%load_ext autoreload\n",
    "%autoreload 2\n",
    "import matplotlib.pyplot as plt\n",
    "import seaborn as sns\n",
    "import os\n",
    "import pandas as pd\n",
    "import sys\n",
    "import numpy as np\n",
    "import glob\n",
    "import torch\n",
    "\n",
    "sys.path.insert(1,\"/home/showalte/research/prob_seq_queries/\")\n",
    "from seq_queries.utils import read_pkl, write_pkl"
   ]
  },
  {
   "cell_type": "code",
   "execution_count": 113,
   "id": "19ff0225-8e38-43b3-b0d3-ebf38852ee07",
   "metadata": {},
   "outputs": [],
   "source": [
    "ref = [\n",
    "    \"In my opinion ... \",\n",
    "    \"            go ... \",\n",
    "    \"Hi, my name is ... \",\n",
    "    \"                    Where is ... \",\n",
    "    \"Once upon a ...\",\n",
    "    \"Would you ...\",\n",
    "    \"                Say ...\",\n",
    "]\n",
    "    \n",
    "    "
   ]
  },
  {
   "cell_type": "code",
   "execution_count": 114,
   "id": "5b7e2dff-2ebc-408e-a507-f7df94c585bc",
   "metadata": {},
   "outputs": [],
   "source": [
    "path = \"../data/flashy/flashy_gpt2/val_dl/val-dl_flashy_gpt2_flashy_1000mc.pkl\"\n",
    "data = read_pkl(path)"
   ]
  },
  {
   "cell_type": "code",
   "execution_count": 115,
   "id": "0cf7c3f5-204c-4fd9-9057-2f2787936123",
   "metadata": {},
   "outputs": [],
   "source": [
    "# print(data.keys())\n",
    "df = data['intermediate_query_probs'][:,:,[30,13,0,26]]"
   ]
  },
  {
   "cell_type": "code",
   "execution_count": null,
   "id": "60b3ba86-d853-41d8-9d31-c3ba0fcf3f00",
   "metadata": {},
   "outputs": [],
   "source": []
  },
  {
   "cell_type": "code",
   "execution_count": 116,
   "id": "20ac002f-08d9-4059-8118-18aa718a3d13",
   "metadata": {},
   "outputs": [],
   "source": [
    "# for i in range(7):\n",
    "#     plt.figure(figsize = (12,8))\n",
    "#     plt.bar(range(21),df[i].sum(dim=-1).numpy(),label=ref[i])\n",
    "#     plt.legend()\n",
    "#     plt.ylim(0,0.13)\n",
    "#     plt.show()"
   ]
  },
  {
   "cell_type": "code",
   "execution_count": 117,
   "id": "a153f979-20e7-4a73-9bdc-4ab4089dda44",
   "metadata": {},
   "outputs": [
    {
     "data": {
      "text/html": [
       "<div>\n",
       "<style scoped>\n",
       "    .dataframe tbody tr th:only-of-type {\n",
       "        vertical-align: middle;\n",
       "    }\n",
       "\n",
       "    .dataframe tbody tr th {\n",
       "        vertical-align: top;\n",
       "    }\n",
       "\n",
       "    .dataframe thead th {\n",
       "        text-align: right;\n",
       "    }\n",
       "</style>\n",
       "<table border=\"1\" class=\"dataframe\">\n",
       "  <thead>\n",
       "    <tr style=\"text-align: right;\">\n",
       "      <th></th>\n",
       "      <th>x</th>\n",
       "      <th>g</th>\n",
       "      <th>Steps in Sequence</th>\n",
       "    </tr>\n",
       "  </thead>\n",
       "  <tbody>\n",
       "    <tr>\n",
       "      <th>0</th>\n",
       "      <td>0.000098</td>\n",
       "      <td>In my opinion ...</td>\n",
       "      <td>1</td>\n",
       "    </tr>\n",
       "    <tr>\n",
       "      <th>1</th>\n",
       "      <td>0.003309</td>\n",
       "      <td>In my opinion ...</td>\n",
       "      <td>2</td>\n",
       "    </tr>\n",
       "    <tr>\n",
       "      <th>2</th>\n",
       "      <td>0.006042</td>\n",
       "      <td>In my opinion ...</td>\n",
       "      <td>3</td>\n",
       "    </tr>\n",
       "    <tr>\n",
       "      <th>3</th>\n",
       "      <td>0.012425</td>\n",
       "      <td>In my opinion ...</td>\n",
       "      <td>4</td>\n",
       "    </tr>\n",
       "    <tr>\n",
       "      <th>4</th>\n",
       "      <td>0.012305</td>\n",
       "      <td>In my opinion ...</td>\n",
       "      <td>5</td>\n",
       "    </tr>\n",
       "  </tbody>\n",
       "</table>\n",
       "</div>"
      ],
      "text/plain": [
       "          x                   g  Steps in Sequence\n",
       "0  0.000098  In my opinion ...                   1\n",
       "1  0.003309  In my opinion ...                   2\n",
       "2  0.006042  In my opinion ...                   3\n",
       "3  0.012425  In my opinion ...                   4\n",
       "4  0.012305  In my opinion ...                   5"
      ]
     },
     "execution_count": 117,
     "metadata": {},
     "output_type": "execute_result"
    }
   ],
   "source": [
    "df_list = []\n",
    "for i in range(df.shape[0]):\n",
    "    tdf = pd.DataFrame(df[i].sum(dim=-1).numpy())\n",
    "    tdf['label'] = ref[i]\n",
    "    tdf['step'] = list(range(1,22,1))\n",
    "    df_list.append(tdf)\n",
    "    # print(df[0].shape)\n",
    "fdf = pd.concat(df_list,axis=0)\n",
    "# fdf['step'] -= 0\n",
    "# fdf[fdf.step == 0] = 0\n",
    "fdf.shape\n",
    "fdf = fdf[fdf.step < 15]\n",
    "fdf.columns = ['x','g','Steps in Sequence']\n",
    "fdf.head()"
   ]
  },
  {
   "cell_type": "code",
   "execution_count": 118,
   "id": "92c80b2f-8a21-4dcd-bb53-f251f310f6e4",
   "metadata": {},
   "outputs": [
    {
     "name": "stderr",
     "output_type": "stream",
     "text": [
      "/home/showalte/.conda/envs/nlpenv/lib/python3.8/site-packages/seaborn/axisgrid.py:670: UserWarning: Using the barplot function without specifying `order` is likely to produce an incorrect plot.\n",
      "  warnings.warn(warning)\n"
     ]
    },
    {
     "data": {
      "text/plain": [
       "<seaborn.axisgrid.FacetGrid at 0x7f749e649790>"
      ]
     },
     "execution_count": 118,
     "metadata": {},
     "output_type": "execute_result"
    },
    {
     "data": {
      "image/png": "[encoded data removed]",
      "text/plain": [
       "<Figure size 576x403.2 with 7 Axes>"
      ]
     },
     "metadata": {},
     "output_type": "display_data"
    }
   ],
   "source": [
    "import numpy as np\n",
    "import pandas as pd\n",
    "import seaborn as sns\n",
    "import matplotlib.pyplot as plt\n",
    "sns.set_theme(style=\"white\", rc={\"axes.facecolor\": (0, 0, 0, 0)})\n",
    "\n",
    "# # Create the data\n",
    "# rs = np.random.RandomState(1979)\n",
    "# x = rs.randn(500)\n",
    "# g = np.tile(list(\"ABCDEFGHIJ\"), 50)\n",
    "# df = pd.DataFrame(dict(x=x, g=g))\n",
    "# m = df.g.map(ord)\n",
    "# print(df.head())\n",
    "# df[\"x\"] += m\n",
    "\n",
    "# Initialize the FacetGrid object\n",
    "pal = sns.cubehelix_palette(7, rot=-.25, light=.7)\n",
    "g = sns.FacetGrid(fdf, row=\"g\", hue=\"g\", aspect=10, sharey=True,ylim=(0,0.11), height=0.8, palette=pal)\n",
    "\n",
    "# Draw the densities in a few steps\n",
    "g.map(sns.barplot,'Steps in Sequence','x',\n",
    "      fill=True, alpha=1, linewidth=0.5)\n",
    "# g.map(sns.kdeplot, \"x\", clip_on=False, color=\"w\", lw=2, bw_adjust=.5)\n",
    "\n",
    "# passing color=None to refline() uses the hue mapping\n",
    "g.refline(y=0, linewidth=2, linestyle=\"-\", color=None, clip_on=False)\n",
    "\n",
    "\n",
    "# Define and use a simple function to label the plot in axes coordinates\n",
    "def label(x, color, label):\n",
    "    ax = plt.gca()\n",
    "    ax.text(0, .8, label, fontweight=\"bold\", color=color,\n",
    "            ha=\"left\", va=\"center\", transform=ax.transAxes)\n",
    "\n",
    "\n",
    "g.map(label, \"x\")\n",
    "\n",
    "# Set the subplots to overlap\n",
    "g.figure.subplots_adjust(hspace=.03)\n",
    "\n",
    "# Remove axes details that don't play well with overlap\n",
    "g.set_titles(\"\")\n",
    "g.set(yticks=[], ylabel=\"\")\n",
    "# supxlabel(\"Steps\")\n",
    "g.despine(bottom=True, left=True)"
   ]
  },
  {
   "cell_type": "markdown",
   "id": "19754679-0e1a-4177-91a0-40649487dacf",
   "metadata": {},
   "source": [
    "## Flashy Apps"
   ]
  },
  {
   "cell_type": "code",
   "execution_count": 202,
   "id": "a2ff843c-5239-4cae-8e15-5b1d729bcf94",
   "metadata": {},
   "outputs": [],
   "source": [
    "path = \"../data/flashy/flashy_apps/val_dl/val-dl_flashy_apps_flashy_10000mc.pkl\"\n",
    "data = read_pkl(path)"
   ]
  },
  {
   "cell_type": "code",
   "execution_count": 203,
   "id": "a7915497-1032-41eb-90d9-2247c4fe5e24",
   "metadata": {},
   "outputs": [],
   "source": [
    "# print(data['intermediate_query_probs'].shape)\n",
    "# data = torch.LongTensor(samples).unsqueeze(-1)\n",
    "# print(data)\n",
    "# data = data.expand(9,16)\n",
    "# data.shape"
   ]
  },
  {
   "cell_type": "code",
   "execution_count": 204,
   "id": "01515c35-9faa-49d1-bd2d-5492d572fc61",
   "metadata": {},
   "outputs": [
    {
     "name": "stdout",
     "output_type": "stream",
     "text": [
      "torch.Size([9, 16, 1])\n",
      "torch.Size([9, 16, 88])\n"
     ]
    }
   ],
   "source": [
    "samples = [45,85,47,31,8,65,67,9,57]\n",
    "lst = ['Mine','youtube','netflix','hulu','calculator','settings','snapchat','calendar','reddit']\n",
    "left = torch.gather(data['intermediate_query_probs'],-1,\n",
    "                    torch.LongTensor(samples).unsqueeze(-1).expand(9,16).unsqueeze(-1))\n",
    "print(left.shape)\n",
    "print(data['intermediate_query_probs'].shape)\n",
    "tots = data['intermediate_query_probs'].sum(dim=-1) - left.squeeze()"
   ]
  },
  {
   "cell_type": "code",
   "execution_count": 205,
   "id": "d778883f-328d-44ee-a00a-87d52dab7ed1",
   "metadata": {},
   "outputs": [
    {
     "data": {
      "text/html": [
       "<div>\n",
       "<style scoped>\n",
       "    .dataframe tbody tr th:only-of-type {\n",
       "        vertical-align: middle;\n",
       "    }\n",
       "\n",
       "    .dataframe tbody tr th {\n",
       "        vertical-align: top;\n",
       "    }\n",
       "\n",
       "    .dataframe thead th {\n",
       "        text-align: right;\n",
       "    }\n",
       "</style>\n",
       "<table border=\"1\" class=\"dataframe\">\n",
       "  <thead>\n",
       "    <tr style=\"text-align: right;\">\n",
       "      <th></th>\n",
       "      <th>x</th>\n",
       "      <th>g</th>\n",
       "      <th>y</th>\n",
       "    </tr>\n",
       "  </thead>\n",
       "  <tbody>\n",
       "    <tr>\n",
       "      <th>0</th>\n",
       "      <td>0.862466</td>\n",
       "      <td>Mine</td>\n",
       "      <td>1</td>\n",
       "    </tr>\n",
       "    <tr>\n",
       "      <th>1</th>\n",
       "      <td>0.135973</td>\n",
       "      <td>Mine</td>\n",
       "      <td>2</td>\n",
       "    </tr>\n",
       "    <tr>\n",
       "      <th>2</th>\n",
       "      <td>0.001560</td>\n",
       "      <td>Mine</td>\n",
       "      <td>3</td>\n",
       "    </tr>\n",
       "    <tr>\n",
       "      <th>3</th>\n",
       "      <td>0.000002</td>\n",
       "      <td>Mine</td>\n",
       "      <td>4</td>\n",
       "    </tr>\n",
       "    <tr>\n",
       "      <th>0</th>\n",
       "      <td>0.210578</td>\n",
       "      <td>youtube</td>\n",
       "      <td>1</td>\n",
       "    </tr>\n",
       "  </tbody>\n",
       "</table>\n",
       "</div>"
      ],
      "text/plain": [
       "          x        g  y\n",
       "0  0.862466     Mine  1\n",
       "1  0.135973     Mine  2\n",
       "2  0.001560     Mine  3\n",
       "3  0.000002     Mine  4\n",
       "0  0.210578  youtube  1"
      ]
     },
     "execution_count": 205,
     "metadata": {},
     "output_type": "execute_result"
    }
   ],
   "source": [
    "df_list = []\n",
    "for i in range(tots.shape[0]):\n",
    "    tdf = pd.DataFrame(tots[i].numpy())\n",
    "    tdf['label'] = lst[i]\n",
    "    tdf['step'] = list(range(1,tots.shape[1]+1,1))\n",
    "    df_list.append(tdf)\n",
    "    # print(df[0].shape)\n",
    "fdf = pd.concat(df_list,axis=0)\n",
    "# fdf['step'] -= 0\n",
    "# fdf[fdf.step == 0] = 0\n",
    "fdf.shape\n",
    "fdf = fdf[fdf.step < 5]\n",
    "fdf.columns = ['x','g','y']\n",
    "# fdf['x'] = np.log(fdf.x + 1e-5)\n",
    "fdf.head()"
   ]
  },
  {
   "cell_type": "code",
   "execution_count": null,
   "id": "e08412d8-b355-4ad4-9cf9-f8cb25b991a7",
   "metadata": {},
   "outputs": [],
   "source": []
  },
  {
   "cell_type": "code",
   "execution_count": 206,
   "id": "defcbc2d-6e2c-4627-aaf8-41865078ecfa",
   "metadata": {},
   "outputs": [
    {
     "name": "stderr",
     "output_type": "stream",
     "text": [
      "/home/showalte/.conda/envs/nlpenv/lib/python3.8/site-packages/seaborn/axisgrid.py:670: UserWarning: Using the barplot function without specifying `order` is likely to produce an incorrect plot.\n",
      "  warnings.warn(warning)\n"
     ]
    },
    {
     "data": {
      "text/plain": [
       "<seaborn.axisgrid.FacetGrid at 0x7f749a868400>"
      ]
     },
     "execution_count": 206,
     "metadata": {},
     "output_type": "execute_result"
    },
    {
     "data": {
      "image/png": "[encoded data removed]",
      "text/plain": [
       "<Figure size 576x518.4 with 9 Axes>"
      ]
     },
     "metadata": {},
     "output_type": "display_data"
    }
   ],
   "source": [
    "# Initialize the FacetGrid object\n",
    "pal = sns.cubehelix_palette(9, rot=-.25, light=.7)\n",
    "g = sns.FacetGrid(fdf, row=\"g\", hue=\"g\", aspect=10, sharey=True, height=0.8, palette=pal)\n",
    "\n",
    "# Draw the densities in a few steps\n",
    "g.map(sns.barplot,'y','x',\n",
    "      fill=True, alpha=1, linewidth=0.5)\n",
    "# g.map(sns.kdeplot, \"x\", clip_on=False, color=\"w\", lw=2, bw_adjust=.5)\n",
    "\n",
    "# passing color=None to refline() uses the hue mapping\n",
    "g.refline(y=0, linewidth=2, linestyle=\"-\", color=None, clip_on=False)\n",
    "\n",
    "\n",
    "# Define and use a simple function to label the plot in axes coordinates\n",
    "def label(x, color, label):\n",
    "    ax = plt.gca()\n",
    "    ax.text(0, .8, label, fontweight=\"bold\", color=color,\n",
    "            ha=\"left\", va=\"center\", transform=ax.transAxes)\n",
    "\n",
    "\n",
    "g.map(label, \"x\")\n",
    "\n",
    "# Set the subplots to overlap\n",
    "g.figure.subplots_adjust(hspace=.03)\n",
    "\n",
    "# Remove axes details that don't play well with overlap\n",
    "g.set_titles(\"\")\n",
    "g.set(yticks=[], ylabel=\"\")\n",
    "# supxlabel(\"Steps\")\n",
    "g.despine(bottom=True, left=True)"
   ]
  },
  {
   "cell_type": "code",
   "execution_count": null,
   "id": "26aa2662-382f-47ad-bdfb-8aa4a0d50393",
   "metadata": {},
   "outputs": [],
   "source": []
  },
  {
   "cell_type": "code",
   "execution_count": null,
   "id": "eef05ab6-ca03-4c24-80c8-4fc9efffb5cf",
   "metadata": {},
   "outputs": [],
   "source": []
  }
 ],
 "metadata": {
  "kernelspec": {
   "display_name": "nlp_env",
   "language": "python",
   "name": "nlpenv"
  },
  "language_info": {
   "codemirror_mode": {
    "name": "ipython",
    "version": 3
   },
   "file_extension": ".py",
   "mimetype": "text/x-python",
   "name": "python",
   "nbconvert_exporter": "python",
   "pygments_lexer": "ipython3",
   "version": "3.8.8"
  }
 },
 "nbformat": 4,
 "nbformat_minor": 5
}
