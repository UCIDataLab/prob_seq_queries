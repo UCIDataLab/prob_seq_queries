{
 "cells": [
  {
   "cell_type": "code",
   "execution_count": 1,
   "id": "b94d0579-1b00-44cb-99f3-14dd3f42c24d",
   "metadata": {},
   "outputs": [],
   "source": [
    "%load_ext autoreload\n",
    "%autoreload 2\n",
    "import matplotlib.pyplot as plt\n",
    "import seaborn as sns\n",
    "import os\n",
    "import pandas as pd\n",
    "import sys\n",
    "from torch.nn.utils.rnn import pad_sequence\n",
    "import numpy as np\n",
    "import glob\n",
    "import torch\n",
    "\n",
    "sys.path.insert(1,\"/home/showalte/research/prob_seq_queries/\")\n",
    "from seq_queries.utils import read_pkl, write_pkl"
   ]
  },
  {
   "cell_type": "code",
   "execution_count": 38,
   "id": "de36963e-f48a-4549-88cf-1c271f9dc86c",
   "metadata": {},
   "outputs": [
    {
     "name": "stdout",
     "output_type": "stream",
     "text": [
      "(100, 10)\n",
      "(100, 12)\n",
      "(100, 12)\n"
     ]
    }
   ],
   "source": [
    "coverages=[0.95,0.75,0.5]\n",
    "dataset = \"moocs\"\n",
    "num_queries = 100\n",
    "dfs = []\n",
    "for cov in coverages:\n",
    "    paths = glob.glob(f\"../data/beam_search_ablation/{dataset}/val_dl/val-dl_{dataset}_beam-search-ablation*_{cov}b_*{num_queries}q.pkl\")\n",
    "    # print(paths)\n",
    "    data = read_pkl(paths[0])\n",
    "    pad_res = pad_sequence(data['num_beams_over_time']).T\n",
    "    df = pd.DataFrame(pad_res.numpy())\n",
    "    df['sequence_id'] = list(range(df.shape[0]))\n",
    "    df['coverage'] = cov\n",
    "    df = df[['coverage','sequence_id'] + list(range(pad_res.shape[-1]))]\n",
    "    print(df.shape)\n",
    "    dfs.append(df)"
   ]
  },
  {
   "cell_type": "code",
   "execution_count": 39,
   "id": "ef7ba2b3-9123-41ff-8f65-c1283db8711a",
   "metadata": {},
   "outputs": [],
   "source": [
    "dfs[0][8] = 0\n",
    "dfs[0][9] = 0"
   ]
  },
  {
   "cell_type": "code",
   "execution_count": 41,
   "id": "f2d420bf-9fef-4baa-b386-1fe0087e579a",
   "metadata": {},
   "outputs": [
    {
     "data": {
      "text/plain": [
       "coverage       0\n",
       "sequence_id    0\n",
       "0              0\n",
       "1              0\n",
       "2              0\n",
       "3              0\n",
       "4              0\n",
       "5              0\n",
       "6              0\n",
       "7              0\n",
       "8              0\n",
       "9              0\n",
       "dtype: int64"
      ]
     },
     "execution_count": 41,
     "metadata": {},
     "output_type": "execute_result"
    }
   ],
   "source": [
    "final_df.isnull().sum()"
   ]
  },
  {
   "cell_type": "code",
   "execution_count": 42,
   "id": "749828c0-3d8f-4060-9d30-43c137dc7726",
   "metadata": {},
   "outputs": [],
   "source": [
    "# final_df = pd.concat(dfs,axis=0)\n",
    "final_df.to_csv(\"moocs_bs-ablation_95-75-50b.csv\",index=None)"
   ]
  },
  {
   "cell_type": "code",
   "execution_count": 13,
   "id": "9d2f693b-246a-4064-8a21-10d025d99899",
   "metadata": {},
   "outputs": [
    {
     "data": {
      "text/plain": [
       "tensor([     3,     71,    489,   4166,  27119, 168059])"
      ]
     },
     "execution_count": 13,
     "metadata": {},
     "output_type": "execute_result"
    }
   ],
   "source": [
    "data['num_beams_over_time'][0]"
   ]
  },
  {
   "cell_type": "code",
   "execution_count": 17,
   "id": "b93b3b80-8a76-4f30-81c2-c28f3abbb085",
   "metadata": {},
   "outputs": [],
   "source": [
    "res = pad_sequence(data['num_beams_over_time']).T"
   ]
  },
  {
   "cell_type": "code",
   "execution_count": 18,
   "id": "3f303f3c-9d58-4281-aca5-16087fd12c71",
   "metadata": {},
   "outputs": [
    {
     "data": {
      "text/plain": [
       "torch.Size([100, 10])"
      ]
     },
     "execution_count": 18,
     "metadata": {},
     "output_type": "execute_result"
    }
   ],
   "source": [
    "res.shape"
   ]
  },
  {
   "cell_type": "code",
   "execution_count": 19,
   "id": "8a0c7417-fd7c-4848-b474-9450cb226241",
   "metadata": {},
   "outputs": [
    {
     "data": {
      "text/plain": [
       "tensor([[     3,     71,    489,   4166,  27119, 168059,      0,      0,      0,\n",
       "              0],\n",
       "        [    14,    139,   1665,  14556, 117011,      0,      0,      0,      0,\n",
       "              0],\n",
       "        [    14,    118,    848,   5331,  32386, 178677,      0,      0,      0,\n",
       "              0],\n",
       "        [    22,    134,    952,   5339,  24093,  93056,      0,      0,      0,\n",
       "              0],\n",
       "        [     5,     45,    334,   2604,  16611,  98186,      0,      0,      0,\n",
       "              0],\n",
       "        [    35,    215,   1514,   7875,  41485, 220398,      0,      0,      0,\n",
       "              0],\n",
       "        [     6,     21,    155,   1006,   6486,  40746, 252463,      0,      0,\n",
       "              0],\n",
       "        [    35,    209,   1856,  12793,  84576,      0,      0,      0,      0,\n",
       "              0],\n",
       "        [    14,    115,   1016,   7138,  47970, 280113,      0,      0,      0,\n",
       "              0],\n",
       "        [    43,    300,   2724,  18046, 109730,      0,      0,      0,      0,\n",
       "              0]])"
      ]
     },
     "execution_count": 19,
     "metadata": {},
     "output_type": "execute_result"
    }
   ],
   "source": []
  },
  {
   "cell_type": "code",
   "execution_count": null,
   "id": "848aebc1-cc15-428b-ad67-698b89b63976",
   "metadata": {},
   "outputs": [],
   "source": []
  }
 ],
 "metadata": {
  "kernelspec": {
   "display_name": "nlp_env",
   "language": "python",
   "name": "nlpenv"
  },
  "language_info": {
   "codemirror_mode": {
    "name": "ipython",
    "version": 3
   },
   "file_extension": ".py",
   "mimetype": "text/x-python",
   "name": "python",
   "nbconvert_exporter": "python",
   "pygments_lexer": "ipython3",
   "version": "3.8.8"
  }
 },
 "nbformat": 4,
 "nbformat_minor": 5
}
